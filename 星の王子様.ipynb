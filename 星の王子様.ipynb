{
  "nbformat": 4,
  "nbformat_minor": 0,
  "metadata": {
    "colab": {
      "name": "星の王子様.ipynb",
      "provenance": [],
      "collapsed_sections": [],
      "authorship_tag": "ABX9TyOCpgb0H1WuSRhuPB/J5G4y",
      "include_colab_link": true
    },
    "kernelspec": {
      "name": "python3",
      "display_name": "Python 3"
    },
    "language_info": {
      "name": "python"
    }
  },
  "cells": [
    {
      "cell_type": "markdown",
      "metadata": {
        "id": "view-in-github",
        "colab_type": "text"
      },
      "source": [
        "<a href=\"https://colab.research.google.com/github/afujii/class/blob/main/%E6%98%9F%E3%81%AE%E7%8E%8B%E5%AD%90%E6%A7%98.ipynb\" target=\"_parent\"><img src=\"https://colab.research.google.com/assets/colab-badge.svg\" alt=\"Open In Colab\"/></a>"
      ]
    },
    {
      "cell_type": "markdown",
      "metadata": {
        "id": "EAaZ7YI3CXxN"
      },
      "source": [
        "はじめに文字列について復習します。次の　s は、文字列型となります。"
      ]
    },
    {
      "cell_type": "code",
      "metadata": {
        "colab": {
          "base_uri": "https://localhost:8080/"
        },
        "id": "UgtHJM_ZBip9",
        "outputId": "bd22f687-cb9f-41f5-b543-9fd87341c45b"
      },
      "source": [
        "s = \"Once when I was six years old I saw a magnificent picture in a book, called True Stories from Nature, about the primeval forest.\"\n",
        "chars = [ x for x in s]\n",
        "print(chars[0:10])"
      ],
      "execution_count": null,
      "outputs": [
        {
          "output_type": "stream",
          "name": "stdout",
          "text": [
            "['O', 'n', 'c', 'e', ' ', 'w', 'h', 'e', 'n', ' ']\n"
          ]
        }
      ]
    },
    {
      "cell_type": "markdown",
      "metadata": {
        "id": "3juemOb0C5iu"
      },
      "source": [
        "まず、文字列は、\"\"で囲います。これは、文字の並びです。chars は、「リスト内包処理」を利用して各文字をリストデータ型に格納しています。リスト内の要素には、順序があり、要素は大かっこ［　］を利用して、スライスすることで、リストの部分として要素の集合を取り出すことができます。"
      ]
    },
    {
      "cell_type": "markdown",
      "metadata": {
        "id": "OByxBofMECre"
      },
      "source": [
        "文字列(String)やリストは、.split() .join() などの関数（オブジェクトに対するクラスメソッド）が利用できます。"
      ]
    },
    {
      "cell_type": "code",
      "metadata": {
        "colab": {
          "base_uri": "https://localhost:8080/"
        },
        "id": "5K8MP7MAD_EG",
        "outputId": "7c2c78a2-72d7-4007-81ff-2d99d7080c87"
      },
      "source": [
        "news = s.split()\n",
        "print(type(s))\n",
        "print(type(news))\n",
        "print(news)\n"
      ],
      "execution_count": null,
      "outputs": [
        {
          "output_type": "stream",
          "name": "stdout",
          "text": [
            "<class 'str'>\n",
            "<class 'list'>\n",
            "['Once', 'when', 'I', 'was', 'six', 'years', 'old', 'I', 'saw', 'a', 'magnificent', 'picture', 'in', 'a', 'book,', 'called', 'True', 'Stories', 'from', 'Nature,', 'about', 'the', 'primeval', 'forest.']\n"
          ]
        }
      ]
    },
    {
      "cell_type": "markdown",
      "metadata": {
        "id": "peP0M4M5LuZx"
      },
      "source": [
        "文字列に対して .split() 関数を適用させると、デフォルトでスペースを対象として文字列を分割して、それぞれを要素としてリストに格納します。\n",
        "次の例では、文字「a」で分割しています。"
      ]
    },
    {
      "cell_type": "code",
      "metadata": {
        "colab": {
          "base_uri": "https://localhost:8080/"
        },
        "id": "DBpstYXkMKhg",
        "outputId": "d5a65b06-7a36-4bd7-9985-9c316d318237"
      },
      "source": [
        "news2 = s.split('a')\n",
        "print(news2)"
      ],
      "execution_count": null,
      "outputs": [
        {
          "output_type": "stream",
          "name": "stdout",
          "text": [
            "['Once when I w', 's six ye', 'rs old I s', 'w ', ' m', 'gnificent picture in ', ' book, c', 'lled True Stories from N', 'ture, ', 'bout the primev', 'l forest.']\n"
          ]
        }
      ]
    },
    {
      "cell_type": "markdown",
      "metadata": {
        "id": "eN0xnYWbMw-o"
      },
      "source": [
        ".join() を文字列に対して適用させる次の例を実行してみてください。"
      ]
    },
    {
      "cell_type": "code",
      "metadata": {
        "colab": {
          "base_uri": "https://localhost:8080/"
        },
        "id": "rVBmRcBVM4Dw",
        "outputId": "ad8f6a4b-5b03-4c89-b480-a6b7cffbb036"
      },
      "source": [
        "x = \"\".join(news)\n",
        "print(x)"
      ],
      "execution_count": null,
      "outputs": [
        {
          "output_type": "stream",
          "name": "stdout",
          "text": [
            "OncewhenIwassixyearsoldIsawamagnificentpictureinabook,calledTrueStoriesfromNature,abouttheprimevalforest.\n"
          ]
        }
      ]
    },
    {
      "cell_type": "markdown",
      "metadata": {
        "id": "grW7Ra7LNF9W"
      },
      "source": [
        "「\"\"」空の文字列（string型）です。空ですが、関数.join() が利用できます。join()は、引数として与えたリストをすべて結合して元の（空の）文字列に連結します。機能としてはあまり有用でないように思われるでしょう。まずは、関数の利用方法の例と捉えてください。\n"
      ]
    },
    {
      "cell_type": "markdown",
      "metadata": {
        "id": "UDlrt-msORaJ"
      },
      "source": [
        "次に長い文字列を扱う方法を説明します。改行を含む場合は、　「\"\"\"」で囲います。"
      ]
    },
    {
      "cell_type": "code",
      "metadata": {
        "id": "07RF7VX0Oa-7"
      },
      "source": [
        "sentences = \"\"\"\n",
        "Once when I was six years old I saw a magnificent picture in a book, called True Stories from Nature, about the primeval forest. It was a picture of a boa constrictor in the act of swallowing an animal. Here is a copy of the drawing.\n",
        "Boa\n",
        "In the book it said: \"Boa constrictors swallow their prey whole, without chewing it. After that they are not able to move, and they sleep through the six months that they need for digestion.\"\n",
        "I pondered deeply, then, over the adventures of the jungle. And after some work with a colored pencil I succeeded in making my first drawing. My Drawing Number One. It looked something like this:\n",
        "Hat\n",
        "I showed my masterpiece to the grown-ups, and asked them whether the drawing frightened them.\n",
        "But they answered: \"Frighten? Why should any one be frightened by a hat?\"\n",
        "My drawing was not a picture of a hat. It was a picture of a boa constrictor digesting an elephant. But since the grown-ups were not able to understand it, I made another drawing: I drew the inside of a boa constrictor, so that the grown-ups could see it clearly. They always need to have things explained. My Drawing Number Two looked like this:\n",
        "Elephant inside the boa\n",
        "The grown-ups' response, this time, was to advise me to lay aside my drawings of boa constrictors, whether from the inside or the outside, and devote myself instead to geography, history, arithmetic, and grammar. That is why, at the age of six, I gave up what might have been a magnificent career as a painter. I had been disheartened by the failure of my Drawing Number One and my Drawing Number Two. Grown-ups never understand anything by themselves, and it is tiresome for children to be always and forever explaining things to them.\n",
        "So then I chose another profession, and learned to pilot airplanes. I have flown a little over all parts of the world; and it is true that geography has been very useful to me. At a glance I can distinguish China from Arizona. If one gets lost in the night, such knowledge is valuable.\n",
        "In the course of this life I have had a great many encounters with a great many people who have been concerned with matters of consequence. I have lived a great deal among grown-ups. I have seen them intimately, close at hand. And that hasn't much improved my opinion of them.\n",
        "Whenever I met one of them who seemed to me at all clear-sighted, I tried the experiment of showing him my Drawing Number One, which I have always kept. I would try to find out, so, if this was a person of true understanding. But, whoever it was, he, or she, would always say:\n",
        "\"That is a hat.\"\n",
        "Then I would never talk to that person about boa constrictors, or primeval forests, or stars. I would bring myself down to his level. I would talk to him about bridge, and golf, and politics, and neckties. And the grown-up would be greatly pleased to have met such a sensible man.\n",
        "\"\"\""
      ],
      "execution_count": null,
      "outputs": []
    },
    {
      "cell_type": "markdown",
      "metadata": {
        "id": "U8xK2I8HPZrS"
      },
      "source": [
        "以下で文字数を表示します。"
      ]
    },
    {
      "cell_type": "code",
      "metadata": {
        "colab": {
          "base_uri": "https://localhost:8080/"
        },
        "id": "3ND72BkjPTBc",
        "outputId": "ec212cd2-fd4c-4835-89e0-c58742caa6ac"
      },
      "source": [
        "print(len(sentences))"
      ],
      "execution_count": null,
      "outputs": [
        {
          "output_type": "stream",
          "name": "stdout",
          "text": [
            "2845\n"
          ]
        }
      ]
    },
    {
      "cell_type": "markdown",
      "metadata": {
        "id": "_eWJz5alPhIq"
      },
      "source": [
        "以下で単語数を表します。"
      ]
    },
    {
      "cell_type": "code",
      "metadata": {
        "colab": {
          "base_uri": "https://localhost:8080/"
        },
        "id": "mK6M7T_sPlPB",
        "outputId": "1c0ea8f4-a161-4391-a8ca-b438ac899522"
      },
      "source": [
        "words = [ w for w in sentences.split() ]\n",
        "print(len(words))"
      ],
      "execution_count": null,
      "outputs": [
        {
          "output_type": "stream",
          "name": "stdout",
          "text": [
            "519\n"
          ]
        }
      ]
    },
    {
      "cell_type": "markdown",
      "metadata": {
        "id": "Jkd-OVcMQ1eD"
      },
      "source": [
        "以下で、10番目までの単語を順に表示します。\n"
      ]
    },
    {
      "cell_type": "code",
      "metadata": {
        "colab": {
          "base_uri": "https://localhost:8080/"
        },
        "id": "P_KhaFPwQ9bU",
        "outputId": "f4e8bfd1-04f6-4137-d76a-790d936e8ea5"
      },
      "source": [
        "for w in words[0:10]:\n",
        "  print(w)\n"
      ],
      "execution_count": null,
      "outputs": [
        {
          "output_type": "stream",
          "name": "stdout",
          "text": [
            "Once\n",
            "when\n",
            "I\n",
            "was\n",
            "six\n",
            "years\n",
            "old\n",
            "I\n",
            "saw\n",
            "a\n"
          ]
        }
      ]
    },
    {
      "cell_type": "markdown",
      "metadata": {
        "id": "kLwQuI9RRJja"
      },
      "source": [
        "以上、文字列の扱い、リストとの関係、split() などの使いかた、をよく理解してください。"
      ]
    }
  ]
}