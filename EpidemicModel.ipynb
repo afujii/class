{
  "nbformat": 4,
  "nbformat_minor": 0,
  "metadata": {
    "colab": {
      "name": "EpidemicModel.ipynb",
      "provenance": [],
      "collapsed_sections": [],
      "authorship_tag": "ABX9TyPTOPzBf2HQI0DrO8+nbPm+",
      "include_colab_link": true
    },
    "kernelspec": {
      "name": "python3",
      "display_name": "Python 3"
    },
    "language_info": {
      "name": "python"
    }
  },
  "cells": [
    {
      "cell_type": "markdown",
      "metadata": {
        "id": "view-in-github",
        "colab_type": "text"
      },
      "source": [
        "<a href=\"https://colab.research.google.com/github/afujii/class/blob/main/EpidemicModel.ipynb\" target=\"_parent\"><img src=\"https://colab.research.google.com/assets/colab-badge.svg\" alt=\"Open In Colab\"/></a>"
      ]
    },
    {
      "cell_type": "markdown",
      "metadata": {
        "id": "ilrPrqFvW0gd"
      },
      "source": [
        "# The epidemic models　疫学的モデルのシミュレーションを示す。"
      ]
    },
    {
      "cell_type": "markdown",
      "metadata": {
        "id": "26ct-HdDwlw3"
      },
      "source": [
        "S: 病気にかかる可能性のある人口、I：今かかっている人、R:回復した人。　回復した人は「免疫」の効果による。"
      ]
    },
    {
      "cell_type": "markdown",
      "metadata": {
        "id": "D3PuZBmkXFoF"
      },
      "source": [
        "The most common model used in the epidemioloty is SIR( susceptible, infected, and recoverd) \n",
        "\n",
        "$\\frac{dS}{dt} = -\\beta*S*I$\n",
        "\n",
        "$\\frac{dI}{dt} = \\beta*S*I -\\gamma*I$\n",
        "\n",
        "$\\frac{dR}{dt} = \\gamma*I$"
      ]
    },
    {
      "cell_type": "markdown",
      "metadata": {
        "id": "NmDVQTr4Y3Mn"
      },
      "source": [
        "We use scipy, library for scientific culclation."
      ]
    },
    {
      "cell_type": "code",
      "metadata": {
        "id": "TwI-c8IoWKE9"
      },
      "source": [
        "import scipy\n",
        "import scipy.integrate"
      ],
      "execution_count": null,
      "outputs": []
    },
    {
      "cell_type": "markdown",
      "metadata": {
        "id": "4eB8KfXAY-S2"
      },
      "source": [
        "Here X[0] is S, X[1] for I, X[2] for R"
      ]
    },
    {
      "cell_type": "markdown",
      "metadata": {
        "id": "LrMCK9JLw6zI"
      },
      "source": [
        "第1階　の微分方程式（First Order Differential Equasion）を解く。"
      ]
    },
    {
      "cell_type": "code",
      "metadata": {
        "id": "38SM5AGYVydI"
      },
      "source": [
        "beta = 0.003\n",
        "gamma = 0.1\n",
        "\n",
        "def SIR_model(X, t=0):         \n",
        "        \n",
        "\ty = scipy.array([- beta*X[0]*X[1]\n",
        "                          ,  beta*X[0]*X[1] - gamma*X[1]\n",
        "                          , gamma*X[1] ])\n",
        "\treturn y"
      ],
      "execution_count": null,
      "outputs": []
    },
    {
      "cell_type": "markdown",
      "metadata": {
        "id": "4NKUBj4QZ7e2"
      },
      "source": [
        "How to use scipy for solving Differencial equation, this is a sipmple example."
      ]
    },
    {
      "cell_type": "code",
      "metadata": {
        "colab": {
          "base_uri": "https://localhost:8080/"
        },
        "id": "mrxevpAhWDNP",
        "outputId": "c33dadd5-0963-457a-f4c8-3dbe2df9ad77"
      },
      "source": [
        "t = scipy.linspace(0, 60, num = 100)                         \n",
        "\n",
        "X0 = scipy.array([225, 1,0])\n",
        "X = scipy.integrate.odeint(SIR_model,X0,t)\n",
        "print(X) # print is not necessary"
      ],
      "execution_count": null,
      "outputs": [
        {
          "output_type": "stream",
          "name": "stdout",
          "text": [
            "[[2.25000000e+02 1.00000000e+00 0.00000000e+00]\n",
            " [2.24511177e+02 1.41632577e+00 7.24969630e-02]\n",
            " [2.23821028e+02 2.00385053e+00 1.75121774e-01]\n",
            " [2.22848937e+02 2.83085357e+00 3.20209039e-01]\n",
            " [2.21484283e+02 3.99075767e+00 5.24959040e-01]\n",
            " [2.19577467e+02 5.60935614e+00 8.13176922e-01]\n",
            " [2.16930409e+02 7.85213139e+00 1.21745992e+00]\n",
            " [2.13288780e+02 1.09294403e+01 1.78177928e+00]\n",
            " [2.08340580e+02 1.50952112e+01 2.56420856e+00]\n",
            " [2.01728821e+02 2.06319761e+01 3.63920249e+00]\n",
            " [1.93088936e+02 2.78127466e+01 5.09831691e+00]\n",
            " [1.82120671e+02 3.68316322e+01 7.04769687e+00]\n",
            " [1.68694227e+02 4.77053517e+01 9.60042107e+00]\n",
            " [1.52967292e+02 6.01701647e+01 1.28625428e+01]\n",
            " [1.35460589e+02 7.36254220e+01 1.69139891e+01]\n",
            " [1.17030195e+02 8.71808576e+01 2.17889479e+01]\n",
            " [9.87127815e+01 9.98243532e+01 2.74628653e+01]\n",
            " [8.14949064e+01 1.10653098e+02 3.38519954e+01]\n",
            " [6.61095085e+01 1.19064231e+02 4.08262600e+01]\n",
            " [5.29416786e+01 1.24828005e+02 4.82303163e+01]\n",
            " [4.20535036e+01 1.28041240e+02 5.59052568e+01]\n",
            " [3.32796275e+01 1.29015206e+02 6.37051662e+01]\n",
            " [2.63351934e+01 1.28158333e+02 7.15064737e+01]\n",
            " [2.09004464e+01 1.25888557e+02 7.92109961e+01]\n",
            " [1.66724258e+01 1.22582768e+02 8.67448064e+01]\n",
            " [1.33892314e+01 1.18555781e+02 9.40549881e+01]\n",
            " [1.08365927e+01 1.14057681e+02 1.01105726e+02]\n",
            " [8.84510157e+00 1.09280345e+02 1.07874553e+02]\n",
            " [7.28361307e+00 1.04367275e+02 1.14349112e+02]\n",
            " [6.05185238e+00 9.94236141e+01 1.20524534e+02]\n",
            " [5.07364198e+00 9.45249743e+01 1.26401384e+02]\n",
            " [4.29124676e+00 8.97246498e+01 1.31984103e+02]\n",
            " [3.66088679e+00 8.50592798e+01 1.37279833e+02]\n",
            " [3.14928090e+00 8.05531764e+01 1.42297543e+02]\n",
            " [2.73103017e+00 7.62215851e+01 1.47047385e+02]\n",
            " [2.38665711e+00 7.20731175e+01 1.51540225e+02]\n",
            " [2.10114305e+00 6.81115585e+01 1.55787298e+02]\n",
            " [1.86283927e+00 6.43372052e+01 1.59799956e+02]\n",
            " [1.66265530e+00 6.07478584e+01 1.63589486e+02]\n",
            " [1.49345284e+00 5.73395566e+01 1.67166991e+02]\n",
            " [1.34959134e+00 5.41071197e+01 1.70543289e+02]\n",
            " [1.22658596e+00 5.10445526e+01 1.73728861e+02]\n",
            " [1.12084883e+00 4.81453434e+01 1.76733808e+02]\n",
            " [1.02949236e+00 4.54026843e+01 1.79567823e+02]\n",
            " [9.50178847e-01 4.28096353e+01 1.82240186e+02]\n",
            " [8.81004957e-01 4.03592431e+01 1.84759752e+02]\n",
            " [8.20412340e-01 3.80446294e+01 1.87134958e+02]\n",
            " [7.67118244e-01 3.58590529e+01 1.89373829e+02]\n",
            " [7.20061261e-01 3.37959544e+01 1.91483984e+02]\n",
            " [6.78358699e-01 3.18489872e+01 1.93472654e+02]\n",
            " [6.41272913e-01 3.00120371e+01 1.95346690e+02]\n",
            " [6.08184574e-01 2.82792348e+01 1.97112581e+02]\n",
            " [5.78571333e-01 2.66449623e+01 1.98776466e+02]\n",
            " [5.51990697e-01 2.51038544e+01 2.00344155e+02]\n",
            " [5.28066252e-01 2.36507973e+01 2.01821136e+02]\n",
            " [5.06476483e-01 2.22809249e+01 2.03212599e+02]\n",
            " [4.86945694e-01 2.09896128e+01 2.04523442e+02]\n",
            " [4.69236584e-01 1.97724711e+01 2.05758292e+02]\n",
            " [4.53144152e-01 1.86253370e+01 2.06921519e+02]\n",
            " [4.38490679e-01 1.75442659e+01 2.08017243e+02]\n",
            " [4.25121579e-01 1.65255229e+01 2.09049356e+02]\n",
            " [4.12901938e-01 1.55655734e+01 2.10021525e+02]\n",
            " [4.01713649e-01 1.46610745e+01 2.10937212e+02]\n",
            " [3.91452997e-01 1.38088661e+01 2.11799681e+02]\n",
            " [3.82028644e-01 1.30059617e+01 2.12612010e+02]\n",
            " [3.73359918e-01 1.22495400e+01 2.13377100e+02]\n",
            " [3.65375378e-01 1.15369371e+01 2.14097688e+02]\n",
            " [3.58011589e-01 1.08656374e+01 2.14776351e+02]\n",
            " [3.51212081e-01 1.02332670e+01 2.15415521e+02]\n",
            " [3.44926464e-01 9.63758546e+00 2.16017488e+02]\n",
            " [3.39109664e-01 9.07647888e+00 2.16584411e+02]\n",
            " [3.33721274e-01 8.54795327e+00 2.17118325e+02]\n",
            " [3.28724984e-01 8.05012788e+00 2.17621147e+02]\n",
            " [3.24088109e-01 7.58122905e+00 2.18094683e+02]\n",
            " [3.19781156e-01 7.13958433e+00 2.18540635e+02]\n",
            " [3.15777465e-01 6.72361686e+00 2.18960606e+02]\n",
            " [3.12052893e-01 6.33184009e+00 2.19356107e+02]\n",
            " [3.08585534e-01 5.96285269e+00 2.19728562e+02]\n",
            " [3.05355477e-01 5.61533382e+00 2.20079311e+02]\n",
            " [3.02344596e-01 5.28803859e+00 2.20409617e+02]\n",
            " [2.99536363e-01 4.97979375e+00 2.20720670e+02]\n",
            " [2.96915682e-01 4.68949367e+00 2.21013591e+02]\n",
            " [2.94468748e-01 4.41609646e+00 2.21289435e+02]\n",
            " [2.92182913e-01 4.15862041e+00 2.21549197e+02]\n",
            " [2.90046582e-01 3.91614051e+00 2.21793813e+02]\n",
            " [2.88049103e-01 3.68778522e+00 2.22024166e+02]\n",
            " [2.86180679e-01 3.47273342e+00 2.22241086e+02]\n",
            " [2.84432297e-01 3.27021154e+00 2.22445356e+02]\n",
            " [2.82795645e-01 3.07949081e+00 2.22637714e+02]\n",
            " [2.81263056e-01 2.89988467e+00 2.22818852e+02]\n",
            " [2.79827449e-01 2.73074639e+00 2.22989426e+02]\n",
            " [2.78482276e-01 2.57146675e+00 2.23150051e+02]\n",
            " [2.77221478e-01 2.42147187e+00 2.23301307e+02]\n",
            " [2.76039444e-01 2.28022121e+00 2.23443739e+02]\n",
            " [2.74930970e-01 2.14720559e+00 2.23577863e+02]\n",
            " [2.73891228e-01 2.02194543e+00 2.23704163e+02]\n",
            " [2.72915737e-01 1.90398900e+00 2.23823095e+02]\n",
            " [2.72000332e-01 1.79291084e+00 2.23935089e+02]\n",
            " [2.71141139e-01 1.68831023e+00 2.24040549e+02]\n",
            " [2.70334554e-01 1.58980974e+00 2.24139856e+02]]\n"
          ]
        },
        {
          "output_type": "stream",
          "name": "stderr",
          "text": [
            "/usr/local/lib/python3.7/dist-packages/ipykernel_launcher.py:1: DeprecationWarning: scipy.linspace is deprecated and will be removed in SciPy 2.0.0, use numpy.linspace instead\n",
            "  \"\"\"Entry point for launching an IPython kernel.\n",
            "/usr/local/lib/python3.7/dist-packages/ipykernel_launcher.py:3: DeprecationWarning: scipy.array is deprecated and will be removed in SciPy 2.0.0, use numpy.array instead\n",
            "  This is separate from the ipykernel package so we can avoid doing imports until\n",
            "/usr/local/lib/python3.7/dist-packages/ipykernel_launcher.py:8: DeprecationWarning: scipy.array is deprecated and will be removed in SciPy 2.0.0, use numpy.array instead\n",
            "  \n"
          ]
        }
      ]
    },
    {
      "cell_type": "markdown",
      "metadata": {
        "id": "5LC2Y9V3ZhgI"
      },
      "source": [
        "For the result visualizations, we use pylab library."
      ]
    },
    {
      "cell_type": "code",
      "metadata": {
        "id": "BF_1k2ihZcH2"
      },
      "source": [
        "import pylab as plt"
      ],
      "execution_count": null,
      "outputs": []
    },
    {
      "cell_type": "code",
      "metadata": {
        "colab": {
          "base_uri": "https://localhost:8080/",
          "height": 265
        },
        "id": "5W_B320hZpS3",
        "outputId": "8eb96b68-19a1-4aff-e8a8-3a289a734493"
      },
      "source": [
        "plt.plot(range(0, 100), X[:,0], 'o', color = \"green\")\n",
        "plt.plot(range(0, 100), X[:,1], 'x', color = \"red\")\n",
        "plt.plot(range(0, 100), X[:,2], '*', color = \"blue\")\n",
        "plt.show()"
      ],
      "execution_count": null,
      "outputs": [
        {
          "output_type": "display_data",
          "data": {
            "image/png": "[encoded data removed]",
            "text/plain": [
              "<Figure size 432x288 with 1 Axes>"
            ]
          },
          "metadata": {
            "needs_background": "light"
          }
        }
      ]
    },
    {
      "cell_type": "markdown",
      "metadata": {
        "id": "mGUZROuPwVLl"
      },
      "source": [
        "モデルを拡張して、時間が経つと獲得した免疫を失う、つまり「免疫記憶が薄れる」状況をモデルに反映させる。\n",
        "\n",
        "$\\frac{dS}{dt} = -\\beta*S*I+\\sigma*R$\n",
        "\n",
        "$\\frac{dI}{dt} = \\beta*S*I -\\gamma*I$\n",
        "\n",
        "$\\frac{dR}{dt} = \\gamma*I - \\sigma*R$"
      ]
    },
    {
      "cell_type": "code",
      "metadata": {
        "id": "qKCzBiZrzDGj"
      },
      "source": [
        "beta = 0.003\n",
        "gamma = 0.1\n",
        "sigma = 0.1\n",
        "\n",
        "def SIRS_model(X, t=0):         \n",
        "        \n",
        "\ty = scipy.array([- beta*X[0]*X[1] + sigma*X[2]\n",
        "                          ,  beta*X[0]*X[1] - gamma*X[1]\n",
        "                          , gamma*X[1] - sigma*X[2]])\n",
        "\treturn y"
      ],
      "execution_count": null,
      "outputs": []
    },
    {
      "cell_type": "markdown",
      "metadata": {
        "id": "QwjsJkcWzsYY"
      },
      "source": [
        "結果を表示する。Results"
      ]
    },
    {
      "cell_type": "code",
      "metadata": {
        "colab": {
          "base_uri": "https://localhost:8080/",
          "height": 387
        },
        "id": "pbIN1yrTzxy_",
        "outputId": "996fbbae-ffae-4eb1-c95e-3f30c30b24eb"
      },
      "source": [
        "t = scipy.linspace(0, 60, num = 200)                         \n",
        "\n",
        "X0 = scipy.array([225, 1,0])\n",
        "X = scipy.integrate.odeint(SIRS_model,X0,t)\n",
        "# print(X) # print is not necessary\n",
        "\n",
        "plt.plot(range(0,200), X[:,0],'o', color='green')\n",
        "plt.plot(range(0,200), X[:,1],'x', color='red')\n",
        "plt.plot(range(0,200), X[:,2],'*', color='blue')"
      ],
      "execution_count": null,
      "outputs": [
        {
          "output_type": "stream",
          "name": "stderr",
          "text": [
            "/usr/local/lib/python3.7/dist-packages/ipykernel_launcher.py:1: DeprecationWarning: scipy.linspace is deprecated and will be removed in SciPy 2.0.0, use numpy.linspace instead\n",
            "  \"\"\"Entry point for launching an IPython kernel.\n",
            "/usr/local/lib/python3.7/dist-packages/ipykernel_launcher.py:3: DeprecationWarning: scipy.array is deprecated and will be removed in SciPy 2.0.0, use numpy.array instead\n",
            "  This is separate from the ipykernel package so we can avoid doing imports until\n",
            "/usr/local/lib/python3.7/dist-packages/ipykernel_launcher.py:9: DeprecationWarning: scipy.array is deprecated and will be removed in SciPy 2.0.0, use numpy.array instead\n",
            "  if __name__ == '__main__':\n"
          ]
        },
        {
          "output_type": "execute_result",
          "data": {
            "text/plain": [
              "[<matplotlib.lines.Line2D at 0x7f9a158c6290>]"
            ]
          },
          "metadata": {},
          "execution_count": 19
        },
        {
          "output_type": "display_data",
          "data": {
            "image/png": "[encoded data removed]",
            "text/plain": [
              "<Figure size 432x288 with 1 Axes>"
            ]
          },
          "metadata": {
            "needs_background": "light"
          }
        }
      ]
    }
  ]
}