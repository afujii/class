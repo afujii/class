{
  "nbformat": 4,
  "nbformat_minor": 0,
  "metadata": {
    "colab": {
      "name": "FluedDynamics.ipynb",
      "provenance": [],
      "collapsed_sections": [],
      "authorship_tag": "ABX9TyMd4dqQZIyEtxGO4jLACXfI",
      "include_colab_link": true
    },
    "kernelspec": {
      "name": "python3",
      "display_name": "Python 3"
    },
    "language_info": {
      "name": "python"
    }
  },
  "cells": [
    {
      "cell_type": "markdown",
      "metadata": {
        "id": "view-in-github",
        "colab_type": "text"
      },
      "source": [
        "<a href=\"https://colab.research.google.com/github/afujii/class/blob/main/FluedDynamics.ipynb\" target=\"_parent\"><img src=\"https://colab.research.google.com/assets/colab-badge.svg\" alt=\"Open In Colab\"/></a>"
      ]
    },
    {
      "cell_type": "markdown",
      "metadata": {
        "id": "8zSupWZVEzZA"
      },
      "source": [
        "https://towardsdatascience.com/computational-fluid-dynamics-using-python-modeling-laminar-flow-272dad1ebec"
      ]
    },
    {
      "cell_type": "code",
      "metadata": {
        "id": "u2k5khC0Evmv"
      },
      "source": [
        "import numpy as np\n",
        "import os"
      ],
      "execution_count": null,
      "outputs": []
    },
    {
      "cell_type": "code",
      "metadata": {
        "id": "05oV0PeSE9AA"
      },
      "source": [
        "class Boundary:\n",
        "    def __init__(self,boundary_type,boundary_value):\n",
        "        self.DefineBoundary(boundary_type,boundary_value)\n",
        "        \n",
        "    def DefineBoundary(self,boundary_type,boundary_value):\n",
        "        self.type=boundary_type\n",
        "        self.value=boundary_value"
      ],
      "execution_count": null,
      "outputs": []
    },
    {
      "cell_type": "code",
      "metadata": {
        "id": "7JHURWOJFA-u"
      },
      "source": [
        "class Space:\n",
        "    def __init__(self):\n",
        "        pass\n",
        "    \n",
        "    def CreateMesh(self,rowpts,colpts):\n",
        "        #Domain gridpoints\n",
        "        self.rowpts=rowpts\n",
        "        self.colpts=colpts\n",
        "        #Velocity matrices\n",
        "        self.u=np.zeros((self.rowpts+2,self.colpts+2))\n",
        "        self.v=np.zeros((self.rowpts+2,self.colpts+2))\n",
        "        self.u_star=np.zeros((self.rowpts+2,self.colpts+2))\n",
        "        self.v_star=np.zeros((self.rowpts+2,self.colpts+2))\n",
        "        self.u_next=np.zeros((self.rowpts+2,self.colpts+2))\n",
        "        self.v_next=np.zeros((self.rowpts+2,self.colpts+2))\n",
        "        self.u_c=np.zeros((self.rowpts,self.colpts))\n",
        "        self.v_c=np.zeros((self.rowpts,self.colpts))\n",
        "        #Pressure matrices\n",
        "        self.p=np.zeros((self.rowpts+2,self.colpts+2))\n",
        "        self.p_c=np.zeros((self.rowpts,self.colpts))\n",
        "\n",
        "        #Set default source term\n",
        "        self.SetSourceTerm()        \n",
        "        \n",
        "    def SetDeltas(self,breadth,length):\n",
        "        self.dx=length/(self.colpts-1)\n",
        "        self.dy=breadth/(self.rowpts-1)\n",
        "    def SetInitialU(self,U):\n",
        "        self.u=U*self.u\n",
        "        \n",
        "    def SetInitialV(self,V):\n",
        "        self.v=V*self.v\n",
        "        \n",
        "    def SetInitialP(self,P):\n",
        "        self.p=P*self.p\n",
        "    def SetSourceTerm(self,S_x=0,S_y=0):\n",
        "        self.S_x=S_x\n",
        "        self.S_y=S_y"
      ],
      "execution_count": null,
      "outputs": []
    },
    {
      "cell_type": "code",
      "metadata": {
        "id": "H2N9CHKRFRbg"
      },
      "source": [
        "class Fluid:\n",
        "    def __init__(self,rho,mu):\n",
        "        self.SetFluidProperties(rho,mu)\n",
        "    \n",
        "    def SetFluidProperties(self,rho,mu):\n",
        "        self.rho=rho\n",
        "        self.mu=mu"
      ],
      "execution_count": null,
      "outputs": []
    },
    {
      "cell_type": "code",
      "metadata": {
        "id": "DAdTD-QbFVVs"
      },
      "source": [
        "#Note: The arguments to the function are all objects of our defined classes\n",
        "#Set boundary conditions for horizontal velocity\n",
        "def SetUBoundary(space,left,right,top,bottom):\n",
        "    if(left.type==\"D\"):\n",
        "        space.u[:,0]=left.value\n",
        "    elif(left.type==\"N\"):\n",
        "        space.u[:,0]=-left.value*space.dx+space.u[:,1]\n",
        "    \n",
        "    if(right.type==\"D\"):\n",
        "        space.u[:,-1]=right.value\n",
        "    elif(right.type==\"N\"):\n",
        "        space.u[:,-1]=right.value*space.dx+space.u[:,-2]\n",
        "        \n",
        "    if(top.type==\"D\"):\n",
        "        space.u[-1,:]=2*top.value-space.u[-2,:]\n",
        "    elif(top.type==\"N\"):\n",
        "        space.u[-1,:]=-top.value*space.dy+space.u[-2,:]\n",
        "     \n",
        "    if(bottom.type==\"D\"):\n",
        "        space.u[0,:]=2*bottom.value-space.u[1,:]\n",
        "    elif(bottom.type==\"N\"):\n",
        "        space.u[0,:]=bottom.value*space.dy+space.u[1,:]\n",
        "\n",
        "#Set boundary conditions for vertical velocity\n",
        "def SetVBoundary(space,left,right,top,bottom):\n",
        "    if(left.type==\"D\"):\n",
        "        space.v[:,0]=2*left.value-space.v[:,1]\n",
        "    elif(left.type==\"N\"):\n",
        "        space.v[:,0]=-left.value*space.dx+space.v[:,1]\n",
        "    \n",
        "    if(right.type==\"D\"):\n",
        "        space.v[:,-1]=2*right.value-space.v[:,-2]\n",
        "    elif(right.type==\"N\"):\n",
        "        space.v[:,-1]=right.value*space.dx+space.v[:,-2]\n",
        "        \n",
        "    if(top.type==\"D\"):\n",
        "        space.v[-1,:]=top.value\n",
        "    elif(top.type==\"N\"):\n",
        "        space.v[-1,:]=-top.value*space.dy+space.v[-2,:]\n",
        "     \n",
        "    if(bottom.type==\"D\"):\n",
        "        space.v[0,:]=bottom.value\n",
        "    elif(bottom.type==\"N\"):\n",
        "        space.v[0,:]=bottom.value*space.dy+space.v[1,:]\n",
        "#Set boundary conditions for pressure\n",
        "def SetPBoundary(space,left,right,top,bottom):\n",
        "    if(left.type==\"D\"):\n",
        "        space.p[:,0]=left.value\n",
        "    elif(left.type==\"N\"):\n",
        "        space.p[:,0]=-left.value*space.dx+space.p[:,1]\n",
        "    \n",
        "    if(right.type==\"D\"):\n",
        "        space.p[1,-1]=right.value\n",
        "    elif(right.type==\"N\"):\n",
        "        space.p[:,-1]=right.value*space.dx+space.p[:,-2]\n",
        "        \n",
        "    if(top.type==\"D\"):\n",
        "        space.p[-1,:]=top.value\n",
        "    elif(top.type==\"N\"):\n",
        "        space.p[-1,:]=-top.value*space.dy+space.p[-2,:]\n",
        "     \n",
        "    if(bottom.type==\"D\"):\n",
        "        space.p[0,:]=bottom.value\n",
        "    elif(bottom.type==\"N\"):\n",
        "        space.p[0,:]=bottom.value*space.dy+space.p[1,:]"
      ],
      "execution_count": null,
      "outputs": []
    },
    {
      "cell_type": "code",
      "metadata": {
        "id": "c5NZqyxdFbvB"
      },
      "source": [
        "def SetTimeStep(CFL,space,fluid):\n",
        "    with np.errstate(divide='ignore'):\n",
        "        dt=CFL/np.sum([np.amax(space.u)/space.dx,\\\n",
        "                           np.amax(space.v)/space.dy])\n",
        "    #Escape condition if dt is infinity due to zero velocity initially\n",
        "    if np.isinf(dt):\n",
        "        dt=CFL*(space.dx+space.dy)\n",
        "    space.dt=dt"
      ],
      "execution_count": null,
      "outputs": []
    },
    {
      "cell_type": "code",
      "metadata": {
        "id": "ottdIo4WGj6o"
      },
      "source": [
        "#The first function is used to get starred velocities from u and v at timestep t\n",
        "def GetStarredVelocities(space,fluid):\n",
        "    #Save object attributes as local variable with explicity typing for improved readability\n",
        "    rows=int(space.rowpts)\n",
        "    cols=int(space.colpts)\n",
        "    u=space.u.astype(float,copy=False)\n",
        "    v=space.v.astype(float,copy=False)\n",
        "    dx=float(space.dx)\n",
        "    dy=float(space.dy)\n",
        "    dt=float(space.dt)\n",
        "    S_x=float(space.S_x)\n",
        "    S_y=float(space.S_y)\n",
        "    rho=float(fluid.rho)\n",
        "    mu=float(fluid.mu)\n",
        "    \n",
        "    #Copy u and v to new variables u_star and v_star\n",
        "    u_star=u.copy()\n",
        "    v_star=v.copy()\n",
        "    \n",
        "    #Calculate derivatives of u and v using the finite difference scheme. \n",
        "    #Numpy vectorization saves us from using slower for loops to go over each element in the u and v matrices\n",
        "    u1_y=(u[2:,1:cols+1]-u[0:rows,1:cols+1])/(2*dy)\n",
        "    u1_x=(u[1:rows+1,2:]-u[1:rows+1,0:cols])/(2*dx)\n",
        "    u2_y=(u[2:,1:cols+1]-2*u[1:rows+1,1:cols+1]+u[0:rows,1:cols+1])/(dy**2)\n",
        "    u2_x=(u[1:rows+1,2:]-2*u[1:rows+1,1:cols+1]+u[1:rows+1,0:cols])/(dx**2)\n",
        "    v_face=(v[1:rows+1,1:cols+1]+v[1:rows+1,0:cols]+v[2:,1:cols+1]+v[2:,0:cols])/4\n",
        "    u_star[1:rows+1,1:cols+1]=u[1:rows+1,1:cols+1]-dt*(u[1:rows+1,1:cols+1]*u1_x+v_face*u1_y)+(dt*(mu/rho)*(u2_x+u2_y))+(dt*S_x)   \n",
        "\n",
        "    v1_y=(v[2:,1:cols+1]-v[0:rows,1:cols+1])/(2*dy)\n",
        "    v1_x=(v[1:rows+1,2:]-v[1:rows+1,0:cols])/(2*dx)\n",
        "    v2_y=(v[2:,1:cols+1]-2*v[1:rows+1,1:cols+1]+v[0:rows,1:cols+1])/(dy**2)\n",
        "    v2_x=(v[1:rows+1,2:]-2*v[1:rows+1,1:cols+1]+v[1:rows+1,0:cols])/(dx**2)\n",
        "    u_face=(u[1:rows+1,1:cols+1]+u[1:rows+1,2:]+u[0:rows,1:cols+1]+u[0:rows,2:])/4\n",
        "    v_star[1:rows+1,1:cols+1]=v[1:rows+1,1:cols+1]-dt*(u_face*v1_x+v[1:rows+1,1:cols+1]*v1_y)+(dt*(mu/rho)*(v2_x+v2_y))+(dt*S_y)\n",
        "    \n",
        "    #Save the calculated starred velocities to the space object \n",
        "    space.u_star=u_star.copy()\n",
        "    space.v_star=v_star.copy()    \n",
        "    \n",
        "    \n",
        "#The second function is used to iteratively solve the pressure Possion equation from the starred velocities \n",
        "#to calculate pressure at t+delta_t\n",
        "def SolvePressurePoisson(space,fluid,left,right,top,bottom):\n",
        "    #Save object attributes as local variable with explicity typing for improved readability\n",
        "    rows=int(space.rowpts)\n",
        "    cols=int(space.colpts)\n",
        "    u_star=space.u_star.astype(float,copy=False)\n",
        "    v_star=space.v_star.astype(float,copy=False)\n",
        "    p=space.p.astype(float,copy=False)\n",
        "    dx=float(space.dx)\n",
        "    dy=float(space.dy)\n",
        "    dt=float(space.dt)\n",
        "    rho=float(fluid.rho)\n",
        "    factor=1/(2/dx**2+2/dy**2)\n",
        "    \n",
        "    #Define initial error and tolerance for convergence (error > tol necessary initially)\n",
        "    error=1\n",
        "    tol=1e-3\n",
        "\n",
        "    #Evaluate derivative of starred velocities\n",
        "    ustar1_x=(u_star[1:rows+1,2:]-u_star[1:rows+1,0:cols])/(2*dx)\n",
        "    vstar1_y=(v_star[2:,1:cols+1]-v_star[0:rows,1:cols+1])/(2*dy)\n",
        "\n",
        "    #Continue iterative solution until error becomes smaller than tolerance\n",
        "    i=0\n",
        "    while(error>tol):\n",
        "        i+=1\n",
        "        \n",
        "        #Save current pressure as p_old\n",
        "        p_old=p.astype(float,copy=True)\n",
        "        \n",
        "        #Evaluate second derivative of pressure from p_old\n",
        "        p2_xy=(p_old[2:,1:cols+1]+p_old[0:rows,1:cols+1])/dy**2+(p_old[1:rows+1,2:]+p_old[1:rows+1,0:cols])/dx**2\n",
        "        \n",
        "        #Calculate new pressure \n",
        "        p[1:rows+1,1:cols+1]=(p2_xy)*factor-(rho*factor/dt)*(ustar1_x+vstar1_y)\n",
        "        \n",
        "        #Find maximum error between old and new pressure matrices\n",
        "        error=np.amax(abs(p-p_old))\n",
        "        \n",
        "        #Apply pressure boundary conditions\n",
        "        SetPBoundary(space,left,right,top,bottom)\n",
        "        \n",
        "        #Escape condition in case solution does not converge after 500 iterations\n",
        "        if(i>500):\n",
        "            tol*=10\n",
        "            \n",
        "    \n",
        "#The third function is used to calculate the velocities at timestep t+delta_t using the pressure at t+delta_t and starred velocities\n",
        "def SolveMomentumEquation(space,fluid):\n",
        "    #Save object attributes as local variable with explicity typing for improved readability\n",
        "    rows=int(space.rowpts)\n",
        "    cols=int(space.colpts)\n",
        "    u_star=space.u_star.astype(float,copy=False)\n",
        "    v_star=space.v_star.astype(float,copy=False)\n",
        "    p=space.p.astype(float,copy=False)\n",
        "    dx=float(space.dx)\n",
        "    dy=float(space.dy)\n",
        "    dt=float(space.dt)\n",
        "    rho=float(fluid.rho)\n",
        "    u=space.u.astype(float,copy=False)\n",
        "    v=space.v.astype(float,copy=False)\n",
        "\n",
        "    #Evaluate first derivative of pressure in x direction\n",
        "    p1_x=(p[1:rows+1,2:]-p[1:rows+1,0:cols])/(2*dx)\n",
        "    #Calculate u at next timestep\n",
        "    u[1:rows+1,1:cols+1]=u_star[1:rows+1,1:cols+1]-(dt/rho)*p1_x\n",
        "\n",
        "    #Evaluate first derivative of pressure in y direction\n",
        "    p1_y=(p[2:,1:cols+1]-p[0:rows,1:cols+1])/(2*dy)\n",
        "    #Calculate v at next timestep\n",
        "    v[1:rows+1,1:cols+1]=v_star[1:rows+1,1:cols+1]-(dt/rho)*p1_y"
      ],
      "execution_count": null,
      "outputs": []
    },
    {
      "cell_type": "code",
      "metadata": {
        "id": "sCkObwbpFiq2"
      },
      "source": [
        "def SetCentrePUV(space):\n",
        "    space.p_c=space.p[1:-1,1:-1]\n",
        "    space.u_c=space.u[1:-1,1:-1]\n",
        "    space.v_c=space.v[1:-1,1:-1]"
      ],
      "execution_count": null,
      "outputs": []
    },
    {
      "cell_type": "code",
      "metadata": {
        "id": "5gospF5FFlzQ"
      },
      "source": [
        "def MakeResultDirectory(wipe=False):\n",
        "    #Get path to the Result directory\n",
        "    cwdir=os.getcwd()\n",
        "    dir_path=os.path.join(cwdir,\"Result\")\n",
        "    #If directory does not exist, make it\n",
        "    if not os.path.isdir(dir_path):\n",
        "        os.makedirs(dir_path,exist_ok=True)\n",
        "    else:\n",
        "        #If wipe is True, remove files present in the directory\n",
        "        if wipe:\n",
        "            os.chdir(dir_path)\n",
        "            filelist=os.listdir()\n",
        "            for file in filelist:\n",
        "                os.remove(file)\n",
        "    \n",
        "    os.chdir(cwdir)\n",
        "            \n",
        "    \n",
        "def WriteToFile(space,iteration,interval):\n",
        "    if(iteration%interval==0):\n",
        "        dir_path=os.path.join(os.getcwd(),\"Result\")\n",
        "        filename=\"PUV{0}.txt\".format(iteration)\n",
        "        path=os.path.join(dir_path,filename)\n",
        "        with open(path,\"w\") as f:\n",
        "            for i in range(space.rowpts):\n",
        "                for j in range(space.colpts):\n",
        "                    f.write(\"{}\\t{}\\t{}\\n\".format(space.p_c[i,j],space.u_c[i,j],space.v_c[i,j]))"
      ],
      "execution_count": null,
      "outputs": []
    },
    {
      "cell_type": "code",
      "metadata": {
        "id": "W0cVzCDkFpVC"
      },
      "source": [
        "import sys\n",
        "import numpy as np\n",
        "import matplotlib.pyplot as plt\n",
        "import matplotlib.cm as cm\n",
        "#from FlowPy import *"
      ],
      "execution_count": null,
      "outputs": []
    },
    {
      "cell_type": "code",
      "metadata": {
        "id": "md3M1TynF7bK"
      },
      "source": [
        "#### SPATIAL AND TEMPORAL INPUTS\n",
        "length=4 #Length of computational domain in the x-direction\n",
        "breadth=4 #Breadth of computational domain in the y-direction\n",
        "colpts=257 #Number of grid points in the x-direction #KEEP ODD\n",
        "rowpts=257 #Number of grid points in the y-direction #KEEP ODD\n",
        "#Create an object of the class Space called cavity\n",
        "cavity=Space()\n",
        "cavity.CreateMesh(rowpts,colpts)\n",
        "cavity.SetDeltas(breadth,length)"
      ],
      "execution_count": null,
      "outputs": []
    },
    {
      "cell_type": "code",
      "metadata": {
        "id": "1etfIVmyF_qc"
      },
      "source": [
        "#### FLUID PROPERTIES\n",
        "rho=1 #Density of fluid\n",
        "mu=0.01 #Viscosity of fluid\n",
        "#Create an object of the class Fluid called water\n",
        "water=Fluid(rho,mu)"
      ],
      "execution_count": null,
      "outputs": []
    },
    {
      "cell_type": "code",
      "metadata": {
        "id": "kF-ys_cHGC1K"
      },
      "source": [
        "#### BOUNDARY SPECIFICATIONS\n",
        "u_in=1 #Lid velocity\n",
        "v_wall=0 #Velocity of fluid at the walls\n",
        "p_out=0 #Gauge pressure at the boundaries\n",
        "#Create objects of the class Boundary having either Dirichlet (\"D\") or Neumann (\"N\") type boundaries\n",
        "flow=Boundary(\"D\",u_in)\n",
        "noslip=Boundary(\"D\",v_wall)\n",
        "zeroflux=Boundary(\"N\",0)\n",
        "pressureatm=Boundary(\"D\",p_out)"
      ],
      "execution_count": null,
      "outputs": []
    },
    {
      "cell_type": "code",
      "metadata": {
        "id": "uyybbWjgGHeM"
      },
      "source": [
        "#### SIMULATION PARAMETERS\n",
        "time=150 #Simulation time\n",
        "CFL_number=0.8 #Reduce this if solution diverges\n",
        "file_flag=1 #Keep 1 to print results to file\n",
        "interval=100 #Record values in file per interval number of iterations"
      ],
      "execution_count": null,
      "outputs": []
    },
    {
      "cell_type": "code",
      "metadata": {
        "colab": {
          "base_uri": "https://localhost:8080/"
        },
        "id": "5Lotf9vcGN3U",
        "outputId": "0c94f186-a60b-4a1b-915a-9ce8f42ac422"
      },
      "source": [
        "#### RUN SIMULATION\n",
        "# Print general simulation information\n",
        "print(\"######## Beginning FlowPy Simulation ########\")\n",
        "print(\"#############################################\")\n",
        "print(\"# Simulation time: {0:.2f}\".format(time))\n",
        "print(\"# Mesh: {0} x {1}\".format(colpts,rowpts))\n",
        "print(\"# Re/u: {0:.2f}\\tRe/v:{1:.2f}\".format(rho*length/mu,rho*breadth/mu))\n",
        "print(\"# Save outputs to text file: {0}\".format(bool(file_flag)))\n",
        "## Initialization\n",
        "# Make directory to store results\n",
        "MakeResultDirectory(wipe=True)\n",
        "# Initialize counters\n",
        "t=0\n",
        "i=0\n",
        "## Run\n",
        "while(t<time):\n",
        "    #Print time left\n",
        "    sys.stdout.write(\"\\rSimulation time left: {0:.2f}\".format(time-t))\n",
        "    sys.stdout.flush()\n",
        "    #Set the time-step\n",
        "    SetTimeStep(CFL_number,cavity,water)\n",
        "    timestep=cavity.dt\n",
        "    \n",
        "    #Set boundary conditions\n",
        "    SetUBoundary(cavity,noslip,noslip,flow,noslip)\n",
        "    SetVBoundary(cavity,noslip,noslip,noslip,noslip)\n",
        "    SetPBoundary(cavity,zeroflux,zeroflux,pressureatm,zeroflux)\n",
        "    \n",
        "    #Calculate starred velocities\n",
        "    GetStarredVelocities(cavity,water)\n",
        "    \n",
        "    #Solve the pressure Poisson equation\n",
        "    SolvePressurePoisson(cavity,water,zeroflux,zeroflux,\\\n",
        "pressureatm,zeroflux)\n",
        "    #Solve the momentum equation\n",
        "    SolveMomentumEquation(cavity,water)\n",
        "    #Save variables and write to file\n",
        "    SetCentrePUV(cavity)\n",
        "    if(file_flag==1):\n",
        "        WriteToFile(cavity,i,interval)\n",
        "    #Advance time-step and counter\n",
        "    t+=timestep\n",
        "    i+=1"
      ],
      "execution_count": null,
      "outputs": [
        {
          "output_type": "stream",
          "name": "stdout",
          "text": [
            "######## Beginning FlowPy Simulation ########\n",
            "#############################################\n",
            "# Simulation time: 150.00\n",
            "# Mesh: 257 x 257\n",
            "# Re/u: 400.00\tRe/v:400.00\n",
            "# Save outputs to text file: True\n",
            "Simulation time left: 0.00"
          ]
        }
      ]
    },
    {
      "cell_type": "code",
      "metadata": {
        "id": "tcFocxSLNY0D"
      },
      "source": [
        "import numpy as np\n",
        "import sys\n",
        "import os\n",
        "import matplotlib.pyplot as plt\n",
        "import matplotlib.animation as animation"
      ],
      "execution_count": null,
      "outputs": []
    },
    {
      "cell_type": "code",
      "metadata": {
        "id": "aWzV5wkuNcfd"
      },
      "source": [
        "#### Simulation inputs\n",
        "rowpts=257\n",
        "colpts=257\n",
        "length=4\n",
        "breadth=4"
      ],
      "execution_count": null,
      "outputs": []
    },
    {
      "cell_type": "code",
      "metadata": {
        "id": "GSOFPaxnNgYF"
      },
      "source": [
        "#Go to the Result directory\n",
        "cwdir=os.getcwd()\n",
        "dir_path=os.path.join(cwdir,\"Result\")\n",
        "os.chdir(dir_path)\n",
        "#Go through files in the directory and store filenames\n",
        "filenames=[]\n",
        "iterations=[]\n",
        "for root,dirs,files in os.walk(dir_path):\n",
        "    for datafile in files:\n",
        "        if \"PUV\" in datafile:\n",
        "            filenames.append(datafile)\n",
        "            no_ext_file=datafile.replace(\".txt\",\"\").strip()\n",
        "            iter_no=int(no_ext_file.split(\"V\")[-1])\n",
        "            iterations.append(iter_no)\n",
        "#Discern the final iteration and interval\n",
        "initial_iter=np.amin(iterations)            \n",
        "final_iter=np.amax(iterations)\n",
        "inter=(final_iter - initial_iter)/(len(iterations)-1)\n",
        "number_of_frames=len(iterations)\n",
        "sorted_iterations=np.sort(iterations)"
      ],
      "execution_count": null,
      "outputs": []
    },
    {
      "cell_type": "code",
      "metadata": {
        "id": "xc3QEqKqNj3s"
      },
      "source": [
        "def read_datafile(iteration):\n",
        "    #Set filename and path according to given iteration\n",
        "    filename=\"PUV{0}.txt\".format(iteration)\n",
        "    filepath=os.path.join(dir_path,filename)\n",
        "    #Load text file as numpy array\n",
        "    arr=np.loadtxt(filepath,delimiter=\"\\t\")\n",
        "    rows,cols=arr.shape\n",
        "    #Define empty arrays for pressure and velocities\n",
        "    p_p=np.zeros((rowpts,colpts))\n",
        "    u_p=np.zeros((rowpts,colpts))\n",
        "    v_p=np.zeros((rowpts,colpts))\n",
        "    #Organize imported array into variables\n",
        "    p_arr=arr[:,0]\n",
        "    u_arr=arr[:,1]\n",
        "    v_arr=arr[:,2]\n",
        "    \n",
        "    #Reshape 1D data into 2D\n",
        "    p_p=p_arr.reshape((rowpts,colpts))\n",
        "    u_p=u_arr.reshape((rowpts,colpts))\n",
        "    v_p=v_arr.reshape((rowpts,colpts))\n",
        "    \n",
        "    return p_p,u_p,v_p"
      ],
      "execution_count": null,
      "outputs": []
    },
    {
      "cell_type": "code",
      "metadata": {
        "colab": {
          "base_uri": "https://localhost:8080/",
          "height": 585
        },
        "id": "Bhb2hP-BNnK0",
        "outputId": "f2792b22-18b2-4136-e9bd-8fbdb1f69f84"
      },
      "source": [
        "#Create mesh for X and Y inputs to the figure\n",
        "x=np.linspace(0,length,colpts)\n",
        "y=np.linspace(0,breadth,rowpts)\n",
        "[X,Y]=np.meshgrid(x,y)\n",
        "#Determine indexing for stream plot (10 points only)\n",
        "index_cut_x=int(colpts/10)\n",
        "index_cut_y=int(rowpts/10)\n",
        "#Create blank figure\n",
        "fig=plt.figure(figsize=(16,8))\n",
        "ax=plt.axes(xlim=(0,length),ylim=(0,breadth))\n",
        "#Create initial contour and stream plot as well as color bar\n",
        "p_p,u_p,v_p=read_datafile(0)\n",
        "ax.set_xlim([0,length])\n",
        "ax.set_ylim([0,breadth])\n",
        "ax.set_xlabel(\"$x$\",fontsize=12)\n",
        "ax.set_ylabel(\"$y$\",fontsize=12)\n",
        "ax.set_title(\"Frame No: 0\")\n",
        "cont=ax.contourf(X,Y,p_p)\n",
        "stream=ax.streamplot(X[::index_cut_y,::index_cut_x],Y[::index_cut_y,::index_cut_x],u_p[::index_cut_y,::index_cut_x],v_p[::index_cut_y,::index_cut_x],color=\"k\")\n",
        "fig.colorbar(cont)\n",
        "fig.tight_layout()"
      ],
      "execution_count": null,
      "outputs": [
        {
          "output_type": "display_data",
          "data": {
            "image/png": "[encoded data removed]",
            "text/plain": [
              "<Figure size 1152x576 with 2 Axes>"
            ]
          },
          "metadata": {
            "needs_background": "light"
          }
        }
      ]
    },
    {
      "cell_type": "code",
      "metadata": {
        "id": "X6GQg7TLNtl8"
      },
      "source": [
        "def animate(i):\n",
        "    #Print frames left to be added to the animation\n",
        "    sys.stdout.write(\"\\rFrames remaining: {0:03d}\".format(len(sorted_iterations)-i))\n",
        "    sys.stdout.flush()\n",
        "    #Get iterations in a sequential manner through sorted_iterations\n",
        "    iteration=sorted_iterations[i]\n",
        "    #Use the read_datafile function to get pressure and velocities\n",
        "    p_p,u_p,v_p=read_datafile(iteration)\n",
        "    #Clear previous plot and make contour and stream plots for current iteration\n",
        "    ax.clear()\n",
        "    ax.set_xlim([0,length])\n",
        "    ax.set_ylim([0,breadth])\n",
        "    ax.set_xlabel(\"$x$\",fontsize=12)\n",
        "    ax.set_ylabel(\"$y$\",fontsize=12)\n",
        "    ax.set_title(\"Frame No: {0}\".format(i))\n",
        "    cont=ax.contourf(X,Y,p_p)\n",
        "    stream=ax.streamplot(X[::index_cut_y,::index_cut_x],\\\n",
        "                         Y[::index_cut_y,::index_cut_x],\\\n",
        "                         u_p[::index_cut_y,::index_cut_x],\\\n",
        "                         v_p[::index_cut_y,::index_cut_x],\\\n",
        "                         color=\"k\")\n",
        "    return cont,stream"
      ],
      "execution_count": null,
      "outputs": []
    },
    {
      "cell_type": "code",
      "metadata": {
        "colab": {
          "base_uri": "https://localhost:8080/"
        },
        "id": "SmH7JotvNyiM",
        "outputId": "9a2d9c6d-ad47-44e2-e2c2-13d193218df5"
      },
      "source": [
        "print(\"######## Making FlowPy Animation ########\")\n",
        "print(\"#########################################\")\n",
        "anim=animation.FuncAnimation(fig,animate,frames=number_of_frames,interval=50,blit=False)\n",
        "movie_path=os.path.join(dir_path,\"FluidFlowAnimation.mp4\")\n",
        "anim.save(r\"{0}\".format(movie_path))\n",
        "print(\"\\nAnimation saved as FluidFlowAnimation.mp4 in Result\")"
      ],
      "execution_count": null,
      "outputs": [
        {
          "output_type": "stream",
          "name": "stdout",
          "text": [
            "######## Making FlowPy Animation ########\n",
            "#########################################\n",
            "Frames remaining: 001\n",
            "Animation saved as FluidFlowAnimation.mp4 in Result\n"
          ]
        }
      ]
    },
    {
      "cell_type": "code",
      "metadata": {
        "colab": {
          "base_uri": "https://localhost:8080/"
        },
        "id": "odCrjyYXQBV4",
        "outputId": "cea7fd23-77e4-49a1-8edf-b9460456c899"
      },
      "source": [
        "print(dir_path)"
      ],
      "execution_count": null,
      "outputs": [
        {
          "output_type": "stream",
          "name": "stdout",
          "text": [
            "/content/Result\n"
          ]
        }
      ]
    }
  ]
}