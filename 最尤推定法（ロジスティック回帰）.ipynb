{
  "nbformat": 4,
  "nbformat_minor": 0,
  "metadata": {
    "colab": {
      "name": "最尤推定法（ロジスティック回帰）.ipynb",
      "provenance": [],
      "collapsed_sections": [],
      "authorship_tag": "ABX9TyNkBFfy6MBDoOt3r0OZrzY2",
      "include_colab_link": true
    },
    "kernelspec": {
      "name": "python3",
      "display_name": "Python 3"
    },
    "language_info": {
      "name": "python"
    }
  },
  "cells": [
    {
      "cell_type": "markdown",
      "metadata": {
        "id": "view-in-github",
        "colab_type": "text"
      },
      "source": [
        "<a href=\"https://colab.research.google.com/github/afujii/class/blob/main/%E6%9C%80%E5%B0%A4%E6%8E%A8%E5%AE%9A%E6%B3%95%EF%BC%88%E3%83%AD%E3%82%B8%E3%82%B9%E3%83%86%E3%82%A3%E3%83%83%E3%82%AF%E5%9B%9E%E5%B8%B0%EF%BC%89.ipynb\" target=\"_parent\"><img src=\"https://colab.research.google.com/assets/colab-badge.svg\" alt=\"Open In Colab\"/></a>"
      ]
    },
    {
      "cell_type": "markdown",
      "metadata": {
        "id": "NxHLiE0rLvK5"
      },
      "source": [
        "# 最尤推定法(ロジスティック回帰)\n",
        "映像コンテンツの例をPythonコードで示す。初めにデータセットを作成する。"
      ]
    },
    {
      "cell_type": "code",
      "metadata": {
        "id": "2DTIlLRMLqyl"
      },
      "source": [
        "# i x_i, N_i, y_i を LIST で表現した。\n",
        "data = [[1,100,96,12],[2,120,99,21],[3,140,99,36],[4,160,97,61],[5,180,100,79],[6,200,98,83],[7,220,99,95],[8,240,100,99]]"
      ],
      "execution_count": 31,
      "outputs": []
    },
    {
      "cell_type": "markdown",
      "metadata": {
        "id": "Zj4HyvJjvlEO"
      },
      "source": [
        "はじめにデータの全体像を図示する。摂氏100度を1とする。"
      ]
    },
    {
      "cell_type": "code",
      "metadata": {
        "id": "gIFtHb2uPAsY"
      },
      "source": [
        "# -*- coding: utf-8 -*-\n",
        "import numpy as np\n",
        "import pandas as pd\n",
        "from pandas import Series, DataFrame"
      ],
      "execution_count": 32,
      "outputs": []
    },
    {
      "cell_type": "code",
      "metadata": {
        "id": "BqCrFLD3vkku"
      },
      "source": [
        "x = np.array([d[1]/100.0 for d in data])\n",
        "n = np.array([d[2] for d in data])\n",
        "y = np.array([d[3] for d in data])\n",
        "y_par_n = y/n"
      ],
      "execution_count": 49,
      "outputs": []
    },
    {
      "cell_type": "code",
      "metadata": {
        "colab": {
          "base_uri": "https://localhost:8080/",
          "height": 282
        },
        "id": "XoeId3TIxD2x",
        "outputId": "91cc0833-06fe-4348-d109-308c3f7a0d43"
      },
      "source": [
        "from matplotlib import pyplot as plt\n",
        "\n",
        "plt.scatter(x,y_par_n)"
      ],
      "execution_count": 50,
      "outputs": [
        {
          "output_type": "execute_result",
          "data": {
            "text/plain": [
              "<matplotlib.collections.PathCollection at 0x7f2ece98dad0>"
            ]
          },
          "metadata": {},
          "execution_count": 50
        },
        {
          "output_type": "display_data",
          "data": {
            "image/png": "[encoded data removed]",
            "text/plain": [
              "<Figure size 432x288 with 1 Axes>"
            ]
          },
          "metadata": {
            "needs_background": "light"
          }
        }
      ]
    },
    {
      "cell_type": "markdown",
      "metadata": {
        "id": "pjUxElnTxfEp"
      },
      "source": [
        "ロジスティック曲線　$ p(x|\\beta_0,\\beta_1) = \\frac{exp(\\beta_0 + \\beta_1)}{1+exp(\\beta_0+\\beta_1x)} = \\frac{exp(1)}{1+exp\\{-(\\beta_0+\\beta_1x)\\}}$ をこの点の集合にフィットさせることを行っていく。\n"
      ]
    },
    {
      "cell_type": "markdown",
      "metadata": {
        "id": "URAlTFcszI_Q"
      },
      "source": [
        "加熱温度が　$x_i (C^\\circ)$のとき、$N_i$個のサンプル中　$y_i$ 個の特性が変化する。この確率は、次の二項分布の式で表現できる。\n",
        " "
      ]
    },
    {
      "cell_type": "markdown",
      "metadata": {
        "id": "qUWlnutdz5dH"
      },
      "source": [
        "$　{}_{N_i} C_{y_i} P_i^{y_i}(1-P_i)^{N_i - y_i} $"
      ]
    },
    {
      "cell_type": "code",
      "metadata": {
        "id": "JPiUj65w1AN3"
      },
      "source": [
        "from scipy.special import comb\n",
        "def loglikelihood_function(Y, N, X, beta1, beta2):\n",
        "    res = 0\n",
        "    for y, n, x in zip(Y, N, X):\n",
        "        res += y * (beta1 + beta2 * x) - n * np.log(1 + np.exp(beta1 + beta2 * x)) + np.log(comb(n, y))\n",
        "    return res"
      ],
      "execution_count": 51,
      "outputs": []
    },
    {
      "cell_type": "markdown",
      "metadata": {
        "id": "ZbeJcyIG1dR4"
      },
      "source": [
        "$\\beta_0 　と　\\beta_1$ の範囲を適当に決めて、対数尤度の計算を行い、最適の組合せを計算する。付随的に、そのヒートマップを示すためのデータも取得しておく。"
      ]
    },
    {
      "cell_type": "code",
      "metadata": {
        "id": "RaDHilm11cUR"
      },
      "source": [
        "RESOLUTION = 100\n",
        "beta1_arr = np.linspace(-80, -40, RESOLUTION)\n",
        "beta2_arr = np.linspace(15, 55, RESOLUTION)"
      ],
      "execution_count": 52,
      "outputs": []
    },
    {
      "cell_type": "markdown",
      "metadata": {
        "id": "E-Plf7vo9YYY"
      },
      "source": [
        "上記の範囲で探査した結果をres に格納して、pandas の DataFrame を利用すると、最大値となる変数を取得する　idxmax() を利用できる。"
      ]
    },
    {
      "cell_type": "code",
      "metadata": {
        "colab": {
          "base_uri": "https://localhost:8080/"
        },
        "id": "IlgM95nL2JBR",
        "outputId": "462d41cd-e0cf-4740-cf6d-73aed66494d0"
      },
      "source": [
        "from itertools import product\n",
        "from tqdm import tqdm\n",
        "res = []\n",
        "for beta1, beta2 in tqdm(list(product(beta1_arr, beta2_arr))):\n",
        "    loglikelihood = loglikelihood_function(Y=y, N=n, X=x, beta1=beta1, beta2=beta2)\n",
        "    res.append([beta1, beta2, loglikelihood])\n",
        "res = pd.DataFrame(res, columns=['beta1', 'beta2', 'loglikelihood'])\n",
        "print(res[res.index == res['loglikelihood'].idxmax()])"
      ],
      "execution_count": 53,
      "outputs": [
        {
          "output_type": "stream",
          "name": "stderr",
          "text": [
            "100%|██████████| 10000/10000 [00:01<00:00, 6291.79it/s]"
          ]
        },
        {
          "output_type": "stream",
          "name": "stdout",
          "text": [
            "      beta1      beta2  loglikelihood\n",
            "9926  -40.0  25.505051    -651.764269\n"
          ]
        },
        {
          "output_type": "stream",
          "name": "stderr",
          "text": [
            "\n"
          ]
        }
      ]
    },
    {
      "cell_type": "markdown",
      "metadata": {
        "id": "Dhen4P3r4TvH"
      },
      "source": [
        "$\\beta_0 = -40.0 ,  \\beta_1 = 25.5 $ として、ロジスティック曲線を図示する。"
      ]
    },
    {
      "cell_type": "code",
      "metadata": {
        "id": "U20xewP541Kv"
      },
      "source": [
        "def logistic_func(beta1, beta2, x):\n",
        "  return 1.0/(1.0 + np.exp(-(beta1+beta2*x)))"
      ],
      "execution_count": 38,
      "outputs": []
    },
    {
      "cell_type": "code",
      "metadata": {
        "colab": {
          "base_uri": "https://localhost:8080/",
          "height": 282
        },
        "id": "rxGCdgIS48NP",
        "outputId": "654fa658-7db4-4234-e149-f545d39d6b9a"
      },
      "source": [
        "X2 = np.arange(1.0, 2.5, 0.005)\n",
        "Y2 = logistic_func( -40.0 , 25.5 , X2)\n",
        "plt.scatter(x,y_par_n)\n",
        "plt.plot(X2,Y2)"
      ],
      "execution_count": 64,
      "outputs": [
        {
          "output_type": "execute_result",
          "data": {
            "text/plain": [
              "[<matplotlib.lines.Line2D at 0x7f2ecea507d0>]"
            ]
          },
          "metadata": {},
          "execution_count": 64
        },
        {
          "output_type": "display_data",
          "data": {
            "image/png": "[encoded data removed]",
            "text/plain": [
              "<Figure size 432x288 with 1 Axes>"
            ]
          },
          "metadata": {
            "needs_background": "light"
          }
        }
      ]
    }
  ]
}