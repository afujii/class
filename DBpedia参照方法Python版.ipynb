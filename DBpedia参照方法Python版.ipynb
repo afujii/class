{
  "nbformat": 4,
  "nbformat_minor": 0,
  "metadata": {
    "colab": {
      "name": "DBpedia参照方法Python版.ipynb",
      "provenance": [],
      "authorship_tag": "ABX9TyNyzsFkQNjdz03IwNR8J3LN",
      "include_colab_link": true
    },
    "kernelspec": {
      "name": "python3",
      "display_name": "Python 3"
    },
    "language_info": {
      "name": "python"
    }
  },
  "cells": [
    {
      "cell_type": "markdown",
      "metadata": {
        "id": "view-in-github",
        "colab_type": "text"
      },
      "source": [
        "<a href=\"https://colab.research.google.com/github/afujii/class/blob/main/DBpedia%E5%8F%82%E7%85%A7%E6%96%B9%E6%B3%95Python%E7%89%88.ipynb\" target=\"_parent\"><img src=\"https://colab.research.google.com/assets/colab-badge.svg\" alt=\"Open In Colab\"/></a>"
      ]
    },
    {
      "cell_type": "markdown",
      "metadata": {
        "id": "WWk9tqkjwEQ4"
      },
      "source": [
        "# DBPedia に対する　HTTP リクエスト\n",
        "HTTP レスポンスは、RFD 形式の　URL からなる。中身を取り出す。\n",
        "【参考】伊藤春樹、2020年度法政大学応用情報工学科卒業論文"
      ]
    },
    {
      "cell_type": "code",
      "metadata": {
        "id": "q9yhslJmv_2G"
      },
      "source": [
        "import requests\n",
        "\n",
        "point_name = '正親町天皇'\n",
        "try:\n",
        "  r = requests.get(f'http://ja.dbpedia.org/data/{point_name}.json')\n",
        "  if r.status_code == 200:\n",
        "    update_dict = {}\n",
        "    result_dict = r.json()\n",
        "    if (f'http://ja.dbpedia.org/resource/{point_name}') in result_dict.keys():\n",
        "      point_dict = result_dict[f'http://ja.dbpedia.org/resource/{point_name}']\n",
        "      if 'http://dbpedia.org/ontology/abstract' in point_dict.keys():\n",
        "        for rdf_uri, value_list in point_dict.items():\n",
        "          for idx in range(0, len(value_list)):\n",
        "            if value_list[idx]['type'] == 'uri':\n",
        "              uri_split = value_list[idx]['value'].split('/')\n",
        "              if uri_split[2] == 'ja.dbpedia.org':\n",
        "              # 得られるURIはドメインがja.dbpedia.orgであり直接アクセスできないため,\n",
        "              # ja.wikipedia.orgに変更する.\n",
        "                name = uri_split[-1]\n",
        "                value_list[idx] = {'type': 'uri','value': f'https://ja.wikipedia.org/wiki/{name}'}\n",
        "          update_dict[rdf_uri] = value_list\n",
        "except Exception:\n",
        "  print('Error')"
      ],
      "execution_count": null,
      "outputs": []
    },
    {
      "cell_type": "code",
      "metadata": {
        "colab": {
          "base_uri": "https://localhost:8080/"
        },
        "id": "sItWoTgu0Rcc",
        "outputId": "5808ccdf-015a-4c81-ae22-b1ed768b72bd"
      },
      "source": [
        "print(result_dict.keys())\n",
        "print(point_dict.keys())"
      ],
      "execution_count": null,
      "outputs": [
        {
          "output_type": "stream",
          "name": "stdout",
          "text": [
            "dict_keys(['http://ja.dbpedia.org/resource/1517年', 'http://ja.dbpedia.org/resource/1577年', 'http://ja.dbpedia.org/resource/1581年', 'http://ja.dbpedia.org/resource/1585年', 'http://ja.dbpedia.org/resource/1593年', 'http://ja.dbpedia.org/resource/16世紀', 'http://ja.dbpedia.org/resource/1月5日_(旧暦)', 'http://ja.dbpedia.org/resource/2月6日', 'http://ja.dbpedia.org/resource/4月23日_(旧暦)', 'http://ja.dbpedia.org/resource/5月16日', 'http://ja.dbpedia.org/resource/5月29日_(旧暦)', 'http://ja.dbpedia.org/resource/6月18日', 'http://ja.dbpedia.org/resource/7月24日_(旧暦)', 'http://ja.dbpedia.org/resource/9月7日', 'http://ja.dbpedia.org/resource/MOA美術館', 'http://ja.dbpedia.org/resource/いとこ同士の夫婦一覧', 'http://ja.dbpedia.org/resource/へうげもの', 'http://ja.dbpedia.org/resource/スタメンKiDS', 'http://ja.dbpedia.org/resource/一条内基', 'http://ja.dbpedia.org/resource/丁銀', 'http://ja.dbpedia.org/resource/七宮神社_(神戸市)', 'http://ja.dbpedia.org/resource/万里小路充房', 'http://ja.dbpedia.org/resource/万里小路家', 'http://ja.dbpedia.org/resource/万里小路惟房', 'http://ja.dbpedia.org/resource/万里小路房子', 'http://ja.dbpedia.org/resource/万里小路栄子', 'http://ja.dbpedia.org/resource/万里小路輔房', 'http://ja.dbpedia.org/resource/三刀屋氏', 'http://ja.dbpedia.org/resource/三好氏', 'http://ja.dbpedia.org/resource/三好長慶', 'http://ja.dbpedia.org/resource/三時知恩寺', 'http://ja.dbpedia.org/resource/三条公頼', 'http://ja.dbpedia.org/resource/三条実綱', 'http://ja.dbpedia.org/resource/三条西公条', 'http://ja.dbpedia.org/resource/三条西実条', 'http://ja.dbpedia.org/resource/三条西実枝', 'http://ja.dbpedia.org/resource/三職推任問題', 'http://ja.dbpedia.org/resource/上杉景勝', 'http://ja.dbpedia.org/resource/上杉謙信', 'http://ja.dbpedia.org/resource/不退院', 'http://ja.dbpedia.org/resource/世襲親王家', 'http://ja.dbpedia.org/resource/中国大返し', 'http://ja.dbpedia.org/resource/中国攻め', 'http://ja.dbpedia.org/resource/中山冷泉為親', 'http://ja.dbpedia.org/resource/中山孝親', 'http://ja.dbpedia.org/resource/中山慶親', 'http://ja.dbpedia.org/resource/中山親綱', 'http://ja.dbpedia.org/resource/中御門宣教', 'http://ja.dbpedia.org/resource/中御門資胤', 'http://ja.dbpedia.org/resource/中条藤資', 'http://ja.dbpedia.org/resource/中院通勝', 'http://ja.dbpedia.org/resource/中院通為', 'http://ja.dbpedia.org/resource/丸目長恵', 'http://ja.dbpedia.org/resource/久我敦通', 'http://ja.dbpedia.org/resource/久我通堅', 'http://ja.dbpedia.org/resource/九条兼孝', 'http://ja.dbpedia.org/resource/九条稙通', 'http://ja.dbpedia.org/resource/亀之森住吉神社', 'http://ja.dbpedia.org/resource/二条城', 'http://ja.dbpedia.org/resource/二条昭実', 'http://ja.dbpedia.org/resource/二条晴良', 'http://ja.dbpedia.org/resource/五虎退', 'http://ja.dbpedia.org/resource/五辻之仲', 'http://ja.dbpedia.org/resource/京都国立博物館所蔵文化財一覧', 'http://ja.dbpedia.org/resource/京都御馬揃え', 'http://ja.dbpedia.org/resource/今出川公彦', 'http://ja.dbpedia.org/resource/今出川晴季', 'http://ja.dbpedia.org/resource/伊勢神宮禰宜職相論', 'http://ja.dbpedia.org/resource/伊達政宗', 'http://ja.dbpedia.org/resource/伏見宮邦輔親王', 'http://ja.dbpedia.org/resource/伝香寺', 'http://ja.dbpedia.org/resource/住吉神社_(京都市下京区醒ヶ井)', 'http://ja.dbpedia.org/resource/佐久間安政', 'http://ja.dbpedia.org/resource/保阪潤治', 'http://ja.dbpedia.org/resource/信長のシェフ', 'http://ja.dbpedia.org/resource/信長燃ゆ', 'http://ja.dbpedia.org/resource/元亀', 'http://ja.dbpedia.org/resource/元号一覧_(日本)', 'http://ja.dbpedia.org/resource/八条宮智仁親王', 'http://ja.dbpedia.org/resource/内大臣', 'http://ja.dbpedia.org/resource/冷泉為満', 'http://ja.dbpedia.org/resource/准大臣', 'http://ja.dbpedia.org/resource/利休_(映画)', 'http://ja.dbpedia.org/resource/勘解由小路在富', 'http://ja.dbpedia.org/resource/勧修寺光豊', 'http://ja.dbpedia.org/resource/勧修寺尹豊', 'http://ja.dbpedia.org/resource/勧修寺晴子', 'http://ja.dbpedia.org/resource/勧修寺晴秀', 'http://ja.dbpedia.org/resource/勧修寺晴豊', 'http://ja.dbpedia.org/resource/医心方', 'http://ja.dbpedia.org/resource/十河存保', 'http://ja.dbpedia.org/resource/千利休', 'http://ja.dbpedia.org/resource/千秋万歳', 'http://ja.dbpedia.org/resource/半井瑞策', 'http://ja.dbpedia.org/resource/即位の礼', 'http://ja.dbpedia.org/resource/即位灌頂', 'http://ja.dbpedia.org/resource/右大臣', 'http://ja.dbpedia.org/resource/吉田兼右', 'http://ja.dbpedia.org/resource/吉田兼治', 'http://ja.dbpedia.org/resource/吉田兼見', 'http://ja.dbpedia.org/resource/吉田司家', 'http://ja.dbpedia.org/resource/周養', 'http://ja.dbpedia.org/resource/四条隆昌', 'http://ja.dbpedia.org/resource/四辻公遠', 'http://ja.dbpedia.org/resource/四辻季遠', 'http://ja.dbpedia.org/resource/国司元相', 'http://ja.dbpedia.org/resource/国司氏', 'http://ja.dbpedia.org/resource/国母', 'http://ja.dbpedia.org/resource/園基任', 'http://ja.dbpedia.org/resource/土佐光茂', 'http://ja.dbpedia.org/resource/土御門久脩', 'http://ja.dbpedia.org/resource/坂東玉三郎_(5代目)', 'http://ja.dbpedia.org/resource/声聞師', 'http://ja.dbpedia.org/resource/多宝院_(下妻市)', 'http://ja.dbpedia.org/resource/多宝院_(能代市)', 'http://ja.dbpedia.org/resource/大元帥法', 'http://ja.dbpedia.org/resource/大宮伊治', 'http://ja.dbpedia.org/resource/大日本野史', 'http://ja.dbpedia.org/resource/大林宗套', 'http://ja.dbpedia.org/resource/大炊御門経頼', 'http://ja.dbpedia.org/resource/大炊御門頼国', 'http://ja.dbpedia.org/resource/大覚寺', 'http://ja.dbpedia.org/resource/大谷家', 'http://ja.dbpedia.org/resource/大雲院_(京都市)', 'http://ja.dbpedia.org/resource/天台座主', 'http://ja.dbpedia.org/resource/天正', 'http://ja.dbpedia.org/resource/天正_(曖昧さ回避)', 'http://ja.dbpedia.org/resource/天照大神', 'http://ja.dbpedia.org/resource/天皇', 'http://ja.dbpedia.org/resource/天皇の一覧', 'http://ja.dbpedia.org/resource/天皇陵', 'http://ja.dbpedia.org/resource/天覧相撲', 'http://ja.dbpedia.org/resource/太上天皇', 'http://ja.dbpedia.org/resource/太政大臣', 'http://ja.dbpedia.org/resource/女系天皇', 'http://ja.dbpedia.org/resource/女院', 'http://ja.dbpedia.org/resource/妙国寺', 'http://ja.dbpedia.org/resource/姉小路良頼', 'http://ja.dbpedia.org/resource/姉小路頼綱', 'http://ja.dbpedia.org/resource/子持山', 'http://ja.dbpedia.org/resource/安土桃山時代の人物一覧', 'http://ja.dbpedia.org/resource/安楽行院', 'http://ja.dbpedia.org/resource/宗族制_(華族)', 'http://ja.dbpedia.org/resource/宮内庁治定陵墓の一覧', 'http://ja.dbpedia.org/resource/宮号', 'http://ja.dbpedia.org/resource/宮家', 'http://ja.dbpedia.org/resource/宮家一覧', 'http://ja.dbpedia.org/resource/専照寺', 'http://ja.dbpedia.org/resource/小西隆佐', 'http://ja.dbpedia.org/resource/居士', 'http://ja.dbpedia.org/resource/山科言継', 'http://ja.dbpedia.org/resource/山陵志', 'http://ja.dbpedia.org/resource/川端道喜', 'http://ja.dbpedia.org/resource/左大臣', 'http://ja.dbpedia.org/resource/常栄寺_(山口市)', 'http://ja.dbpedia.org/resource/常胤法親王', 'http://ja.dbpedia.org/resource/幸阿弥派', 'http://ja.dbpedia.org/resource/広幡家', 'http://ja.dbpedia.org/resource/広幡忠幸', 'http://ja.dbpedia.org/resource/広橋兼勝', 'http://ja.dbpedia.org/resource/広橋国光', 'http://ja.dbpedia.org/resource/康正_(仏師)', 'http://ja.dbpedia.org/resource/廬山寺', 'http://ja.dbpedia.org/resource/弘治_(日本)', 'http://ja.dbpedia.org/resource/後奈良天皇', 'http://ja.dbpedia.org/resource/後陽成天皇', 'http://ja.dbpedia.org/resource/得川氏', 'http://ja.dbpedia.org/resource/御薗夢分斎', 'http://ja.dbpedia.org/resource/徳仁', 'http://ja.dbpedia.org/resource/徳大寺公維', 'http://ja.dbpedia.org/resource/徳川家康', 'http://ja.dbpedia.org/resource/徳川氏', 'http://ja.dbpedia.org/resource/忉利天上寺', 'http://ja.dbpedia.org/resource/快川紹喜', 'http://ja.dbpedia.org/resource/悠仁親王', 'http://ja.dbpedia.org/resource/戦国時代の人物一覧_(日本)', 'http://ja.dbpedia.org/resource/摂政・関白の一覧', 'http://ja.dbpedia.org/resource/教如', 'http://ja.dbpedia.org/resource/文禄', 'http://ja.dbpedia.org/resource/施薬院', 'http://ja.dbpedia.org/resource/日本の書家一覧', 'http://ja.dbpedia.org/resource/日本史記', 'http://ja.dbpedia.org/resource/日本号_(槍)', 'http://ja.dbpedia.org/resource/日本王代一覧', 'http://ja.dbpedia.org/resource/日野輝資', 'http://ja.dbpedia.org/resource/旧皇族', 'http://ja.dbpedia.org/resource/明智光秀', 'http://ja.dbpedia.org/resource/曲直瀬正琳', 'http://ja.dbpedia.org/resource/曲直瀬玄朔', 'http://ja.dbpedia.org/resource/曲直瀬道三', 'http://ja.dbpedia.org/resource/月渓聖澄', 'http://ja.dbpedia.org/resource/朝敵', 'http://ja.dbpedia.org/resource/本朝皇胤紹運録', 'http://ja.dbpedia.org/resource/本翁意伯', 'http://ja.dbpedia.org/resource/本能寺の変', 'http://ja.dbpedia.org/resource/本願寺の歴史', 'http://ja.dbpedia.org/resource/村井貞勝', 'http://ja.dbpedia.org/resource/東光院_(千葉市)', 'http://ja.dbpedia.org/resource/東北院', 'http://ja.dbpedia.org/resource/松永久秀', 'http://ja.dbpedia.org/resource/林廣守', 'http://ja.dbpedia.org/resource/桂宮', 'http://ja.dbpedia.org/resource/桂男', 'http://ja.dbpedia.org/resource/桂離宮', 'http://ja.dbpedia.org/resource/桃山文化', 'http://ja.dbpedia.org/resource/森本レオ', 'http://ja.dbpedia.org/resource/楠木正成', 'http://ja.dbpedia.org/resource/楠木正虎', 'http://ja.dbpedia.org/resource/楠木氏', 'http://ja.dbpedia.org/resource/槇島城の戦い', 'http://ja.dbpedia.org/resource/橘氏_(伊予国)', 'http://ja.dbpedia.org/resource/櫛笥隆致', 'http://ja.dbpedia.org/resource/正親町', 'http://ja.dbpedia.org/resource/正親町三条公仲', 'http://ja.dbpedia.org/resource/正親町三条公兄', 'http://ja.dbpedia.org/resource/正親町三条実福', 'http://ja.dbpedia.org/resource/正親町天皇', 'http://ja.dbpedia.org/resource/正親町季秀', 'http://ja.dbpedia.org/resource/正親町院', 'http://ja.dbpedia.org/resource/武田信玄', 'http://ja.dbpedia.org/resource/武田勝頼', 'http://ja.dbpedia.org/resource/比叡山焼き討ち_(1571年)', 'http://ja.dbpedia.org/resource/毛利元就', 'http://ja.dbpedia.org/resource/毛利氏', 'http://ja.dbpedia.org/resource/毛利輝元', 'http://ja.dbpedia.org/resource/毛利隆元', 'http://ja.dbpedia.org/resource/水無瀬親具', 'http://ja.dbpedia.org/resource/永正', 'http://ja.dbpedia.org/resource/永禄', 'http://ja.dbpedia.org/resource/江岩寺', 'http://ja.dbpedia.org/resource/江戸重通', 'http://ja.dbpedia.org/resource/泉涌寺', 'http://ja.dbpedia.org/resource/法然寺_(京都市)', 'http://ja.dbpedia.org/resource/波多野宗高', 'http://ja.dbpedia.org/resource/波多野秀治', 'http://ja.dbpedia.org/resource/浄土宗', 'http://ja.dbpedia.org/resource/浄土真宗', 'http://ja.dbpedia.org/resource/淀古城', 'http://ja.dbpedia.org/resource/清華家', 'http://ja.dbpedia.org/resource/源氏', 'http://ja.dbpedia.org/resource/烏丸光広', 'http://ja.dbpedia.org/resource/狩野山楽', 'http://ja.dbpedia.org/resource/猪熊教利', 'http://ja.dbpedia.org/resource/甘露寺経元', 'http://ja.dbpedia.org/resource/甘露寺経遠', 'http://ja.dbpedia.org/resource/生口島', 'http://ja.dbpedia.org/resource/甲州征伐', 'http://ja.dbpedia.org/resource/畠山義綱', 'http://ja.dbpedia.org/resource/畿内・近国の戦国時代', 'http://ja.dbpedia.org/resource/白山比咩神社', 'http://ja.dbpedia.org/resource/白川雅朝王', 'http://ja.dbpedia.org/resource/白川雅業王', 'http://ja.dbpedia.org/resource/白幡天神社', 'http://ja.dbpedia.org/resource/皇位簒奪', 'http://ja.dbpedia.org/resource/皇位継承', 'http://ja.dbpedia.org/resource/皇別', 'http://ja.dbpedia.org/resource/皇別摂家', 'http://ja.dbpedia.org/resource/皇室', 'http://ja.dbpedia.org/resource/皇室の系図一覧', 'http://ja.dbpedia.org/resource/益田藤兼', 'http://ja.dbpedia.org/resource/相撲節会', 'http://ja.dbpedia.org/resource/真宗三門徒派', 'http://ja.dbpedia.org/resource/真宗高田派', 'http://ja.dbpedia.org/resource/真珠庵', 'http://ja.dbpedia.org/resource/知恩院', 'http://ja.dbpedia.org/resource/石山合戦', 'http://ja.dbpedia.org/resource/石山本願寺', 'http://ja.dbpedia.org/resource/神宮式年遷宮', 'http://ja.dbpedia.org/resource/禁教令', 'http://ja.dbpedia.org/resource/秋篠宮文仁親王', 'http://ja.dbpedia.org/resource/稲葉山城の戦い', 'http://ja.dbpedia.org/resource/立入宗継', 'http://ja.dbpedia.org/resource/竹田定加', 'http://ja.dbpedia.org/resource/竺雲恵心', 'http://ja.dbpedia.org/resource/笑嶺宗訢', 'http://ja.dbpedia.org/resource/策彦周良', 'http://ja.dbpedia.org/resource/細川昭元', 'http://ja.dbpedia.org/resource/総持寺_(和歌山市)', 'http://ja.dbpedia.org/resource/織田信孝', 'http://ja.dbpedia.org/resource/織田信忠', 'http://ja.dbpedia.org/resource/織田信長', 'http://ja.dbpedia.org/resource/織田信長_(1989年のテレビドラマ)', 'http://ja.dbpedia.org/resource/群書類従', 'http://ja.dbpedia.org/resource/耕三寺', 'http://ja.dbpedia.org/resource/聚楽第行幸', 'http://ja.dbpedia.org/resource/臣籍降下', 'http://ja.dbpedia.org/resource/臨済寺_(静岡市)', 'http://ja.dbpedia.org/resource/興正寺別院', 'http://ja.dbpedia.org/resource/船岡山', 'http://ja.dbpedia.org/resource/船津神社', 'http://ja.dbpedia.org/resource/花山院定熙', 'http://ja.dbpedia.org/resource/花山院家輔', 'http://ja.dbpedia.org/resource/薄諸光', 'http://ja.dbpedia.org/resource/藤原栄子', 'http://ja.dbpedia.org/resource/藤波朝忠', 'http://ja.dbpedia.org/resource/西園寺公朝', 'http://ja.dbpedia.org/resource/西園寺公益', 'http://ja.dbpedia.org/resource/西園寺実益', 'http://ja.dbpedia.org/resource/西川傳右衛門_(初代)', 'http://ja.dbpedia.org/resource/西洞院時慶', 'http://ja.dbpedia.org/resource/覚恕', 'http://ja.dbpedia.org/resource/覚深入道親王', 'http://ja.dbpedia.org/resource/観音寺_(鈴鹿市寺家)', 'http://ja.dbpedia.org/resource/観音寺城の戦い', 'http://ja.dbpedia.org/resource/誠仁親王', 'http://ja.dbpedia.org/resource/諏訪神社_(西尾市)', 'http://ja.dbpedia.org/resource/譲位', 'http://ja.dbpedia.org/resource/豊榮神社・野田神社', 'http://ja.dbpedia.org/resource/豊臣家の人々', 'http://ja.dbpedia.org/resource/豊臣政権', 'http://ja.dbpedia.org/resource/豊臣氏', 'http://ja.dbpedia.org/resource/豊臣秀吉', 'http://ja.dbpedia.org/resource/豊臣秀次', 'http://ja.dbpedia.org/resource/賀茂在昌', 'http://ja.dbpedia.org/resource/贈位', 'http://ja.dbpedia.org/resource/足利義昭', 'http://ja.dbpedia.org/resource/足利義輝', 'http://ja.dbpedia.org/resource/軍師官兵衛', 'http://ja.dbpedia.org/resource/辻本祐樹', 'http://ja.dbpedia.org/resource/近衛信尹', 'http://ja.dbpedia.org/resource/近衛前久', 'http://ja.dbpedia.org/resource/道家氏', 'http://ja.dbpedia.org/resource/達磨寺_(奈良県王寺町)', 'http://ja.dbpedia.org/resource/郡山八幡神社_(大和郡山市)', 'http://ja.dbpedia.org/resource/野田城・福島城の戦い', 'http://ja.dbpedia.org/resource/鍼医', 'http://ja.dbpedia.org/resource/鐚銭', 'http://ja.dbpedia.org/resource/門跡', 'http://ja.dbpedia.org/resource/関白相論', 'http://ja.dbpedia.org/resource/阿野実顕', 'http://ja.dbpedia.org/resource/雅楽', 'http://ja.dbpedia.org/resource/霊松寺_(高槻市)', 'http://ja.dbpedia.org/resource/青蓮院', 'http://ja.dbpedia.org/resource/須藤琉偉', 'http://ja.dbpedia.org/resource/顕如', 'http://ja.dbpedia.org/resource/願得寺', 'http://ja.dbpedia.org/resource/飛鳥井雅春', 'http://ja.dbpedia.org/resource/飛鳥井雅綱', 'http://ja.dbpedia.org/resource/高仁親王', 'http://ja.dbpedia.org/resource/高辻長雅', 'http://ja.dbpedia.org/resource/鯨肉', 'http://ja.dbpedia.org/resource/鳥居忠吉', 'http://ja.dbpedia.org/resource/鷹司信房', 'http://ja.dbpedia.org/resource/鹿王院', 'http://ja.dbpedia.org/resource/麒麟がくる', 'http://ja.dbpedia.org/resource/黄金の茶室', 'http://ja.dbpedia.org/resource/龍雲寺_(佐久市)', 'http://ja.dbpedia.org/resource/三方楽所', 'http://ja.dbpedia.org/resource/下間頼廉', 'http://ja.dbpedia.org/resource/伊勢神宮遷宮前後相論', 'http://ja.dbpedia.org/resource/公家町', 'http://ja.dbpedia.org/resource/公家領', 'http://ja.dbpedia.org/resource/円珠尼', 'http://ja.dbpedia.org/resource/啓迪集', 'http://ja.dbpedia.org/resource/宝寿院祐心尼', 'http://ja.dbpedia.org/resource/慶寿院鎮永尼', 'http://ja.dbpedia.org/resource/方仁親王', 'http://ja.dbpedia.org/resource/節香徳忠', 'http://ja.dbpedia.org/resource/絹衣相論', 'http://ja.dbpedia.org/resource/続史愚抄', 'http://ja.dbpedia.org/resource/阿曽三右衛門', 'http://ja.dbpedia.org/resource/顕尊', 'http://ja.dbpedia.org/resource/正親町上皇', 'http://ja.wikipedia.org/wiki/正親町天皇', 'http://ja.dbpedia.org/data/正親町天皇.json'])\n",
            "dict_keys(['http://www.w3.org/2000/01/rdf-schema#label', 'http://www.w3.org/2000/01/rdf-schema#comment', 'http://www.w3.org/2002/07/owl#sameAs', 'http://ja.dbpedia.org/property/先代', 'http://ja.dbpedia.org/property/次代', 'http://ja.dbpedia.org/property/画像', 'http://ja.dbpedia.org/property/説明', 'http://ja.dbpedia.org/property/首都', 'http://ja.dbpedia.org/property/即位礼', 'http://ja.dbpedia.org/property/和暦在位期間', 'http://ja.dbpedia.org/property/大喪儀', 'http://ja.dbpedia.org/property/皇居', 'http://ja.dbpedia.org/property/追号', 'http://ja.dbpedia.org/property/典侍', 'http://purl.org/dc/terms/subject', 'http://dbpedia.org/ontology/wikiPageID', 'http://dbpedia.org/ontology/wikiPageRevisionID', 'http://dbpedia.org/ontology/wikiPageWikiLink', 'http://dbpedia.org/ontology/wikiPageExternalLink', 'http://ja.dbpedia.org/property/wikiPageUsesTemplate', 'http://xmlns.com/foaf/0.1/homepage', 'http://ja.dbpedia.org/property/父親', 'http://ja.dbpedia.org/property/時代', 'http://ja.dbpedia.org/property/母親', 'http://ja.dbpedia.org/property/在位', 'http://ja.dbpedia.org/property/年号', 'http://ja.dbpedia.org/property/陵墓', 'http://ja.dbpedia.org/property/諱', 'http://ja.dbpedia.org/property/没地', 'http://ja.dbpedia.org/property/没年', 'http://ja.dbpedia.org/property/生年', 'http://ja.dbpedia.org/property/名', 'http://ja.dbpedia.org/property/代数', 'http://ja.dbpedia.org/property/子', 'http://ja.dbpedia.org/property/政府首脳人物', 'http://ja.dbpedia.org/property/政府首脳官職', 'http://www.w3.org/ns/prov#wasDerivedFrom', 'http://ja.dbpedia.org/property/元服', 'http://dbpedia.org/ontology/abstract', 'http://xmlns.com/foaf/0.1/isPrimaryTopicOf', 'http://dbpedia.org/ontology/wikiPageLength'])\n"
          ]
        }
      ]
    }
  ]
}