{
  "nbformat": 4,
  "nbformat_minor": 0,
  "metadata": {
    "colab": {
      "name": "transformer確認.ipynb",
      "provenance": [],
      "collapsed_sections": [],
      "authorship_tag": "ABX9TyP+4J1wULpGivOcHVbVV+wp",
      "include_colab_link": true
    },
    "kernelspec": {
      "name": "python3",
      "display_name": "Python 3"
    },
    "language_info": {
      "name": "python"
    }
  },
  "cells": [
    {
      "cell_type": "markdown",
      "metadata": {
        "id": "view-in-github",
        "colab_type": "text"
      },
      "source": [
        "<a href=\"https://colab.research.google.com/github/afujii/class/blob/main/transformer%E7%A2%BA%E8%AA%8D.ipynb\" target=\"_parent\"><img src=\"https://colab.research.google.com/assets/colab-badge.svg\" alt=\"Open In Colab\"/></a>"
      ]
    },
    {
      "cell_type": "code",
      "metadata": {
        "colab": {
          "base_uri": "https://localhost:8080/"
        },
        "id": "SH-77Wdp1JHi",
        "outputId": "b5f9a1a4-2a6f-49d5-f032-f8aa10d49dbb"
      },
      "source": [
        "from google.colab import drive\n",
        "drive.mount('/content/drive')\n",
        "\n",
        "!mkdir -p '/content/drive/My Drive/work'\n",
        "%cd '/content/drive/My Drive/work'"
      ],
      "execution_count": 1,
      "outputs": [
        {
          "output_type": "stream",
          "name": "stdout",
          "text": [
            "Mounted at /content/drive\n",
            "/content/drive/My Drive/work\n"
          ]
        }
      ]
    },
    {
      "cell_type": "code",
      "metadata": {
        "colab": {
          "base_uri": "https://localhost:8080/"
        },
        "id": "LQOK4UqIzZnV",
        "outputId": "b635c95b-07a1-4a62-c63d-0aba3352fb13"
      },
      "source": [
        "!git clone https://github.com/huggingface/transformers -b v4.4.2"
      ],
      "execution_count": 2,
      "outputs": [
        {
          "output_type": "stream",
          "name": "stdout",
          "text": [
            "fatal: destination path 'transformers' already exists and is not an empty directory.\n"
          ]
        }
      ]
    },
    {
      "cell_type": "code",
      "metadata": {
        "id": "sn-frCgpzodl"
      },
      "source": [
        "!pip install transformers"
      ],
      "execution_count": null,
      "outputs": []
    },
    {
      "cell_type": "code",
      "metadata": {
        "id": "lvwhGjfgVdxb"
      },
      "source": [
        "from transformers import pipeline"
      ],
      "execution_count": 4,
      "outputs": []
    },
    {
      "cell_type": "code",
      "metadata": {
        "id": "nQAYfGMozyUF"
      },
      "source": [
        "!pip install fugashi[unidic-lite]"
      ],
      "execution_count": null,
      "outputs": []
    },
    {
      "cell_type": "code",
      "metadata": {
        "id": "m746kPldz_QY"
      },
      "source": [
        "!pip install ipadic"
      ],
      "execution_count": null,
      "outputs": []
    },
    {
      "cell_type": "code",
      "metadata": {
        "colab": {
          "base_uri": "https://localhost:8080/"
        },
        "id": "Wmp_YZD_0fjJ",
        "outputId": "1bca5056-ee9b-43ff-a12b-9e2a11306e89"
      },
      "source": [
        "%cd '/content/drive/My Drive/work'"
      ],
      "execution_count": 7,
      "outputs": [
        {
          "output_type": "stream",
          "name": "stdout",
          "text": [
            "/content/drive/My Drive/work\n"
          ]
        }
      ]
    },
    {
      "cell_type": "code",
      "metadata": {
        "id": "auwP1O5e74kO"
      },
      "source": [
        "!pip install datasets==1.2.1"
      ],
      "execution_count": null,
      "outputs": []
    },
    {
      "cell_type": "code",
      "metadata": {
        "id": "etZVPn2m8Cmz"
      },
      "source": [
        "import torch\n",
        "from transformers import BertJapaneseTokenizer, AutoModelForMaskedLM, AutoModelForSequenceClassification"
      ],
      "execution_count": 9,
      "outputs": []
    },
    {
      "cell_type": "code",
      "metadata": {
        "id": "roie2r578TWL"
      },
      "source": [
        "tokenizer = BertJapaneseTokenizer.from_pretrained('cl-tohoku/bert-base-japanese-whole-word-masking')"
      ],
      "execution_count": null,
      "outputs": []
    },
    {
      "cell_type": "code",
      "metadata": {
        "id": "T1OwO_B--DeD"
      },
      "source": [
        "model = AutoModelForMaskedLM.from_pretrained('cl-tohoku/bert-base-japanese-whole-word-masking')"
      ],
      "execution_count": null,
      "outputs": []
    },
    {
      "cell_type": "code",
      "metadata": {
        "id": "Xw_AS5kP_lpo"
      },
      "source": [
        "text = f'今もっとも話題になっている映画は、「{tokenizer.mask_token}」である。'\n",
        "input_ids = tokenizer.encode(text, return_tensors='pt')\n",
        "masked_index = torch.where(input_ids == tokenizer.mask_token_id)[1].tolist()[0]\n",
        "result = model(input_ids)\n",
        "pred_ids = result[0][:,masked_index].topk(5).indices.tolist()[0]"
      ],
      "execution_count": 21,
      "outputs": []
    },
    {
      "cell_type": "code",
      "metadata": {
        "colab": {
          "base_uri": "https://localhost:8080/"
        },
        "id": "alUpMGtgBD-T",
        "outputId": "6ec0a1f1-3d8d-4e5e-c0a0-775f5f15ec98"
      },
      "source": [
        "for pred_id in pred_ids:\n",
        "  output_ids = input_ids.tolist()[0]\n",
        "  output_ids[masked_index] = pred_id\n",
        "  print(tokenizer.decode(output_ids))"
      ],
      "execution_count": 22,
      "outputs": [
        {
          "output_type": "stream",
          "name": "stdout",
          "text": [
            "[CLS] 今 もっとも 話題 に なっ て いる 映画 は 、 「 ゴジラ 」 で ある 。 [SEP]\n",
            "[CLS] 今 もっとも 話題 に なっ て いる 映画 は 、 「 007 」 で ある 。 [SEP]\n",
            "[CLS] 今 もっとも 話題 に なっ て いる 映画 は 、 「 エイリアン 」 で ある 。 [SEP]\n",
            "[CLS] 今 もっとも 話題 に なっ て いる 映画 は 、 「 \"\" 」 で ある 。 [SEP]\n",
            "[CLS] 今 もっとも 話題 に なっ て いる 映画 は 、 「 バットマン 」 で ある 。 [SEP]\n"
          ]
        }
      ]
    }
  ]
}