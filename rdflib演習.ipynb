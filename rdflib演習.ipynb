{
  "nbformat": 4,
  "nbformat_minor": 0,
  "metadata": {
    "colab": {
      "name": "rdflib演習.ipynb",
      "provenance": [],
      "collapsed_sections": [],
      "mount_file_id": "1LMTLMOHVEwLctP8VbyNUsB0ojLyDwbfO",
      "authorship_tag": "ABX9TyOHihTr63xtRXFuS5+PpSeW"
    },
    "kernelspec": {
      "name": "python3",
      "display_name": "Python 3"
    },
    "language_info": {
      "name": "python"
    }
  },
  "cells": [
    {
      "cell_type": "markdown",
      "metadata": {
        "id": "qdpheqsTNx3k"
      },
      "source": [
        "# rdflib のチュートリアルを基にRDFの基礎を学習する"
      ]
    },
    {
      "cell_type": "markdown",
      "metadata": {
        "id": "Z0AyMVJJa53k"
      },
      "source": [
        "## 1. 既存RDFデータの読み込みと内容の確認"
      ]
    },
    {
      "cell_type": "markdown",
      "metadata": {
        "id": "yx4VHYk9JpGo"
      },
      "source": [
        "rdflib のインストール、google colab 上での　pip は、　!pip で動作する。"
      ]
    },
    {
      "cell_type": "code",
      "metadata": {
        "id": "TbAqw3WmG_tj",
        "colab": {
          "base_uri": "https://localhost:8080/"
        },
        "outputId": "774126bd-84a8-4ceb-95e0-b25961f3783d"
      },
      "source": [
        "! pip install rdflib"
      ],
      "execution_count": null,
      "outputs": [
        {
          "output_type": "stream",
          "name": "stdout",
          "text": [
            "Collecting rdflib\n",
            "  Downloading rdflib-6.0.1-py3-none-any.whl (379 kB)\n",
            "\u001b[K     |████████████████████████████████| 379 kB 5.2 MB/s \n",
            "\u001b[?25hRequirement already satisfied: pyparsing in /usr/local/lib/python3.7/dist-packages (from rdflib) (2.4.7)\n",
            "Collecting isodate\n",
            "  Downloading isodate-0.6.0-py2.py3-none-any.whl (45 kB)\n",
            "\u001b[K     |████████████████████████████████| 45 kB 3.5 MB/s \n",
            "\u001b[?25hRequirement already satisfied: setuptools in /usr/local/lib/python3.7/dist-packages (from rdflib) (57.4.0)\n",
            "Requirement already satisfied: six in /usr/local/lib/python3.7/dist-packages (from isodate->rdflib) (1.15.0)\n",
            "Installing collected packages: isodate, rdflib\n",
            "Successfully installed isodate-0.6.0 rdflib-6.0.1\n"
          ]
        }
      ]
    },
    {
      "cell_type": "markdown",
      "metadata": {
        "id": "KqS8zPRKSlkY"
      },
      "source": [
        "rdflib を利用した最も基本的なプログラム。ネット上のRDF データ（TBLの個人情報）を読み込む。"
      ]
    },
    {
      "cell_type": "code",
      "metadata": {
        "id": "Asy-zu86JmgK",
        "colab": {
          "base_uri": "https://localhost:8080/"
        },
        "outputId": "c8a35281-493c-411e-ba00-9c2a30166dbd"
      },
      "source": [
        "from rdflib import Namespace,BNode\n",
        "from rdflib import URIRef, Graph\n",
        "# Create a Graph\n",
        "g = Graph()\n",
        "\n",
        "# Parse in an RDF file hosted on the Internet\n",
        "g.parse(\"http://www.w3.org/People/Berners-Lee/card\")\n",
        "\n",
        "# Loop through each triple in the graph (subj, pred, obj)\n",
        "for subj, pred, obj in g:\n",
        "    # Check if there is at least one triple in the Graph\n",
        "    if (subj, pred, obj) not in g:\n",
        "       raise Exception(\"It better be!\")\n",
        "\n",
        "# Print the number of \"triples\" in the Graph\n",
        "print(f\"Graph g has {len(g)} statements.\")\n",
        "# Prints: Graph g has 86 statements.\n",
        "\n",
        "# Print out the entire Graph in the RDF Turtle format\n",
        "#print(g.serialize(format=\"turtle\"))"
      ],
      "execution_count": null,
      "outputs": [
        {
          "output_type": "stream",
          "name": "stdout",
          "text": [
            "Graph g has 86 statements.\n"
          ]
        }
      ]
    },
    {
      "cell_type": "markdown",
      "metadata": {
        "id": "7TnFakI_LB_Y"
      },
      "source": [
        "Berners-Lee/card では、この人物に関する情報が、3項組（主語-述語-> 目的語）で示されている。　86個の項目が定義されている。"
      ]
    },
    {
      "cell_type": "code",
      "metadata": {
        "colab": {
          "base_uri": "https://localhost:8080/"
        },
        "id": "71Pnin3ULcKj",
        "outputId": "1a62094f-b973-4ffb-cdbd-80bb8cb01842"
      },
      "source": [
        "print(g.serialize( format = \"turtle\"))"
      ],
      "execution_count": null,
      "outputs": [
        {
          "output_type": "stream",
          "name": "stdout",
          "text": [
            "@prefix : <http://xmlns.com/foaf/0.1/> .\n",
            "@prefix cc: <http://creativecommons.org/ns#> .\n",
            "@prefix cert: <http://www.w3.org/ns/auth/cert#> .\n",
            "@prefix con: <http://www.w3.org/2000/10/swap/pim/contact#> .\n",
            "@prefix dc: <http://purl.org/dc/elements/1.1/> .\n",
            "@prefix dct: <http://purl.org/dc/terms/> .\n",
            "@prefix doap: <http://usefulinc.com/ns/doap#> .\n",
            "@prefix geo: <http://www.w3.org/2003/01/geo/wgs84_pos#> .\n",
            "@prefix ldp: <http://www.w3.org/ns/ldp#> .\n",
            "@prefix rdfs: <http://www.w3.org/2000/01/rdf-schema#> .\n",
            "@prefix schema: <http://schema.org/> .\n",
            "@prefix sioc: <http://rdfs.org/sioc/ns#> .\n",
            "@prefix solid: <http://www.w3.org/ns/solid/terms#> .\n",
            "@prefix space: <http://www.w3.org/ns/pim/space#> .\n",
            "@prefix vcard: <http://www.w3.org/2006/vcard/ns#> .\n",
            "@prefix xsd: <http://www.w3.org/2001/XMLSchema#> .\n",
            "\n",
            "<http://dig.csail.mit.edu/2005/ajar/ajaw/data#Tabulator> doap:developer <https://www.w3.org/People/Berners-Lee/card#i> .\n",
            "\n",
            "<http://dig.csail.mit.edu/2007/01/camp/data#course> :maker <https://www.w3.org/People/Berners-Lee/card#i> .\n",
            "\n",
            "<http://dig.csail.mit.edu/data#DIG> :member <https://www.w3.org/People/Berners-Lee/card#i> .\n",
            "\n",
            "<http://wiki.ontoworld.org/index.php/_IRW2006> dc:title \"Identity, Reference and the Web workshop 2006\" ;\n",
            "    con:participant <https://www.w3.org/People/Berners-Lee/card#i> .\n",
            "\n",
            "<http://www.ecs.soton.ac.uk/~dt2/dlstuff/www2006_data#panel-panelk01> rdfs:label \"The Next Wave of the Web (Plenary Panel)\" ;\n",
            "    con:participant <https://www.w3.org/People/Berners-Lee/card#i> .\n",
            "\n",
            "<http://www.w3.org/2000/10/swap/data#Cwm> doap:developer <https://www.w3.org/People/Berners-Lee/card#i> .\n",
            "\n",
            "<http://www.w3.org/2011/Talks/0331-hyderabad-tbl/data#talk> dct:title \"Designing the Web for an Open Society\" ;\n",
            "    :maker <https://www.w3.org/People/Berners-Lee/card#i> .\n",
            "\n",
            "<http://www.w3.org/DesignIssues/Overview.html> dc:title \"Design Issues for the World Wide Web\" ;\n",
            "    :maker <https://www.w3.org/People/Berners-Lee/card#i> .\n",
            "\n",
            "<http://www.w3.org/People/Berners-Lee/card> a :PersonalProfileDocument ;\n",
            "    cc:license <http://creativecommons.org/licenses/by-nc/3.0/> ;\n",
            "    dc:title \"Tim Berners-Lee's FOAF file\" ;\n",
            "    :maker <https://www.w3.org/People/Berners-Lee/card#i> ;\n",
            "    :primaryTopic <https://www.w3.org/People/Berners-Lee/card#i> .\n",
            "\n",
            "<http://www.w3.org/People/Berners-Lee/card#i> cert:key [ a cert:RSAPublicKey ;\n",
            "            cert:exponent 65537 ;\n",
            "            cert:modulus \"ebe99c737bd3670239600547e5e2eb1d1497da39947b6576c3c44ffeca32cf0f2f7cbee3c47001278a90fc7fc5bcf292f741eb1fcd6bbe7f90650afb519cf13e81b2bffc6e02063ee5a55781d420b1dfaf61c15758480e66d47fb0dcb5fa7b9f7f1052e5ccbd01beee9553c3b6b51f4daf1fce991294cd09a3d1d636bc6c7656e4455d0aff06daec740ed0084aa6866fcae1359de61cc12dbe37c8fa42e977c6e727a8258bb9a3f265b27e3766fe0697f6aa0bcc81c3f026e387bd7bbc81580dc1853af2daa099186a9f59da526474ef6ec0a3d84cf400be3261b6b649dea1f78184862d34d685d2d587f09acc14cd8e578fdd2283387821296f0af39b8d8845\"^^xsd:hexBinary ] .\n",
            "\n",
            "<http://www.w3.org/data#W3C> :member <https://www.w3.org/People/Berners-Lee/card#i> .\n",
            "\n",
            "<http://dig.csail.mit.edu/breadcrumbs/blog/4> dc:title \"timbl's blog on DIG\" ;\n",
            "    rdfs:seeAlso <http://dig.csail.mit.edu/breadcrumbs/blog/feed/4> ;\n",
            "    :maker <https://www.w3.org/People/Berners-Lee/card#i> .\n",
            "\n",
            "<https://timbl.com/timbl/Public/friends.ttl> a :PersonalProfileDocument ;\n",
            "    cc:license <http://creativecommons.org/licenses/by-nc/3.0/> ;\n",
            "    dc:title \"Tim Berners-Lee's editable profile\" ;\n",
            "    :maker <https://www.w3.org/People/Berners-Lee/card#i> ;\n",
            "    :primaryTopic <https://www.w3.org/People/Berners-Lee/card#i> .\n",
            "\n",
            "<https://www.w3.org/People/Berners-Lee/card#i> a con:Male,\n",
            "        :Person ;\n",
            "    rdfs:label \"Tim Berners-Lee\" ;\n",
            "    sioc:avatar <http://www.w3.org/People/Berners-Lee/images/timbl-image-by-Coz-cropped.jpg> ;\n",
            "    schema:owns <https://timblbot.inrupt.net/profile/card#me> ;\n",
            "    rdfs:seeAlso <https://timbl.com/timbl/Public/friends.ttl> ;\n",
            "    con:assistant <https://www.w3.org/People/Berners-Lee/card#amy> ;\n",
            "    con:homePage <http://www.w3.org/People/Berners-Lee/> ;\n",
            "    con:office [ con:address [ con:city \"Cambridge\" ;\n",
            "                    con:country \"USA\" ;\n",
            "                    con:postalCode \"02139\" ;\n",
            "                    con:street \"32 Vassar Street\" ;\n",
            "                    con:street2 \"MIT CSAIL Building 32\" ] ;\n",
            "            geo:location [ geo:lat \"42.361860\" ;\n",
            "                    geo:long \"-71.091840\" ] ] ;\n",
            "    con:preferredURI \"https://www.w3.org/People/Berners-Lee/card#i\" ;\n",
            "    con:publicHomePage <http://www.w3.org/People/Berners-Lee/> ;\n",
            "    vcard:fn \"Tim Berners-Lee\" ;\n",
            "    vcard:hasAddress [ a vcard:Work ;\n",
            "            vcard:locality \"Cambridge\" ;\n",
            "            vcard:postal-code \"02139\" ;\n",
            "            vcard:region \"MA\" ;\n",
            "            vcard:street-address \"32 Vassar Street\" ] ;\n",
            "    ldp:inbox <https://timbl.com/timbl/Public/Inbox> ;\n",
            "    space:preferencesFile <https://timbl.com/timbl/Data/preferences.n3> ;\n",
            "    space:storage <https://timbl.com/timbl/Public/>,\n",
            "        <https://timbl.inrupt.net/>,\n",
            "        <https://timbl.solid.community/> ;\n",
            "    solid:editableProfile <https://timbl.com/timbl/Public/friends.ttl> ;\n",
            "    solid:oidcIssuer <https://timbl.com> ;\n",
            "    solid:profileBackgroundColor \"#ffffff\" ;\n",
            "    solid:profileHighlightColor \"#00467E\" ;\n",
            "    solid:publicTypeIndex <https://timbl.com/timbl/Public/PublicTypeIndex.ttl> ;\n",
            "    :account <http://en.wikipedia.org/wiki/User:Timbl>,\n",
            "        <http://twitter.com/timberners_lee>,\n",
            "        <http://www.reddit.com/user/timbl/> ;\n",
            "    :based_near [ geo:lat \"42.361860\" ;\n",
            "            geo:long \"-71.091840\" ] ;\n",
            "    :family_name \"Berners-Lee\" ;\n",
            "    :givenname \"Timothy\" ;\n",
            "    :homepage <https://www.w3.org/People/Berners-Lee/> ;\n",
            "    :img <https://www.w3.org/Press/Stock/Berners-Lee/2001-europaeum-eighth.jpg> ;\n",
            "    :mbox <mailto:timbl@w3.org> ;\n",
            "    :mbox_sha1sum \"965c47c5a70db7407210cef6e4e6f5374a525c5c\" ;\n",
            "    :name \"Timothy Berners-Lee\" ;\n",
            "    :nick \"TimBL\",\n",
            "        \"timbl\" ;\n",
            "    :openid <https://www.w3.org/People/Berners-Lee/> ;\n",
            "    :title \"Sir\" ;\n",
            "    :weblog <http://dig.csail.mit.edu/breadcrumbs/blog/4> ;\n",
            "    :workplaceHomepage <https://www.w3.org/> .\n",
            "\n",
            "\n"
          ]
        }
      ]
    },
    {
      "cell_type": "markdown",
      "metadata": {
        "id": "VwN72jvLOIq4"
      },
      "source": [
        "例えば、後半にある項目の一つは、<https://www.w3.org/People/Berners-Lee/card#i> :img　<https://www.w3.org/Press/Stock/Berners-Lee/2001-europaeum-eighth.jpg> という3項組からなり、述語（pred）は、「:img」で画像情報の在りかを指示している。主語である『「card#i」の画像は、「..eighth.jpg」である。』ということを意味している。\n",
        "serialize の形式は、pretty-xml, N3, turtle がある。"
      ]
    },
    {
      "cell_type": "markdown",
      "metadata": {
        "id": "eJPoaiZ8bOLj"
      },
      "source": [
        "## 2. 独自のRDFグラフ作ってみる"
      ]
    },
    {
      "cell_type": "markdown",
      "metadata": {
        "id": "L4nhUjpcL6HK"
      },
      "source": [
        "新たにDonna　という女性に関する三項組情報を構成していく\n"
      ]
    },
    {
      "cell_type": "code",
      "metadata": {
        "id": "fXx49clhLy3b"
      },
      "source": [
        "from rdflib import Graph, Literal, RDF, URIRef\n",
        "# rdflib knows about quite a few popular namespaces, like W3C ontologies, schema.org etc.\n",
        "from rdflib.namespace import FOAF , XSD\n",
        "\n",
        "# Create a Graph\n",
        "g = Graph()\n",
        "\n",
        "# Create an RDF URI node to use as the subject for multiple triples\n",
        "donna = URIRef(\"http://example.org/donna\")"
      ],
      "execution_count": null,
      "outputs": []
    },
    {
      "cell_type": "markdown",
      "metadata": {
        "id": "mHjOWqFUNRrS"
      },
      "source": [
        "Donna という名前の女性に関す情報を追加してく。\n"
      ]
    },
    {
      "cell_type": "code",
      "metadata": {
        "id": "tglK4P1sQmRz",
        "colab": {
          "base_uri": "https://localhost:8080/"
        },
        "outputId": "0d49f678-5558-4a63-e6a8-303be4161b0f"
      },
      "source": [
        "# Add triples using store's add() method.\n",
        "g.add((donna, RDF.type, FOAF.Person))\n",
        "g.add((donna, FOAF.nick, Literal(\"donna\", lang=\"en\")))\n",
        "g.add((donna, FOAF.name, Literal(\"Donna Fales\")))\n",
        "g.add((donna, FOAF.mbox, URIRef(\"mailto:donna@example.org\")))"
      ],
      "execution_count": null,
      "outputs": [
        {
          "output_type": "execute_result",
          "data": {
            "text/plain": [
              "<Graph identifier=N1292b49187cc4c4fad6a71ea6f0fcba8 (<class 'rdflib.graph.Graph'>)>"
            ]
          },
          "metadata": {},
          "execution_count": 5
        }
      ]
    },
    {
      "cell_type": "markdown",
      "metadata": {
        "id": "aGvWYMVISMpu"
      },
      "source": [
        "別な人物に関する情報を加える。"
      ]
    },
    {
      "cell_type": "code",
      "metadata": {
        "id": "k-Y639oCSQim",
        "colab": {
          "base_uri": "https://localhost:8080/"
        },
        "outputId": "5bd70afa-7ec0-4fa8-d4b1-050cb20e4d63"
      },
      "source": [
        "# Add another person\n",
        "ed = URIRef(\"http://example.org/edward\")\n",
        "\n",
        "# Add triples using store's add() method.\n",
        "g.add((ed, RDF.type, FOAF.Person))\n",
        "g.add((ed, FOAF.nick, Literal(\"ed\", datatype=XSD.string)))\n",
        "g.add((ed, FOAF.name, Literal(\"Edward Scissorhands\")))\n",
        "g.add((ed, FOAF.mbox, Literal(\"e.scissorhands@example.org\", datatype=XSD.anyURI)))"
      ],
      "execution_count": null,
      "outputs": [
        {
          "output_type": "execute_result",
          "data": {
            "text/plain": [
              "<Graph identifier=N1292b49187cc4c4fad6a71ea6f0fcba8 (<class 'rdflib.graph.Graph'>)>"
            ]
          },
          "metadata": {},
          "execution_count": 6
        }
      ]
    },
    {
      "cell_type": "markdown",
      "metadata": {
        "id": "gkF0XMszSZHN"
      },
      "source": [
        "これまで形成されたグラフの全体像をprint する。"
      ]
    },
    {
      "cell_type": "code",
      "metadata": {
        "colab": {
          "base_uri": "https://localhost:8080/"
        },
        "id": "xSAuxCwyTJ9d",
        "outputId": "126e561f-991e-4c91-8179-58b9ca146a93"
      },
      "source": [
        "# Iterate over triples in store and print them out.\n",
        "print(\"--- printing raw triples ---\")\n",
        "for s, p, o in g:\n",
        "    print((s, p, o))"
      ],
      "execution_count": null,
      "outputs": [
        {
          "output_type": "stream",
          "name": "stdout",
          "text": [
            "--- printing raw triples ---\n",
            "(rdflib.term.URIRef('http://example.org/edward'), rdflib.term.URIRef('http://xmlns.com/foaf/0.1/mbox'), rdflib.term.Literal('e.scissorhands@example.org', datatype=rdflib.term.URIRef('http://www.w3.org/2001/XMLSchema#anyURI')))\n",
            "(rdflib.term.URIRef('http://example.org/donna'), rdflib.term.URIRef('http://www.w3.org/1999/02/22-rdf-syntax-ns#type'), rdflib.term.URIRef('http://xmlns.com/foaf/0.1/Person'))\n",
            "(rdflib.term.URIRef('http://example.org/edward'), rdflib.term.URIRef('http://xmlns.com/foaf/0.1/name'), rdflib.term.Literal('Edward Scissorhands'))\n",
            "(rdflib.term.URIRef('http://example.org/edward'), rdflib.term.URIRef('http://xmlns.com/foaf/0.1/nick'), rdflib.term.Literal('ed', datatype=rdflib.term.URIRef('http://www.w3.org/2001/XMLSchema#string')))\n",
            "(rdflib.term.URIRef('http://example.org/donna'), rdflib.term.URIRef('http://xmlns.com/foaf/0.1/name'), rdflib.term.Literal('Donna Fales'))\n",
            "(rdflib.term.URIRef('http://example.org/edward'), rdflib.term.URIRef('http://www.w3.org/1999/02/22-rdf-syntax-ns#type'), rdflib.term.URIRef('http://xmlns.com/foaf/0.1/Person'))\n",
            "(rdflib.term.URIRef('http://example.org/donna'), rdflib.term.URIRef('http://xmlns.com/foaf/0.1/mbox'), rdflib.term.URIRef('mailto:donna@example.org'))\n",
            "(rdflib.term.URIRef('http://example.org/donna'), rdflib.term.URIRef('http://xmlns.com/foaf/0.1/nick'), rdflib.term.Literal('donna', lang='en'))\n"
          ]
        }
      ]
    },
    {
      "cell_type": "markdown",
      "metadata": {
        "id": "CR7yTaH1TX3d"
      },
      "source": [
        "全てのメンバーのメールボックスに関する情報を表示"
      ]
    },
    {
      "cell_type": "code",
      "metadata": {
        "colab": {
          "base_uri": "https://localhost:8080/"
        },
        "id": "jrgOZtvqTdA2",
        "outputId": "f249ef3f-5687-4745-9796-0c4ddf8ef1d4"
      },
      "source": [
        "# For each foaf:Person in the store, print out their mbox property's value.\n",
        "print(\"--- printing mboxes ---\")\n",
        "for person in g.subjects(RDF.type, FOAF.Person):\n",
        "    for mbox in g.objects(person, FOAF.mbox):\n",
        "        print(mbox)"
      ],
      "execution_count": null,
      "outputs": [
        {
          "output_type": "stream",
          "name": "stdout",
          "text": [
            "--- printing mboxes ---\n",
            "mailto:donna@example.org\n",
            "e.scissorhands@example.org\n"
          ]
        }
      ]
    },
    {
      "cell_type": "code",
      "metadata": {
        "id": "ZdwWQwIsMRft"
      },
      "source": [
        "from rdflib import Namespace\n",
        "ns = Namespace(\"http://love.com#\")"
      ],
      "execution_count": null,
      "outputs": []
    },
    {
      "cell_type": "markdown",
      "metadata": {
        "id": "idN8w9fEMd_Z"
      },
      "source": [
        "Namespace 名前空間として新たに　love.com を定義した。"
      ]
    },
    {
      "cell_type": "markdown",
      "metadata": {
        "id": "8QLQK-k8OkPU"
      },
      "source": [
        "そのうえで、donna という要素と　ed という要素を「Love」関係でつなぐ"
      ]
    },
    {
      "cell_type": "code",
      "metadata": {
        "id": "yWA_uQIQMmkk",
        "colab": {
          "base_uri": "https://localhost:8080/"
        },
        "outputId": "fd1e6e1e-de1f-4833-e6c6-3743415bc6f9"
      },
      "source": [
        "g.add((donna, ns['loves'], ed))"
      ],
      "execution_count": null,
      "outputs": [
        {
          "output_type": "execute_result",
          "data": {
            "text/plain": [
              "<Graph identifier=N1292b49187cc4c4fad6a71ea6f0fcba8 (<class 'rdflib.graph.Graph'>)>"
            ]
          },
          "metadata": {},
          "execution_count": 10
        }
      ]
    },
    {
      "cell_type": "markdown",
      "metadata": {
        "id": "0euSHgznbiIT"
      },
      "source": [
        "この関係を利用する例としては、次のように記述する。"
      ]
    },
    {
      "cell_type": "code",
      "metadata": {
        "colab": {
          "base_uri": "https://localhost:8080/"
        },
        "id": "vAIlr98DNOrG",
        "outputId": "c35680de-95a1-4c3a-de39-f9bb6cdf6afa"
      },
      "source": [
        "for l in g.objects(donna, FOAF.name):\n",
        "  print(l)\n",
        "print('Loves')\n",
        "for x in g.objects(donna , ns.loves / FOAF.name):\n",
        "  print (\" %s\" %x)"
      ],
      "execution_count": null,
      "outputs": [
        {
          "output_type": "stream",
          "name": "stdout",
          "text": [
            "Donna Fales\n",
            "Loves\n",
            " Edward Scissorhands\n"
          ]
        }
      ]
    },
    {
      "cell_type": "markdown",
      "metadata": {
        "id": "lFEFahwHURuF"
      },
      "source": [
        "FOAF 名前空間（namespace）の登録、および全体の表示"
      ]
    },
    {
      "cell_type": "code",
      "metadata": {
        "colab": {
          "base_uri": "https://localhost:8080/"
        },
        "id": "eiZCf5gAUhym",
        "outputId": "764a53c3-6a37-4005-db9c-377195d7ce31"
      },
      "source": [
        "# Bind the FOAF namespace to a prefix for more readable output\n",
        "g.bind(\"foaf\", FOAF)\n",
        "\n",
        "# print all the data in the Notation3 format\n",
        "print(\"--- printing mboxes ---\")\n",
        "print(g.serialize(format='n3'))"
      ],
      "execution_count": null,
      "outputs": [
        {
          "output_type": "stream",
          "name": "stdout",
          "text": [
            "--- printing mboxes ---\n",
            "@prefix foaf: <http://xmlns.com/foaf/0.1/> .\n",
            "@prefix ns1: <http://love.com#> .\n",
            "@prefix xsd: <http://www.w3.org/2001/XMLSchema#> .\n",
            "\n",
            "<http://example.org/donna> a foaf:Person ;\n",
            "    ns1:loves <http://example.org/edward> ;\n",
            "    foaf:mbox <mailto:donna@example.org> ;\n",
            "    foaf:name \"Donna Fales\" ;\n",
            "    foaf:nick \"donna\"@en .\n",
            "\n",
            "<http://example.org/edward> a foaf:Person ;\n",
            "    foaf:mbox \"e.scissorhands@example.org\"^^xsd:anyURI ;\n",
            "    foaf:name \"Edward Scissorhands\" ;\n",
            "    foaf:nick \"ed\"^^xsd:string .\n",
            "\n",
            "\n"
          ]
        }
      ]
    },
    {
      "cell_type": "markdown",
      "metadata": {
        "id": "4VESds98U83o"
      },
      "source": [
        "## 3. SPARQL による3項組＝グラフデータベースに対するクエリ（問い合わせ）例"
      ]
    },
    {
      "cell_type": "markdown",
      "metadata": {
        "id": "yBsSsJR5VDa-"
      },
      "source": [
        "Tim Berners-Lee の例で表示する。q=\"\"\" で始まる部分は、SPARQL言語によるRDFグラフに対するクエリ（問い合わせ）である。"
      ]
    },
    {
      "cell_type": "code",
      "metadata": {
        "colab": {
          "base_uri": "https://localhost:8080/"
        },
        "id": "9Hu_8G3pVXYI",
        "outputId": "3430891d-6f97-4a96-be19-77f4ad0e5ef9"
      },
      "source": [
        "# Create a Graph, pare in Internet data\n",
        "g = Graph().parse(\"http://www.w3.org/People/Berners-Lee/card#1\")\n",
        "\n",
        "# Query the data in g using SPARQL\n",
        "# This query returns the 'name' of all ``foaf:Person`` instances\n",
        "q = \"\"\"\n",
        "    PREFIX foaf: <http://xmlns.com/foaf/0.1/>\n",
        "\n",
        "    SELECT ?name\n",
        "    WHERE {\n",
        "        ?p rdf:type foaf:Person .\n",
        "        ?p foaf:name ?name .\n",
        "    }\n",
        "\"\"\"\n",
        "\n",
        "# Apply the query to the graph and iterate through results\n",
        "for r in g.query(q):\n",
        "    print(r[\"name\"])"
      ],
      "execution_count": null,
      "outputs": [
        {
          "output_type": "stream",
          "name": "stdout",
          "text": [
            "Timothy Berners-Lee\n"
          ]
        }
      ]
    },
    {
      "cell_type": "markdown",
      "metadata": {
        "id": "ypzQTZXBdzwE"
      },
      "source": [
        "別の例として、比較的大きな映画に関するRDFデータを読み込む。（注意：IPythonを利用してファイルを読み込むためには、Google Driveに関して前処置が必要）\n",
        "「John Malkovich」という役者が出演した映画のタイトルを答えさせる例は以下である。"
      ]
    },
    {
      "cell_type": "code",
      "metadata": {
        "colab": {
          "base_uri": "https://localhost:8080/"
        },
        "id": "tIa2LGAed76C",
        "outputId": "1affba6c-f3fd-41e0-a9e4-529c3d063d61"
      },
      "source": [
        "mg = Graph()\n",
        "mg.parse(\"content/drive/My Drive/Colab Notebooks/movies.xml\")\n",
        "\n",
        "res = mg.query(\"\"\"SELECT ?fname WHERE{?film dc:title ?fname .\n",
        "        ?film fb:film.film.performances ?perf .\n",
        "        ?perf fb:film.performance.actor ?jm .\n",
        "        ?jm dc:title \"John Malkovich\". }\"\"\")\n",
        "print('=============================')\n",
        "for row in res:\n",
        "  print (\" %s \" %row)"
      ],
      "execution_count": null,
      "outputs": [
        {
          "output_type": "stream",
          "name": "stderr",
          "text": [
            "file:///content/drive/My Drive/Colab Notebooks/movies.xml does not look like a valid URI, trying to serialize this will break.\n"
          ]
        },
        {
          "output_type": "stream",
          "name": "stdout",
          "text": [
            "=============================\n",
            " GARDENS OF THE NIGHT \n",
            " CHANGELING \n"
          ]
        }
      ]
    }
  ]
}