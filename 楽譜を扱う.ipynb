{
  "nbformat": 4,
  "nbformat_minor": 0,
  "metadata": {
    "colab": {
      "name": "楽譜を扱う.ipynb",
      "provenance": [],
      "authorship_tag": "ABX9TyNK0PSt4/TJ07vaOeyJJ+im",
      "include_colab_link": true
    },
    "kernelspec": {
      "name": "python3",
      "display_name": "Python 3"
    },
    "language_info": {
      "name": "python"
    }
  },
  "cells": [
    {
      "cell_type": "markdown",
      "metadata": {
        "id": "view-in-github",
        "colab_type": "text"
      },
      "source": [
        "<a href=\"https://colab.research.google.com/github/afujii/class/blob/main/%E6%A5%BD%E8%AD%9C%E3%82%92%E6%89%B1%E3%81%86.ipynb\" target=\"_parent\"><img src=\"https://colab.research.google.com/assets/colab-badge.svg\" alt=\"Open In Colab\"/></a>"
      ]
    },
    {
      "cell_type": "markdown",
      "metadata": {
        "id": "vGSSwtMezVua"
      },
      "source": [
        "# 楽譜をPythonで扱う\n",
        "MITの開発したMusic21 というライブラリを利用して楽譜とMIDI音源を扱ます。"
      ]
    },
    {
      "cell_type": "code",
      "metadata": {
        "id": "biAcj3CrzRCJ"
      },
      "source": [
        "!pip install --upgrade music21\n",
        "!apt-get install musescore"
      ],
      "execution_count": null,
      "outputs": []
    },
    {
      "cell_type": "code",
      "metadata": {
        "id": "w_zyRcedOZqJ"
      },
      "source": [
        "from music21 import corpus\n",
        "s = corpus.parse('bach/bwv101.7')"
      ],
      "execution_count": null,
      "outputs": []
    },
    {
      "cell_type": "code",
      "metadata": {
        "id": "70Qmv4lH0Ocd",
        "colab": {
          "base_uri": "https://localhost:8080/"
        },
        "outputId": "cae98669-3029-4b83-d6db-59f4a9a10bc0"
      },
      "source": [
        "# 仮想フレームバッファの設定（Google Colaboratoryで必要な設定）\n",
        "!apt-get install xvfb\n",
        "!sh -e /etc/init.d/x11-common start\n",
        "import os\n",
        "os.putenv('DISPLAY', ':99.0')\n",
        "!start-stop-daemon --start --pidfile /var/run/xvfb.pid --make-pidfile --background --exec /usr/bin/Xvfb -- :99 -screen 0 1024x768x24 -ac +extension GLX +render -noreset"
      ],
      "execution_count": null,
      "outputs": [
        {
          "output_type": "stream",
          "name": "stdout",
          "text": [
            "Reading package lists... Done\n",
            "Building dependency tree       \n",
            "Reading state information... Done\n",
            "xvfb is already the newest version (2:1.19.6-1ubuntu4.9).\n",
            "0 upgraded, 0 newly installed, 0 to remove and 37 not upgraded.\n",
            " * Setting up X socket directories...\n",
            "   ...done.\n",
            "/usr/bin/Xvfb already running.\n"
          ]
        }
      ]
    },
    {
      "cell_type": "code",
      "metadata": {
        "id": "jgYT34ad0apK"
      },
      "source": [
        "# パスの設定（Jupyterと共通）\n",
        "from music21 import *\n",
        "us = environment.UserSettings()\n",
        "us['musescoreDirectPNGPath'] = '/usr/bin/mscore'\n",
        "us['musicxmlPath'] = '/usr/bin/mscore'\n",
        "us['directoryScratch'] = '/tmp'"
      ],
      "execution_count": null,
      "outputs": []
    },
    {
      "cell_type": "code",
      "metadata": {
        "colab": {
          "base_uri": "https://localhost:8080/",
          "height": 447
        },
        "id": "d2x_mo5c0gzy",
        "outputId": "749be6d8-2616-4ef2-ddea-05a67a28e3e9"
      },
      "source": [
        "#TinyNotation記法による『カエルの歌』\n",
        "cp = converter.parse('tinyNotation: 4/4 c4 d4 e4 f4 e4 d4 c4 r e4 f4 g4 a4 g4 f4 e4 r c4 r c4 r c4 r c4 r c8 c8 d8 d8 e8 e8 f8 f8 e4 d4 c4 r')\n",
        "#楽譜の表示\n",
        "cp.show()\n",
        "#ピアノロール式表示\n",
        "cp.plot()\n",
        "#ヒストグラム表示\n",
        "cp.plot('histogram', 'pitch')"
      ],
      "execution_count": null,
      "outputs": [
        {
          "output_type": "error",
          "ename": "SubConverterFileIOException",
          "evalue": "ignored",
          "traceback": [
            "\u001b[0;31m---------------------------------------------------------------------------\u001b[0m",
            "\u001b[0;31mSubConverterFileIOException\u001b[0m               Traceback (most recent call last)",
            "\u001b[0;32m<ipython-input-10-8f3e69ff3f5d>\u001b[0m in \u001b[0;36m<module>\u001b[0;34m()\u001b[0m\n\u001b[1;32m      2\u001b[0m \u001b[0mcp\u001b[0m \u001b[0;34m=\u001b[0m \u001b[0mconverter\u001b[0m\u001b[0;34m.\u001b[0m\u001b[0mparse\u001b[0m\u001b[0;34m(\u001b[0m\u001b[0;34m'tinyNotation: 4/4 c4 d4 e4 f4 e4 d4 c4 r e4 f4 g4 a4 g4 f4 e4 r c4 r c4 r c4 r c4 r c8 c8 d8 d8 e8 e8 f8 f8 e4 d4 c4 r'\u001b[0m\u001b[0;34m)\u001b[0m\u001b[0;34m\u001b[0m\u001b[0;34m\u001b[0m\u001b[0m\n\u001b[1;32m      3\u001b[0m \u001b[0;31m#楽譜の表示\u001b[0m\u001b[0;34m\u001b[0m\u001b[0;34m\u001b[0m\u001b[0;34m\u001b[0m\u001b[0m\n\u001b[0;32m----> 4\u001b[0;31m \u001b[0mcp\u001b[0m\u001b[0;34m.\u001b[0m\u001b[0mshow\u001b[0m\u001b[0;34m(\u001b[0m\u001b[0;34m)\u001b[0m\u001b[0;34m\u001b[0m\u001b[0;34m\u001b[0m\u001b[0m\n\u001b[0m\u001b[1;32m      5\u001b[0m \u001b[0;31m#ピアノロール式表示\u001b[0m\u001b[0;34m\u001b[0m\u001b[0;34m\u001b[0m\u001b[0;34m\u001b[0m\u001b[0m\n\u001b[1;32m      6\u001b[0m \u001b[0mcp\u001b[0m\u001b[0;34m.\u001b[0m\u001b[0mplot\u001b[0m\u001b[0;34m(\u001b[0m\u001b[0;34m)\u001b[0m\u001b[0;34m\u001b[0m\u001b[0;34m\u001b[0m\u001b[0m\n",
            "\u001b[0;32m/usr/local/lib/python3.7/dist-packages/music21/stream/base.py\u001b[0m in \u001b[0;36mshow\u001b[0;34m(self, fmt, app, **keywords)\u001b[0m\n\u001b[1;32m    332\u001b[0m         \u001b[0;32mif\u001b[0m \u001b[0mself\u001b[0m\u001b[0;34m.\u001b[0m\u001b[0misSorted\u001b[0m \u001b[0;32mis\u001b[0m \u001b[0;32mFalse\u001b[0m \u001b[0;32mand\u001b[0m \u001b[0mself\u001b[0m\u001b[0;34m.\u001b[0m\u001b[0mautoSort\u001b[0m\u001b[0;34m:\u001b[0m\u001b[0;34m\u001b[0m\u001b[0;34m\u001b[0m\u001b[0m\n\u001b[1;32m    333\u001b[0m             \u001b[0mself\u001b[0m\u001b[0;34m.\u001b[0m\u001b[0msort\u001b[0m\u001b[0;34m(\u001b[0m\u001b[0;34m)\u001b[0m\u001b[0;34m\u001b[0m\u001b[0;34m\u001b[0m\u001b[0m\n\u001b[0;32m--> 334\u001b[0;31m         \u001b[0;32mreturn\u001b[0m \u001b[0msuper\u001b[0m\u001b[0;34m(\u001b[0m\u001b[0;34m)\u001b[0m\u001b[0;34m.\u001b[0m\u001b[0mshow\u001b[0m\u001b[0;34m(\u001b[0m\u001b[0mfmt\u001b[0m\u001b[0;34m=\u001b[0m\u001b[0mfmt\u001b[0m\u001b[0;34m,\u001b[0m \u001b[0mapp\u001b[0m\u001b[0;34m=\u001b[0m\u001b[0mapp\u001b[0m\u001b[0;34m,\u001b[0m \u001b[0;34m**\u001b[0m\u001b[0mkeywords\u001b[0m\u001b[0;34m)\u001b[0m\u001b[0;34m\u001b[0m\u001b[0;34m\u001b[0m\u001b[0m\n\u001b[0m\u001b[1;32m    335\u001b[0m \u001b[0;34m\u001b[0m\u001b[0m\n\u001b[1;32m    336\u001b[0m     \u001b[0;31m# --------------------------------------------------------------------------\u001b[0m\u001b[0;34m\u001b[0m\u001b[0;34m\u001b[0m\u001b[0;34m\u001b[0m\u001b[0m\n",
            "\u001b[0;32m/usr/local/lib/python3.7/dist-packages/music21/base.py\u001b[0m in \u001b[0;36mshow\u001b[0;34m(self, fmt, app, **keywords)\u001b[0m\n\u001b[1;32m   2740\u001b[0m                                  \u001b[0mapp\u001b[0m\u001b[0;34m=\u001b[0m\u001b[0mapp\u001b[0m\u001b[0;34m,\u001b[0m\u001b[0;34m\u001b[0m\u001b[0;34m\u001b[0m\u001b[0m\n\u001b[1;32m   2741\u001b[0m                                  \u001b[0msubformats\u001b[0m\u001b[0;34m=\u001b[0m\u001b[0msubformats\u001b[0m\u001b[0;34m,\u001b[0m\u001b[0;34m\u001b[0m\u001b[0;34m\u001b[0m\u001b[0m\n\u001b[0;32m-> 2742\u001b[0;31m                                  **keywords)\n\u001b[0m\u001b[1;32m   2743\u001b[0m \u001b[0;34m\u001b[0m\u001b[0m\n\u001b[1;32m   2744\u001b[0m     \u001b[0;31m# -------------------------------------------------------------------------\u001b[0m\u001b[0;34m\u001b[0m\u001b[0;34m\u001b[0m\u001b[0;34m\u001b[0m\u001b[0m\n",
            "\u001b[0;32m/usr/local/lib/python3.7/dist-packages/music21/converter/subConverters.py\u001b[0m in \u001b[0;36mshow\u001b[0;34m(self, obj, fmt, app, subformats, **keywords)\u001b[0m\n\u001b[1;32m    374\u001b[0m                                               \u001b[0mhelperFormat\u001b[0m\u001b[0;34m,\u001b[0m\u001b[0;34m\u001b[0m\u001b[0;34m\u001b[0m\u001b[0m\n\u001b[1;32m    375\u001b[0m                                               \u001b[0msubformats\u001b[0m\u001b[0;34m=\u001b[0m\u001b[0mhelperSubformats\u001b[0m\u001b[0;34m,\u001b[0m\u001b[0;34m\u001b[0m\u001b[0;34m\u001b[0m\u001b[0m\n\u001b[0;32m--> 376\u001b[0;31m                                               \u001b[0;34m**\u001b[0m\u001b[0mkeywords\u001b[0m\u001b[0;34m\u001b[0m\u001b[0;34m\u001b[0m\u001b[0m\n\u001b[0m\u001b[1;32m    377\u001b[0m                                               )\n\u001b[1;32m    378\u001b[0m \u001b[0;34m\u001b[0m\u001b[0m\n",
            "\u001b[0;32m/usr/local/lib/python3.7/dist-packages/music21/converter/subConverters.py\u001b[0m in \u001b[0;36mwrite\u001b[0;34m(self, obj, fmt, fp, subformats, makeNotation, compress, **keywords)\u001b[0m\n\u001b[1;32m   1072\u001b[0m                 \u001b[0;32mand\u001b[0m \u001b[0;34m(\u001b[0m\u001b[0;34m'png'\u001b[0m \u001b[0;32min\u001b[0m \u001b[0msubformats\u001b[0m \u001b[0;32mor\u001b[0m \u001b[0;34m'pdf'\u001b[0m \u001b[0;32min\u001b[0m \u001b[0msubformats\u001b[0m\u001b[0;34m)\u001b[0m\u001b[0;34m\u001b[0m\u001b[0;34m\u001b[0m\u001b[0m\n\u001b[1;32m   1073\u001b[0m                 and not str(environLocal['musescoreDirectPNGPath']).startswith('/skip')):\n\u001b[0;32m-> 1074\u001b[0;31m             \u001b[0moutFp\u001b[0m \u001b[0;34m=\u001b[0m \u001b[0mself\u001b[0m\u001b[0;34m.\u001b[0m\u001b[0mrunThroughMusescore\u001b[0m\u001b[0;34m(\u001b[0m\u001b[0mxmlFp\u001b[0m\u001b[0;34m,\u001b[0m \u001b[0msubformats\u001b[0m\u001b[0;34m,\u001b[0m \u001b[0;34m**\u001b[0m\u001b[0mkeywords\u001b[0m\u001b[0;34m)\u001b[0m\u001b[0;34m\u001b[0m\u001b[0;34m\u001b[0m\u001b[0m\n\u001b[0m\u001b[1;32m   1075\u001b[0m         \u001b[0;32melif\u001b[0m \u001b[0mcompress\u001b[0m\u001b[0;34m:\u001b[0m\u001b[0;34m\u001b[0m\u001b[0;34m\u001b[0m\u001b[0m\n\u001b[1;32m   1076\u001b[0m             archiveTools.compressXML(xmlFp,\n",
            "\u001b[0;32m/usr/local/lib/python3.7/dist-packages/music21/converter/subConverters.py\u001b[0m in \u001b[0;36mrunThroughMusescore\u001b[0;34m(self, fp, subformats, **keywords)\u001b[0m\n\u001b[1;32m    955\u001b[0m             \u001b[0;32mexcept\u001b[0m \u001b[0mUnicodeDecodeError\u001b[0m\u001b[0;34m:\u001b[0m\u001b[0;34m\u001b[0m\u001b[0;34m\u001b[0m\u001b[0m\n\u001b[1;32m    956\u001b[0m                 \u001b[0mstderr_str\u001b[0m \u001b[0;34m=\u001b[0m \u001b[0mstderr_bytes\u001b[0m  \u001b[0;31m# not really a str, but best we can do.\u001b[0m\u001b[0;34m\u001b[0m\u001b[0;34m\u001b[0m\u001b[0m\n\u001b[0;32m--> 957\u001b[0;31m             \u001b[0;32mraise\u001b[0m \u001b[0mSubConverterFileIOException\u001b[0m\u001b[0;34m(\u001b[0m\u001b[0mstderr_str\u001b[0m\u001b[0;34m)\u001b[0m\u001b[0;34m\u001b[0m\u001b[0;34m\u001b[0m\u001b[0m\n\u001b[0m\u001b[1;32m    958\u001b[0m \u001b[0;34m\u001b[0m\u001b[0m\n\u001b[1;32m    959\u001b[0m         \u001b[0;32mif\u001b[0m \u001b[0mcommon\u001b[0m\u001b[0;34m.\u001b[0m\u001b[0mrunningUnderIPython\u001b[0m\u001b[0;34m(\u001b[0m\u001b[0;34m)\u001b[0m \u001b[0;32mand\u001b[0m \u001b[0mcommon\u001b[0m\u001b[0;34m.\u001b[0m\u001b[0mgetPlatform\u001b[0m\u001b[0;34m(\u001b[0m\u001b[0;34m)\u001b[0m \u001b[0;34m==\u001b[0m \u001b[0;34m'nix'\u001b[0m\u001b[0;34m:\u001b[0m\u001b[0;34m\u001b[0m\u001b[0;34m\u001b[0m\u001b[0m\n",
            "\u001b[0;31mSubConverterFileIOException\u001b[0m: initScoreFonts 0x55a7709d3200\nconvert </tmp/tmp7dtm2lrb.musicxml> to </tmp/tmp7dtm2lrb.png>\nunknown file suffix <musicxml>, name </tmp/tmp7dtm2lrb.musicxml>\nCannot read file /tmp/tmp7dtm2lrb.musicxml:\nunknown type\n"
          ]
        }
      ]
    },
    {
      "cell_type": "code",
      "metadata": {
        "colab": {
          "base_uri": "https://localhost:8080/",
          "height": 17
        },
        "id": "lpg2laNfOqR3",
        "outputId": "168acba7-e16a-467f-d31b-13a88d899d71"
      },
      "source": [
        "s.show('midi')"
      ],
      "execution_count": null,
      "outputs": [
        {
          "output_type": "display_data",
          "data": {
            "text/html": [
              "\n",
              "                <div id='midiPlayerDiv14579'></div>\n",
              "                <link rel=\"stylesheet\" href=\"//cuthbertLab.github.io/music21j/css/m21.css\"\n",
              "                    type=\"text/css\" />\n",
              "                <script>\n",
              "                require.config({\n",
              "                    paths: {'music21': '//cuthbertLab.github.io/music21j/src/music21'}\n",
              "                });\n",
              "                require(['music21'], function() {\n",
              "                               mp = new music21.miditools.MidiPlayer();\n",
              "                               mp.addPlayer('#midiPlayerDiv14579');\n",
              "                               mp.base64Load('data:audio/midi;base64,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');\n",
              "                        });\n",
              "                </script>"
            ],
            "text/plain": [
              "<IPython.core.display.HTML object>"
            ]
          },
          "metadata": {}
        }
      ]
    }
  ]
}