{
  "nbformat": 4,
  "nbformat_minor": 0,
  "metadata": {
    "colab": {
      "name": "自然言語処理.ipynb のコピー",
      "provenance": [],
      "collapsed_sections": [],
      "authorship_tag": "ABX9TyNnf4g8efsWE7UcX5d7LT0T",
      "include_colab_link": true
    },
    "kernelspec": {
      "name": "python3",
      "display_name": "Python 3"
    },
    "language_info": {
      "name": "python"
    }
  },
  "cells": [
    {
      "cell_type": "markdown",
      "metadata": {
        "id": "view-in-github",
        "colab_type": "text"
      },
      "source": [
        "<a href=\"https://colab.research.google.com/github/afujii/class/blob/main/%E8%87%AA%E7%84%B6%E8%A8%80%E8%AA%9E%E5%87%A6%E7%90%86_ipynb_%E3%81%AE%E3%82%B3%E3%83%94%E3%83%BC.ipynb\" target=\"_parent\"><img src=\"https://colab.research.google.com/assets/colab-badge.svg\" alt=\"Open In Colab\"/></a>"
      ]
    },
    {
      "cell_type": "markdown",
      "metadata": {
        "id": "uf9vO8c2JAiI"
      },
      "source": [
        "## 文字コードについて簡単な解説\n",
        "python プログラムでは、冒頭に　\n",
        "\"# coding: -*- utf-8 -*-\"　\n",
        "と記述されている場合があり、これは、プログラムでは、utf-8 と呼ばれる文字体系で文字・フォントが処理されることを表す。他にcp932 と呼ばれる体系などがあり、Winodow、Mac OSなどのOS（オペレーティングシステム）の差がそれを決めている。\n"
      ]
    },
    {
      "cell_type": "code",
      "metadata": {
        "id": "729U3lG4IjhB"
      },
      "source": [
        "# coding: -*- utf-8 -*-\n",
        "print(\"こんにちは\")"
      ],
      "execution_count": null,
      "outputs": []
    },
    {
      "cell_type": "markdown",
      "metadata": {
        "id": "bzGo-yJWKVt4"
      },
      "source": [
        "# 日本語形態素解析\n",
        "日本語は、英語のように単語の区切りが明確でない。「日本語は、」という部分は、「日本（名詞）」「語（名詞）」「は（助詞）」「、（句読点）」からなる。この処理を行うのが「形態素解析」の役目である。python のライブラリとしては、「MeCab」「GiNZA」「janome」などがある。はじめに形態素解析の例を示す。"
      ]
    },
    {
      "cell_type": "code",
      "metadata": {
        "id": "tesfmBY2LV9Y",
        "colab": {
          "base_uri": "https://localhost:8080/"
        },
        "outputId": "e55fb46e-a217-4823-b6b5-cb93ce9cc729"
      },
      "source": [
        "!pip install janome"
      ],
      "execution_count": null,
      "outputs": [
        {
          "output_type": "stream",
          "name": "stdout",
          "text": [
            "Collecting janome\n",
            "  Downloading Janome-0.4.1-py2.py3-none-any.whl (19.7 MB)\n",
            "\u001b[K     |████████████████████████████████| 19.7 MB 6.2 MB/s \n",
            "\u001b[?25hInstalling collected packages: janome\n",
            "Successfully installed janome-0.4.1\n"
          ]
        }
      ]
    },
    {
      "cell_type": "code",
      "metadata": {
        "colab": {
          "base_uri": "https://localhost:8080/"
        },
        "id": "eN-tD_BqLzO3",
        "outputId": "1b2127df-713f-431e-9e36-0e2ecc291f1b"
      },
      "source": [
        "from janome.tokenizer import Tokenizer\n",
        "\n",
        "line = '太郎と林檎を食べた'\n",
        "\n",
        "t = Tokenizer()\n",
        "elements = t.tokenize(line)\n",
        "for i in elements:\n",
        "    print(i.surface,'\\t',i.part_of_speech)"
      ],
      "execution_count": null,
      "outputs": [
        {
          "output_type": "stream",
          "name": "stdout",
          "text": [
            "太郎 \t 名詞,固有名詞,人名,名\n",
            "と \t 助詞,並立助詞,*,*\n",
            "林檎 \t 名詞,一般,*,*\n",
            "を \t 助詞,格助詞,一般,*\n",
            "食べ \t 動詞,自立,*,*\n",
            "た \t 助動詞,*,*,*\n"
          ]
        }
      ]
    },
    {
      "cell_type": "code",
      "metadata": {
        "colab": {
          "base_uri": "https://localhost:8080/"
        },
        "id": "L7SBhT6VrZT8",
        "outputId": "348f43d9-a9a0-4d37-96d8-362146f9b6fd"
      },
      "source": [
        "help(i)"
      ],
      "execution_count": null,
      "outputs": [
        {
          "output_type": "stream",
          "name": "stdout",
          "text": [
            "Help on Token in module janome.tokenizer object:\n",
            "\n",
            "class Token(builtins.object)\n",
            " |  Token(node: janome.lattice.Node, extra: Tuple = None)\n",
            " |  \n",
            " |  A Token object contains all information for a token.\n",
            " |  \n",
            " |  Methods defined here:\n",
            " |  \n",
            " |  __getattr__(self, name)\n",
            " |  \n",
            " |  __init__(self, node: janome.lattice.Node, extra: Tuple = None)\n",
            " |      Initialize self.  See help(type(self)) for accurate signature.\n",
            " |  \n",
            " |  __str__(self)\n",
            " |      Return str(self).\n",
            " |  \n",
            " |  ----------------------------------------------------------------------\n",
            " |  Data descriptors defined here:\n",
            " |  \n",
            " |  __dict__\n",
            " |      dictionary for instance variables (if defined)\n",
            " |  \n",
            " |  __weakref__\n",
            " |      list of weak references to the object (if defined)\n",
            "\n"
          ]
        }
      ]
    },
    {
      "cell_type": "markdown",
      "metadata": {
        "id": "YWiCGyr9PCMO"
      },
      "source": [
        "「青空文庫」から夏目漱石の小説「こころ」の原文をダウンロードして、名詞の頻度を分析してみましょう。上位50番目までの名詞を表示します。\n"
      ]
    },
    {
      "cell_type": "code",
      "metadata": {
        "id": "z23ykdRTPDC2",
        "colab": {
          "base_uri": "https://localhost:8080/"
        },
        "outputId": "8f34f907-0a18-49cd-8ec3-cf0c9e6b9064"
      },
      "source": [
        "from janome.tokenizer import Tokenizer\n",
        "import zipfile\n",
        "import os.path, urllib.request as req\n",
        "\n",
        "# ZIPファイルをダウンロード --- (※1)\n",
        "url = \"http://www.aozora.gr.jp/cards/000148/files/773_ruby_5968.zip\"\n",
        "local = \"773_ruby_5968.zip\"\n",
        "if not os.path.exists(local):\n",
        "    print(\"ZIPファイルをダウンロード\")\n",
        "    req.urlretrieve(url, local)\n",
        "\n",
        "# ZIPファイル内のテキストファイルを読む --- (※2)\n",
        "zf = zipfile.ZipFile(local, 'r') # zipファイルを読む\n",
        "fp= zf.open('kokoro.txt', 'r') # アーカイブ内のテキストを読む\n",
        "bindata = fp.read()\n",
        "txt = bindata.decode('shift_jis') # テキストがShift_JISなのでデコード\n",
        "\n",
        "# 形態素解析オブジェクトの生成 --- (※3)\n",
        "t = Tokenizer()\n",
        "\n",
        "# テキストを一行ずつ処理 --- (※4)\n",
        "word_dic = {}\n",
        "lines = txt.split(\"\\r\\n\")\n",
        "for line in lines:\n",
        "    malist = t.tokenize(line)\n",
        "    for w in malist:\n",
        "        word = w.surface\n",
        "        ps = w.part_of_speech # 品詞\n",
        "        if ps.find('名詞') < 0: continue # 名詞だけカウント --- (※5)\n",
        "        if not word in word_dic:\n",
        "            word_dic[word] = 0\n",
        "        word_dic[word] += 1 # カウント\n",
        "\n",
        "# よく使われる単語を表示 --- (※6)\n",
        "keys = sorted(word_dic.items(), key=lambda x:x[1], reverse=True)\n",
        "for word,cnt in keys[:50]:\n",
        "    print(\"{0}({1}) \".format(word,cnt), end=\"\")\n",
        "\n"
      ],
      "execution_count": null,
      "outputs": [
        {
          "output_type": "stream",
          "name": "stdout",
          "text": [
            "ZIPファイルをダウンロード\n",
            "私(2700) の(1483) 先生(600) 事(576) よう(523) それ(409) もの(393) 人(390) 奥さん(388) 時(379) 彼(314) 父(272) 自分(264) 二(263) 中(259) 何(251) 一(249) ん(241) うち(238) い(234) 十(201) 方(200) あなた(187) 母(171) 前(168) お嬢さん(166) 上(156) 気(150) 今(150) 顔(135) め(133) 言葉(128) ため(126) 字(124) 三(123) 日(123) 眼(123) そこ(120) 心(116) ＃(115) 下げ(113) 見出し(113) ［＃「(113) ５(110) 妻(108) 口(107) 通り(105) お(105) 家(96) 間(93) "
          ]
        }
      ]
    },
    {
      "cell_type": "markdown",
      "metadata": {
        "id": "DU5b9H83QAK3"
      },
      "source": [
        "同じことを形容詞で行ってみましょう。"
      ]
    },
    {
      "cell_type": "code",
      "metadata": {
        "id": "DOWz6vlcPhJu",
        "colab": {
          "base_uri": "https://localhost:8080/"
        },
        "outputId": "de68e4d5-90ca-4a99-f556-5bcff94467cc"
      },
      "source": [
        "# テキストを一行ずつ処理 --- (※4)\n",
        "word_dic = {}\n",
        "lines = txt.split(\"\\r\\n\")\n",
        "for line in lines:\n",
        "    malist = t.tokenize(line)\n",
        "    for w in malist:\n",
        "        word = w.surface\n",
        "        ps = w.part_of_speech # 品詞\n",
        "        if ps.find('形容詞') < 0: continue # 形容詞だけカウント --- (※5)\n",
        "        if not word in word_dic:\n",
        "            word_dic[word] = 0\n",
        "        word_dic[word] += 1 # カウント\n",
        "\n",
        "# よく使われる単語を表示 --- (※6)\n",
        "keys = sorted(word_dic.items(), key=lambda x:x[1], reverse=True)\n",
        "for word,cnt in keys[:50]:\n",
        "    print(\"{0}({1}) \".format(word,cnt), end=\"\")"
      ],
      "execution_count": null,
      "outputs": [
        {
          "output_type": "stream",
          "name": "stdout",
          "text": [
            "ない(288) なかっ(147) 問題(55) く(50) 仕方(45) いい(37) なく(35) 悪い(35) 強い(33) 若い(32) 新しい(29) 長い(21) 黒い(21) 早く(21) よく(19) 違い(18) 悪く(16) つら(16) おも(15) 強く(15) 広い(14) 固(13) 高い(13) 美しい(12) 暗い(12) 古い(11) 長く(11) 深い(11) 済まない(11) 恐ろしい(11) さむ(10) しげき(9) 苦しい(9) 赤い(9) なし(9) 近い(8) 白い(8) 狭い(8) むずかしい(8) よかっ(8) 冷たい(7) 忙しい(7) 遠い(7) 悪かっ(7) 寒い(7) 細い(7) 悲しい(7) 好かっ(7) 人間らしく(7) 暗(6) "
          ]
        }
      ]
    },
    {
      "cell_type": "markdown",
      "metadata": {
        "id": "mS1kqCM2QI_G"
      },
      "source": [
        "# 演習\n",
        "漱石の他の作品、芥川龍之介、太宰治などから作品を一つ選び同様の分析をしてください。\n"
      ]
    }
  ]
}