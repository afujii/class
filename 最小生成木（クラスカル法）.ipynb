{
  "nbformat": 4,
  "nbformat_minor": 0,
  "metadata": {
    "colab": {
      "name": "最小生成木（クラスカル法）.ipynb",
      "provenance": [],
      "collapsed_sections": [],
      "authorship_tag": "ABX9TyMN82d+9VLTU2vuaOWsZYQZ",
      "include_colab_link": true
    },
    "kernelspec": {
      "name": "python3",
      "display_name": "Python 3"
    },
    "language_info": {
      "name": "python"
    }
  },
  "cells": [
    {
      "cell_type": "markdown",
      "metadata": {
        "id": "view-in-github",
        "colab_type": "text"
      },
      "source": [
        "<a href=\"https://colab.research.google.com/github/afujii/class/blob/main/%E6%9C%80%E5%B0%8F%E7%94%9F%E6%88%90%E6%9C%A8%EF%BC%88%E3%82%AF%E3%83%A9%E3%82%B9%E3%82%AB%E3%83%AB%E6%B3%95%EF%BC%89.ipynb\" target=\"_parent\"><img src=\"https://colab.research.google.com/assets/colab-badge.svg\" alt=\"Open In Colab\"/></a>"
      ]
    },
    {
      "cell_type": "markdown",
      "metadata": {
        "id": "yiMt_XZ7V-ma"
      },
      "source": [
        "# 最小生成木問題\n",
        "クラスカル法による解を示す。同法をクラスメソッドとしてもつグラフクラスを定義する。"
      ]
    },
    {
      "cell_type": "code",
      "metadata": {
        "id": "8bLQN9ytV4gR"
      },
      "source": [
        "class Graph:\n",
        "    def __init__(self, vertex):\n",
        "        self.V = vertex\n",
        "        self.graph = []\n",
        " \n",
        "    def add_edge(self, u, v, w):\n",
        "        self.graph.append([u, v, w])\n",
        " \n",
        "    def search(self, parent, i):\n",
        "        if parent[i] == i:\n",
        "            return i\n",
        "        return self.search(parent, parent[i])\n",
        " \n",
        "    def apply_union(self, parent, rank, x, y):\n",
        "        xroot = self.search(parent, x)\n",
        "        yroot = self.search(parent, y)\n",
        "        if rank[xroot] < rank[yroot]:\n",
        "            parent[xroot] = yroot\n",
        "        elif rank[xroot] > rank[yroot]:\n",
        "            parent[yroot] = xroot\n",
        "        else:\n",
        "            parent[yroot] = xroot\n",
        "            rank[xroot] += 1\n",
        " \n",
        "    def kruskal(self):\n",
        "        result = []\n",
        "        i, e = 0, 0\n",
        "        self.graph = sorted(self.graph, key=lambda item: item[2])\n",
        "        parent = []\n",
        "        rank = []\n",
        "        for node in range(self.V):\n",
        "            parent.append(node)\n",
        "            rank.append(0)\n",
        "        while e < self.V - 1:\n",
        "            u, v, w = self.graph[i]\n",
        "            i = i + 1\n",
        "            x = self.search(parent, u)\n",
        "            y = self.search(parent, v)\n",
        "            if x != y:\n",
        "                e = e + 1\n",
        "                result.append([u, v, w])\n",
        "                self.apply_union(parent, rank, x, y)\n",
        "        for u, v, weight in result:\n",
        "            print(\"Edge:\",u, v,end =\" \")\n",
        "            print(\"-\",weight)"
      ],
      "execution_count": 1,
      "outputs": []
    },
    {
      "cell_type": "markdown",
      "metadata": {
        "id": "v_Fg4Q95X_2E"
      },
      "source": [
        "インスタンスにグラフのノードとノード間の重みを与える。ここで、ノードは、0番から4番までの5ノード。最小生成木はすべてのノードを被覆する重み最小の木構造となる。"
      ]
    },
    {
      "cell_type": "code",
      "metadata": {
        "id": "JgJWNZ-4YF9i"
      },
      "source": [
        "# 1 -> 0　としてグラフの定義（始点、終点、重み）\n",
        "g = Graph(5)\n",
        "g.add_edge(0, 1, 1)\n",
        "g.add_edge(0, 2, 4)\n",
        "g.add_edge(0, 3, 5)\n",
        "g.add_edge(0, 4, 3)\n",
        "g.add_edge(1, 2, 2)\n",
        "g.add_edge(1, 3, 6)\n",
        "g.add_edge(3, 4, 7)"
      ],
      "execution_count": 2,
      "outputs": []
    },
    {
      "cell_type": "code",
      "metadata": {
        "colab": {
          "base_uri": "https://localhost:8080/"
        },
        "id": "uPw3fk6VYN8c",
        "outputId": "41f7a531-816f-4dab-d4f7-2e35ca23aa4e"
      },
      "source": [
        "# アルゴリズム実行\n",
        "g.kruskal()"
      ],
      "execution_count": 3,
      "outputs": [
        {
          "output_type": "stream",
          "name": "stdout",
          "text": [
            "Edge: 0 1 - 1\n",
            "Edge: 1 2 - 2\n",
            "Edge: 0 4 - 3\n",
            "Edge: 0 3 - 5\n"
          ]
        }
      ]
    },
    {
      "cell_type": "markdown",
      "metadata": {
        "id": "tibAcSeQYW6C"
      },
      "source": [
        "実行結果として、得られているのは、ノード0から１，３，４に繋がり、１から2に繋がる構造の木である。"
      ]
    }
  ]
}