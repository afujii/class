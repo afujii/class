{
  "nbformat": 4,
  "nbformat_minor": 0,
  "metadata": {
    "colab": {
      "name": "TF-IDF例.ipynb",
      "provenance": [],
      "collapsed_sections": [],
      "authorship_tag": "ABX9TyMQjfjNr8ChN0Ta5yO/eEFo",
      "include_colab_link": true
    },
    "kernelspec": {
      "name": "python3",
      "display_name": "Python 3"
    },
    "language_info": {
      "name": "python"
    }
  },
  "cells": [
    {
      "cell_type": "markdown",
      "metadata": {
        "id": "view-in-github",
        "colab_type": "text"
      },
      "source": [
        "<a href=\"https://colab.research.google.com/github/afujii/class/blob/main/TF_IDF%E4%BE%8B.ipynb\" target=\"_parent\"><img src=\"https://colab.research.google.com/assets/colab-badge.svg\" alt=\"Open In Colab\"/></a>"
      ]
    },
    {
      "cell_type": "code",
      "metadata": {
        "id": "AMAYSwODSIJv"
      },
      "source": [
        "# -*- coding: utf-8 -*-\n",
        "from math import log\n",
        "import re"
      ],
      "execution_count": null,
      "outputs": []
    },
    {
      "cell_type": "code",
      "metadata": {
        "id": "Tbh5kRYjSfcx"
      },
      "source": [
        "# corpus from Wikipedia Mt. Fuji, Jupiter, Neanderthals\n",
        "corpus = \\\n",
        "       {'a': #Mt.Fuji\n",
        "\"\"\"\n",
        "Mount Fuji , located on Honshu \n",
        "Island, is the highest mountain in Japan at 3,776.24 m (12,389 ft).  An active \n",
        "stratovolcano that last erupted in 1707–08,  Mount Fuji lies about 100 \n",
        "kilometres (60 mi) south-west of Tokyo, and can be seen from there on a clear \n",
        "day. Mount Fuji's exceptionally symmetrical cone, which is snow-capped several \n",
        "months a year, is a well-known symbol of Japan and it is frequently depicted in\n",
        " art and photographs, as well as visited by sightseers and climbers.\n",
        "\n",
        "Mount Fuji is one of Japan's \"Three Holy Mountains\" along \n",
        "with Mount Tate and Mount Haku. It is also a Special Place of Scenic Beauty and \n",
        "one of Japan's Historic Sites.  It was added to the World Heritage List as a \n",
        "Cultural Site on June 22, 2013.  Per UNESCO, Mount Fuji has \"inspired artists \n",
        "and poets and been the object of pilgrimage for centuries\". UNESCO recognizes 25\n",
        " sites of cultural interest within the Mt. Fuji locality. These 25 locations \n",
        "include the mountain itself, Fujisan.\n",
        "\n",
        "In Shinto mythology, Kuninotokotachi is one of the two \n",
        "gods born from \"something like a reed that arose from the soil\" when the earth \n",
        "was chaotic. In the Nihon Shoki, he is the first of the first three divinities \n",
        "born after heaven and earth were born out of chaos, and is born from something \n",
        "looking like a reed-shoot growing between heaven and earth. He is known by \n",
        "mythology to reside on top of Mount Fuji.  \n",
        "\n",
        "Kuninotokotachi is described as a hitorigami and genderless in Kojiki, while as a\n",
        " male god in Nihon Shoki.\n",
        "\n",
        "Yoshida Kanetomo, the founder of the Yoshida Shintō sect, identified \n",
        "Kuninotokotachi with Amenominakanushi and regarded him as the primordial god of\n",
        " the Universe.\n",
        "\"\"\",\n",
        "        'b': #Jupiter\n",
        "\"\"\"\n",
        "Jupiter is the fifth planet from the Sun and the largest in the Solar System. It\n",
        " is a giant planet with a mass one-thousandth that of the Sun, but two and a half\n",
        " times that of all the other planets in the Solar System combined. Jupiter is a \n",
        "gas giant, along with Saturn, with the other two giant planets, Uranus and \n",
        "Neptune, being ice giants. Jupiter was known to astronomers of ancient times.  \n",
        "The Romans named it after their god Jupiter.  When viewed from Earth, Jupiter\n",
        " can reach an apparent magnitude of −2.94, bright enough for its reflected light \n",
        "to cast shadows, and making it on average the third-brightest object in the \n",
        "night sky after the Moon and Venus.\n",
        "\n",
        "Jupiter is primarily composed of hydrogen with a quarter of its mass being \n",
        "helium, though helium comprises only about a tenth of the number of molecules. \n",
        "It may also have a rocky core of heavier elements, but like the other giant \n",
        "planets, Jupiter lacks a well-defined solid surface. Because of its rapid \n",
        "rotation, the planet's shape is that of an oblate spheroid (it has a slight but \n",
        "noticeable bulge around the equator). The outer atmosphere is visibly segregated \n",
        "into several bands at different latitudes, resulting in turbulence and storms \n",
        "along their interacting boundaries. A prominent result is the Great Red Spot, a \n",
        "giant storm that is known to have existed since at least the 17th century when it\n",
        " was first seen by telescope. Surrounding Jupiter is a faint planetary ring \n",
        "system and a powerful magnetosphere. Jupiter has at least 67 moons, including the\n",
        " four large Galilean moons discovered by Galileo Galilei in 1610. Ganymede, the \n",
        "largest of these, has a diameter greater than that of the planet Mercury.\n",
        "\n",
        "Jupiter has been explored on several occasions by robotic spacecraft, most \n",
        "notably during the early Pioneer and Voyager flyby missions and later by the \n",
        "Galileo orbiter. In late February 2007, Jupiter was visited by the New Horizons \n",
        "probe, which used Jupiter's gravity to increase its speed and bend its trajectory\n",
        " en route to Pluto. The latest probe to visit the planet is Juno, which entered \n",
        "into orbit around Jupiter on July 4, 2016.  Future targets for exploration\n",
        " in the Jupiter system include the probable ice-covered liquid ocean of its moon\n",
        " Europa.\n",
        "\"\"\",\n",
        "        'c': #Neanderthals\n",
        "\"\"\"\n",
        "Neanderthals or Neandertals were a species or subspecies of archaic \n",
        "human, in the genus Homo, which became extinct around 40,000 years ago.\n",
        " They were closely related to modern humans, sharing 99.7% of DNA.  \n",
        "Remains left by Neanderthals include bone and stone tools, which are \n",
        "found in Eurasia, from Western Europe to Central and Northern Asia. \n",
        "Neanderthals are generally classified by paleontologists as the species \n",
        "Homo neanderthalensis, having separated from the Homo sapiens lineage \n",
        "600,000 years ago, but a minority consider them to be a subspecies of \n",
        "Homo sapiens (Homo sapiens neanderthalensis).\n",
        "\n",
        "Several cultural assemblages have been linked to the Neanderthals in \n",
        "Europe. The earliest, the Mousterian stone tool culture, dates to about \n",
        "160,000 years ago.  Late Mousterian artifacts were found in Gorham's \n",
        "Cave on the south-facing coast of Gibraltar.  \n",
        "\n",
        "Compared to Homo sapiens, Neanderthals had a lower surface-to-volume \n",
        "ratio, with shorter legs and a bigger body in conformance with Bergmann's\n",
        " rule, as an energy-loss reduction adaptation to life in a high-latitude \n",
        "(i.e. seasonally cold) climate. Their average cranial capacity of 1600 \n",
        "cm3 was notably larger than the 1250–1400 cm3 average for modern \n",
        "humans. Males stood 164–168 cm (65–66 in) and females 152–156 cm (60–61 \n",
        "in) tall.  \n",
        "\n",
        "The Neanderthal genome project published papers in 2010 and 2014 stating\n",
        " that Neanderthals contributed to the DNA of modern humans, including \n",
        "most humans outside sub-Saharan Africa, as well as a few sub-Saharan \n",
        "Africa's populations, through interbreeding, likely between 50,000 and \n",
        "60,000 years ago.  Recent studies also show that a few \n",
        "Neanderthals began mating with ancestors of modern humans long before the \n",
        "large \"out of Africa migration\" of the present day non-Africans, as early \n",
        "as 100,000 years ago.  In 2016, research indicated that modern humans\n",
        " had three distinct interbreeding events with Neanderthals: the first \n",
        "encounter involved the ancestors of all non-African modern humans, \n",
        "probably soon after leaving Africa; the second, after the ancestral \n",
        "Melanesian group had branched off (and subsequently had a unique breeding\n",
        " event with Denisovans); and the third, involving the ancestors of East \n",
        "Asians only.  \n",
        "\n",
        "In December 2013, researchers reported evidence that Neanderthals \n",
        "practiced burial behavior and intentionally buried their dead.  \n",
        "In addition, scientists reported having sequenced the entire genome of a \n",
        "Neanderthal for the first time. The genome was extracted from the toe \n",
        "bone of a 50,000-year-old Neanderthal found in a Siberian cave.  \n",
        "In 2016, elaborate constructions of rings of broken stalagmites made\n",
        " by early Neanderthals around 176,000 years ago were discovered 336 m \n",
        "(1,102 ft) inside Bruniquel Cave in south-western France. This would have\n",
        " required a more advanced social structure than previously known for \n",
        "Neanderthals.\n",
        "\"\"\"\n",
        "}"
      ],
      "execution_count": null,
      "outputs": []
    },
    {
      "cell_type": "code",
      "metadata": {
        "id": "AEq6Pw8KSi9c"
      },
      "source": [
        "def getwords( txt ): #html):\n",
        "  # Split words by all non-alpha characters\n",
        "  words=re.compile(r'[^A-Z^a-z]+').split(txt)\n",
        "  # Convert to lowercase\n",
        "  return [word.lower() for word in words if word!='']\n",
        "\n",
        "def tf(term, doc, normalize=True):\n",
        "    doc = doc.lower().split()\n",
        "    if normalize:\n",
        "        return doc.count(term.lower()) / float(len(doc))\n",
        "    else:\n",
        "        return doc.count(term.lower()) / 1.0\n",
        "\n",
        "def idf(term, corpus):\n",
        "    num_texts_with_term = len([True for text in corpus if term.lower()\n",
        "                              in text.lower().split()])\n",
        "    # tf-idf calc involves multiplying against a tf value less than 0, so it's\n",
        "    # necessary to return a value greater than 1 for consistent scoring. \n",
        "    # (Multiplying two values less than 1 returns a value less than each of \n",
        "    # them.)\n",
        "\n",
        "    try:\n",
        "        return 1.0 + log(float(len(corpus)) / num_texts_with_term)\n",
        "    except ZeroDivisionError:\n",
        "        return 1.0\n",
        "\n",
        "def tf_idf(term, doc, corpus):\n",
        "    return tf(term, doc) * idf(term, corpus)"
      ],
      "execution_count": null,
      "outputs": []
    },
    {
      "cell_type": "code",
      "source": [
        "s = 'This is a pen.'\n",
        "x = getwords(s)"
      ],
      "metadata": {
        "id": "Mqsah0_MqIme"
      },
      "execution_count": null,
      "outputs": []
    },
    {
      "cell_type": "code",
      "source": [
        "x"
      ],
      "metadata": {
        "id": "KXgtdXayqciU",
        "outputId": "8a7eaffc-dec5-4d1c-d354-0850864191fc",
        "colab": {
          "base_uri": "https://localhost:8080/"
        }
      },
      "execution_count": null,
      "outputs": [
        {
          "output_type": "execute_result",
          "data": {
            "text/plain": [
              "['this', 'is', 'a', 'pen']"
            ]
          },
          "metadata": {},
          "execution_count": 7
        }
      ]
    },
    {
      "cell_type": "code",
      "metadata": {
        "id": "LQjyrf9uSody"
      },
      "source": [
        "def main():\n",
        "  #Omitt non-important words\n",
        "  OMITT_WORDS = ['the','a','and','in','to','an']\n",
        "  #if you put many words here, they may not in corpus,\n",
        "  #which couse a problem of key error at remove(t)\n",
        "  \n",
        "  wc = {}\n",
        "  for doc in corpus:\n",
        "    text = getwords(corpus[doc])\n",
        "    for w in text:\n",
        "      wc.setdefault(w,0)\n",
        "      wc[w]+1\n",
        "\n",
        "  QUERY_TERMS = [ t for t in wc.keys() ] # List of wc's words\n",
        "  \n",
        "  for t in OMITT_WORDS:\n",
        "    QUERY_TERMS.remove(t)\n",
        "\n",
        "  temp_score_max = {'a': 0, 'b': 0, 'c': 0}\n",
        "  max_score_word = {'a': None, 'b':None, 'c':None }\n",
        "\n",
        "  for term in [t for t in QUERY_TERMS]:\n",
        "    for doc in sorted(corpus):\n",
        "      score = tf_idf(term, corpus[doc], corpus.values())\n",
        "      if score > temp_score_max[doc]:\n",
        "        max_score_word[doc] = term\n",
        "        temp_score_max[doc] = score\n",
        "\n",
        "  print( \"Overall TF-IDF scores for query \")\n",
        "  print( \" a: Mt. Fuji, b: Jupiter, c: Neanderthals \")\n",
        "  print(\"-------------------------------------------\")\n",
        "  for doc in corpus:\n",
        "    print (doc ,',', max_score_word[doc], temp_score_max[doc] )"
      ],
      "execution_count": null,
      "outputs": []
    },
    {
      "cell_type": "code",
      "metadata": {
        "colab": {
          "base_uri": "https://localhost:8080/",
          "height": 191
        },
        "id": "UM-U0Cy1S0BE",
        "outputId": "62cc969d-afa0-40bf-af17-a4cb8ab93f58"
      },
      "source": [
        "if __name__ == \"__main__\":\n",
        "  main()\n"
      ],
      "execution_count": 1,
      "outputs": [
        {
          "output_type": "error",
          "ename": "NameError",
          "evalue": "ignored",
          "traceback": [
            "\u001b[0;31m---------------------------------------------------------------------------\u001b[0m",
            "\u001b[0;31mNameError\u001b[0m                                 Traceback (most recent call last)",
            "\u001b[0;32m<ipython-input-1-20a4c88e53ea>\u001b[0m in \u001b[0;36m<module>\u001b[0;34m()\u001b[0m\n\u001b[1;32m      1\u001b[0m \u001b[0;32mif\u001b[0m \u001b[0m__name__\u001b[0m \u001b[0;34m==\u001b[0m \u001b[0;34m\"__main__\"\u001b[0m\u001b[0;34m:\u001b[0m\u001b[0;34m\u001b[0m\u001b[0;34m\u001b[0m\u001b[0m\n\u001b[0;32m----> 2\u001b[0;31m   \u001b[0mmain\u001b[0m\u001b[0;34m(\u001b[0m\u001b[0;34m)\u001b[0m\u001b[0;34m\u001b[0m\u001b[0;34m\u001b[0m\u001b[0m\n\u001b[0m",
            "\u001b[0;31mNameError\u001b[0m: name 'main' is not defined"
          ]
        }
      ]
    }
  ]
}