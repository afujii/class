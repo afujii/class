{
  "nbformat": 4,
  "nbformat_minor": 0,
  "metadata": {
    "colab": {
      "name": "DataFrameFromExcell.ipynb",
      "provenance": [],
      "collapsed_sections": [],
      "authorship_tag": "ABX9TyPQFaDJiRWa5XGGK5UB+LU4",
      "include_colab_link": true
    },
    "kernelspec": {
      "name": "python3",
      "display_name": "Python 3"
    },
    "language_info": {
      "name": "python"
    }
  },
  "cells": [
    {
      "cell_type": "markdown",
      "metadata": {
        "id": "view-in-github",
        "colab_type": "text"
      },
      "source": [
        "<a href=\"https://colab.research.google.com/github/afujii/class/blob/main/DataFrameFromExcell.ipynb\" target=\"_parent\"><img src=\"https://colab.research.google.com/assets/colab-badge.svg\" alt=\"Open In Colab\"/></a>"
      ]
    },
    {
      "cell_type": "markdown",
      "metadata": {
        "id": "aXxTNwh1JlJD"
      },
      "source": [
        "# Google Drive Mount\n",
        "At first, get used to Google Drive.  You place your exel .xslx file in a Folder in google drive.  In order to use the file, you have to mount the folder to Google Colab environment.  This process is done by the following command.\n",
        "You need long ID, get from GD(Google Drive) and put it to GC(Google Colab)."
      ]
    },
    {
      "cell_type": "code",
      "metadata": {
        "colab": {
          "base_uri": "https://localhost:8080/"
        },
        "id": "DQjbMpDoBvKf",
        "outputId": "23ec2aa1-81a3-4b21-a433-74540d1b2793"
      },
      "source": [
        "from google.colab import drive\n",
        "drive.mount('/content/drive')"
      ],
      "execution_count": null,
      "outputs": [
        {
          "output_type": "stream",
          "name": "stdout",
          "text": [
            "Mounted at /content/drive\n"
          ]
        }
      ]
    },
    {
      "cell_type": "markdown",
      "metadata": {
        "id": "usF-wkKsKagV"
      },
      "source": [
        "If you get the above message, mount is completed."
      ]
    },
    {
      "cell_type": "markdown",
      "metadata": {
        "id": "CK8phPCqKi-7"
      },
      "source": [
        "## openpyxl Library\n",
        "From Excell file, data load into python environment."
      ]
    },
    {
      "cell_type": "code",
      "metadata": {
        "colab": {
          "base_uri": "https://localhost:8080/"
        },
        "id": "3bHdUPq9xoy4",
        "outputId": "b354309b-0160-47e4-ed84-068daa102457"
      },
      "source": [
        "!pip install openpyxl\n",
        "import openpyxl\n",
        "import pprint"
      ],
      "execution_count": null,
      "outputs": [
        {
          "output_type": "stream",
          "name": "stdout",
          "text": [
            "Requirement already satisfied: openpyxl in /usr/local/lib/python3.7/dist-packages (2.5.9)\n",
            "Requirement already satisfied: jdcal in /usr/local/lib/python3.7/dist-packages (from openpyxl) (1.4.1)\n",
            "Requirement already satisfied: et-xmlfile in /usr/local/lib/python3.7/dist-packages (from openpyxl) (1.1.0)\n"
          ]
        }
      ]
    },
    {
      "cell_type": "code",
      "metadata": {
        "colab": {
          "base_uri": "https://localhost:8080/"
        },
        "id": "ZnFs_7CRx4NX",
        "outputId": "6aa55002-2a4e-4104-d490-952e0aafe3c4"
      },
      "source": [
        "wb = openpyxl.load_workbook('/content/drive/My Drive/IIST/Turbine Dashboard 17 february 2021.xlsx', data_only = True)\n",
        "print(type(wb))\n",
        "print(wb.sheetnames)"
      ],
      "execution_count": null,
      "outputs": [
        {
          "output_type": "stream",
          "name": "stdout",
          "text": [
            "<class 'openpyxl.workbook.workbook.Workbook'>\n",
            "['$U_P_D_A', '$PGIM_CONFI', 'Rawdata U1', 'Unit 1 ACC', 'Turbine Centerline', 'Condensate system', 'Unit 1', 'RawData U2', 'Unit 2']\n"
          ]
        }
      ]
    },
    {
      "cell_type": "markdown",
      "metadata": {
        "id": "wRUeBXHDL-NE"
      },
      "source": [
        "Since in the Excell file, data items are calculated by excell function, so 'data_only = True' indicate that we only neet figures not functions."
      ]
    },
    {
      "cell_type": "code",
      "metadata": {
        "id": "ieNasSkzz2Xn",
        "colab": {
          "base_uri": "https://localhost:8080/"
        },
        "outputId": "e06ca038-83bc-4787-a85b-97004f7a6c64"
      },
      "source": [
        "sheet = wb['Unit 1']\n",
        "print(type(sheet))\n",
        "row = [cell.value for cell in sheet['A10:AA10'][0]]\n",
        "print(row)"
      ],
      "execution_count": null,
      "outputs": [
        {
          "output_type": "stream",
          "name": "stdout",
          "text": [
            "<class 'openpyxl.worksheet.worksheet.Worksheet'>\n",
            "['Main  Steam Flow', 'kg/s', 401.0222473, 381.2814331, 371.3746948, 371.6958923, 375.4319763, 391.5594177, 423.7453613, 424.1160889, 425.3084717, 420.5214233, 420.3430176, 425.6522522, 423.7569885, 420.3902588, 417.0046082, 422.3477783, 425.2323608, 425.6056213, 419.4929504, 426.4781494, 426.485199, 424.2385254, 421.6734009, 422.4118347, 421.8831482]\n"
          ]
        }
      ]
    },
    {
      "cell_type": "markdown",
      "metadata": {
        "id": "VaK510R2K3n1"
      },
      "source": [
        "## Pandas\n",
        "Pandas is data framework for statistical treatments.  The follwoing are the simple example of usage.  It comes with matplotlib/seaborn library for result visualizations."
      ]
    },
    {
      "cell_type": "code",
      "metadata": {
        "id": "-Dj0AT5o4VDS"
      },
      "source": [
        "import pandas as pd\n",
        "ds = pd.Series({'name':row[0],'unit':row[1],'data':row[2:]})"
      ],
      "execution_count": null,
      "outputs": []
    },
    {
      "cell_type": "code",
      "metadata": {
        "colab": {
          "base_uri": "https://localhost:8080/",
          "height": 282
        },
        "id": "dzeuoxzGDDm5",
        "outputId": "101a93a6-ace0-433a-e383-db176043cc8d"
      },
      "source": [
        "import matplotlib.pyplot as plt\n",
        "plt.plot(ds.data)"
      ],
      "execution_count": null,
      "outputs": [
        {
          "output_type": "execute_result",
          "data": {
            "text/plain": [
              "[<matplotlib.lines.Line2D at 0x7f5c40c03e90>]"
            ]
          },
          "metadata": {},
          "execution_count": 39
        },
        {
          "output_type": "display_data",
          "data": {
            "image/png": "[encoded data removed]",
            "text/plain": [
              "<Figure size 432x288 with 1 Axes>"
            ]
          },
          "metadata": {
            "needs_background": "light"
          }
        }
      ]
    },
    {
      "cell_type": "code",
      "metadata": {
        "id": "PwbRPJgB189B"
      },
      "source": [
        "def get_value_list(t_2d):\n",
        "    return([[cell.value for cell in row] for row in t_2d])"
      ],
      "execution_count": null,
      "outputs": []
    },
    {
      "cell_type": "code",
      "metadata": {
        "id": "AUHat21l2J6T"
      },
      "source": [
        "l_2d = get_value_list(sheet['A10:AA26'])\n",
        "#pprint.pprint(l_2d, width=40)\n",
        "data = pd.DataFrame(l_2d)\n"
      ],
      "execution_count": null,
      "outputs": []
    },
    {
      "cell_type": "code",
      "metadata": {
        "colab": {
          "base_uri": "https://localhost:8080/"
        },
        "id": "8uERtfpUDaYD",
        "outputId": "ee891f45-dcee-4433-c5bd-68ff4f61864a"
      },
      "source": [
        "data[0]\n",
        "\n"
      ],
      "execution_count": null,
      "outputs": [
        {
          "output_type": "execute_result",
          "data": {
            "text/plain": [
              "0                         Main  Steam Flow\n",
              "1                    Main Control Valve 1 \n",
              "2                     Main Control Valve 2\n",
              "3           Average Main Steam Temperature\n",
              "4               HP Turbine Relative Stress\n",
              "5         Main Steam Temperature Set Point\n",
              "6              Average Main Steam Pressure\n",
              "7            Main Steam Pressure Set Point\n",
              "8                Intercept Control Valve 1\n",
              "9                Intercept Control Valve 2\n",
              "10      Average Reheater Steam Temperature\n",
              "11              IP Turbine Relative Stress\n",
              "12    Reheater Steam Temperature Set Point\n",
              "13         Average Reheater Steam Pressure\n",
              "14    Reheater Steam Temperature Set Point\n",
              "15                            LP Bypass 11\n",
              "16                            LP Bypass 12\n",
              "Name: 0, dtype: object"
            ]
          },
          "metadata": {},
          "execution_count": 42
        }
      ]
    },
    {
      "cell_type": "code",
      "metadata": {
        "colab": {
          "base_uri": "https://localhost:8080/",
          "height": 300
        },
        "id": "RLc50WuPaPKX",
        "outputId": "ce2a7045-7736-477e-ea53-062dcf0b68f0"
      },
      "source": [
        "ds = data.loc[1][2:]\n",
        "print(type(ds))\n",
        "plt.plot(ds)"
      ],
      "execution_count": null,
      "outputs": [
        {
          "output_type": "stream",
          "name": "stdout",
          "text": [
            "<class 'pandas.core.series.Series'>\n"
          ]
        },
        {
          "output_type": "execute_result",
          "data": {
            "text/plain": [
              "[<matplotlib.lines.Line2D at 0x7f5c41a54790>]"
            ]
          },
          "metadata": {},
          "execution_count": 47
        },
        {
          "output_type": "display_data",
          "data": {
            "image/png": "[encoded data removed]",
            "text/plain": [
              "<Figure size 432x288 with 1 Axes>"
            ]
          },
          "metadata": {
            "needs_background": "light"
          }
        }
      ]
    }
  ]
}