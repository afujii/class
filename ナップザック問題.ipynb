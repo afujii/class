{
  "nbformat": 4,
  "nbformat_minor": 0,
  "metadata": {
    "colab": {
      "name": "ナップザック問題.ipynb",
      "provenance": [],
      "collapsed_sections": [],
      "authorship_tag": "ABX9TyPZuIQvT3hSkNqbqEKxURJD",
      "include_colab_link": true
    },
    "kernelspec": {
      "name": "python3",
      "display_name": "Python 3"
    },
    "language_info": {
      "name": "python"
    }
  },
  "cells": [
    {
      "cell_type": "markdown",
      "metadata": {
        "id": "view-in-github",
        "colab_type": "text"
      },
      "source": [
        "<a href=\"https://colab.research.google.com/github/afujii/class/blob/main/%E3%83%8A%E3%83%83%E3%83%97%E3%82%B6%E3%83%83%E3%82%AF%E5%95%8F%E9%A1%8C.ipynb\" target=\"_parent\"><img src=\"https://colab.research.google.com/assets/colab-badge.svg\" alt=\"Open In Colab\"/></a>"
      ]
    },
    {
      "cell_type": "markdown",
      "metadata": {
        "id": "L6IQXFQYRAB6"
      },
      "source": [
        "# ナップザック問題\n",
        "Pythonコードを示す。ortoolpy と呼ばれるORのツールを利用しよう。"
      ]
    },
    {
      "cell_type": "code",
      "metadata": {
        "colab": {
          "base_uri": "https://localhost:8080/"
        },
        "id": "DLMyZ80cQ_32",
        "outputId": "647beb4d-661a-4c3e-90bd-06eb1ad7514e"
      },
      "source": [
        "! pip install ortoolpy"
      ],
      "execution_count": 1,
      "outputs": [
        {
          "output_type": "stream",
          "name": "stdout",
          "text": [
            "Collecting ortoolpy\n",
            "  Downloading ortoolpy-0.2.38-py3-none-any.whl (24 kB)\n",
            "Requirement already satisfied: more-itertools<9.0.0,>=8.6.0 in /usr/local/lib/python3.7/dist-packages (from ortoolpy) (8.10.0)\n",
            "Collecting pulp<3.0.0,>=2.3.1\n",
            "  Downloading PuLP-2.5.1-py3-none-any.whl (41.2 MB)\n",
            "\u001b[K     |████████████████████████████████| 41.2 MB 79 kB/s \n",
            "\u001b[?25hRequirement already satisfied: pandas<2.0.0,>=1.1.4 in /usr/local/lib/python3.7/dist-packages (from ortoolpy) (1.1.5)\n",
            "Requirement already satisfied: pytz>=2017.2 in /usr/local/lib/python3.7/dist-packages (from pandas<2.0.0,>=1.1.4->ortoolpy) (2018.9)\n",
            "Requirement already satisfied: numpy>=1.15.4 in /usr/local/lib/python3.7/dist-packages (from pandas<2.0.0,>=1.1.4->ortoolpy) (1.19.5)\n",
            "Requirement already satisfied: python-dateutil>=2.7.3 in /usr/local/lib/python3.7/dist-packages (from pandas<2.0.0,>=1.1.4->ortoolpy) (2.8.2)\n",
            "Requirement already satisfied: six>=1.5 in /usr/local/lib/python3.7/dist-packages (from python-dateutil>=2.7.3->pandas<2.0.0,>=1.1.4->ortoolpy) (1.15.0)\n",
            "Installing collected packages: pulp, ortoolpy\n",
            "Successfully installed ortoolpy-0.2.38 pulp-2.5.1\n"
          ]
        }
      ]
    },
    {
      "cell_type": "markdown",
      "metadata": {
        "id": "p2AzYL3VRke9"
      },
      "source": [
        "はじめにツールの利用法を確認する。\n"
      ]
    },
    {
      "cell_type": "code",
      "metadata": {
        "colab": {
          "base_uri": "https://localhost:8080/"
        },
        "id": "o9bVpmU-Ron2",
        "outputId": "51adaeb1-ca4a-4573-f62b-50b57c0eeb15"
      },
      "source": [
        "from ortoolpy import knapsack\n",
        "print(help(knapsack))"
      ],
      "execution_count": 2,
      "outputs": [
        {
          "output_type": "stream",
          "name": "stdout",
          "text": [
            "Help on function knapsack in module ortoolpy.etc:\n",
            "\n",
            "knapsack(size, weight, capacity)\n",
            "    ナップサック問題\n",
            "        価値の最大化\n",
            "    入力\n",
            "        size: 荷物の大きさのリスト\n",
            "        weight: 荷物の価値のリスト\n",
            "        capacity: 容量\n",
            "    出力\n",
            "        価値の総和と選択した荷物番号リスト\n",
            "\n",
            "None\n"
          ]
        }
      ]
    },
    {
      "cell_type": "markdown",
      "metadata": {
        "id": "SIpkY0cuRyu6"
      },
      "source": [
        "荷物のサイズが次のようなものを扱う。<br>\n",
        "サイズ：　21 11 15  9 34 25 41 52 <br>\n",
        "重さ　：  22 12 16 10 35 26 42 53 <br>\n"
      ]
    },
    {
      "cell_type": "code",
      "metadata": {
        "id": "P-LbMRj5SMpD"
      },
      "source": [
        "size = [21, 11, 15, 9, 34, 25, 41, 52]\n",
        "weight = [22, 12, 16, 10, 35, 26, 42, 53]\n",
        "capacity = 100 # of size"
      ],
      "execution_count": 3,
      "outputs": []
    },
    {
      "cell_type": "code",
      "metadata": {
        "colab": {
          "base_uri": "https://localhost:8080/"
        },
        "id": "cO9OcN_1SUw9",
        "outputId": "870a54f1-ad83-4c76-da87-b3a9f1b33fe3"
      },
      "source": [
        "total, items = knapsack(size, weight, capacity)\n",
        "print('total weight:', total)\n",
        "print('numbers of items:',items)"
      ],
      "execution_count": 4,
      "outputs": [
        {
          "output_type": "stream",
          "name": "stdout",
          "text": [
            "total weight: 105.0\n",
            "numbers of items: [0, 1, 3, 4, 5]\n"
          ]
        }
      ]
    },
    {
      "cell_type": "code",
      "metadata": {
        "colab": {
          "base_uri": "https://localhost:8080/"
        },
        "id": "QXy2VmDISiNb",
        "outputId": "c1805974-95ed-4066-c28a-4ec34440592c"
      },
      "source": [
        "s = [ size[i]  for i in items ]\n",
        "print('size of selected items =', s, 'summantion of size = ', sum(s) )"
      ],
      "execution_count": 8,
      "outputs": [
        {
          "output_type": "stream",
          "name": "stdout",
          "text": [
            "size of selected items = [21, 11, 9, 34, 25] summantion of size =  100\n"
          ]
        }
      ]
    }
  ]
}