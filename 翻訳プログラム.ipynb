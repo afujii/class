{
  "nbformat": 4,
  "nbformat_minor": 0,
  "metadata": {
    "colab": {
      "name": "翻訳プログラム.ipynb",
      "provenance": [],
      "authorship_tag": "ABX9TyPRj91kFIqVFby01sf04xYj",
      "include_colab_link": true
    },
    "kernelspec": {
      "name": "python3",
      "display_name": "Python 3"
    },
    "language_info": {
      "name": "python"
    }
  },
  "cells": [
    {
      "cell_type": "markdown",
      "metadata": {
        "id": "view-in-github",
        "colab_type": "text"
      },
      "source": [
        "<a href=\"https://colab.research.google.com/github/afujii/class/blob/main/%E7%BF%BB%E8%A8%B3%E3%83%97%E3%83%AD%E3%82%B0%E3%83%A9%E3%83%A0.ipynb\" target=\"_parent\"><img src=\"https://colab.research.google.com/assets/colab-badge.svg\" alt=\"Open In Colab\"/></a>"
      ]
    },
    {
      "cell_type": "code",
      "source": [
        "EtoF = {'bread':'pain', 'wine':'vin', 'with':'avec', 'I':'Je',\n",
        "'eat':'mange', 'drink':'bois', 'John':'Jean',\n",
        "'friends':'amis', 'and': 'et', 'of':'du','red':'rouge'}\n",
        "FtoE = {'pain':'bread', 'vin':'wine', 'avec':'with', 'Je':'I',\n",
        "'mange':'eat', 'bois':'drink', 'Jean':'John',\n",
        "'amis':'friends', 'et':'and', 'du':'of', 'rouge':'red'}\n",
        "dicts = {'English to French':EtoF, 'French to English':FtoE}"
      ],
      "metadata": {
        "id": "yMdY80wjO6Un"
      },
      "execution_count": null,
      "outputs": []
    },
    {
      "cell_type": "code",
      "source": [
        "def translateWord(word, dictionary):\n",
        "  if word in dictionary.keys():\n",
        "    return dictionary[word]\n",
        "  elif word != '':\n",
        "    return '\"' + word + '\"'\n",
        "  return word\n",
        "print(translateWord('good',EtoF))"
      ],
      "metadata": {
        "colab": {
          "base_uri": "https://localhost:8080/"
        },
        "id": "T4baymVOPA6O",
        "outputId": "d69b6ca1-36ef-4bf1-ff50-4a6edddfeb7c"
      },
      "execution_count": null,
      "outputs": [
        {
          "output_type": "stream",
          "name": "stdout",
          "text": [
            "\"good\"\n"
          ]
        }
      ]
    },
    {
      "cell_type": "code",
      "source": [
        "def translate(phrase, dicts, direction):\n",
        "  UCLetters = 'ABCDEFGHIJKLMNOPQRSTUVWXYZ'\n",
        "  LCLetters = 'abcdefghijklmnopqrstuvwxyz'\n",
        "  letters = UCLetters + LCLetters\n",
        "  dictionary = dicts[direction]\n",
        "  translation = ''\n",
        "  word = ''\n",
        "  for c in phrase:\n",
        "    if c in letters:\n",
        "      word = word + c\n",
        "    else:\n",
        "      translation = translation + translateWord(word, dictionary) + c\n",
        "      word = ''\n",
        "  return translation + ' ' + translateWord(word, dictionary)"
      ],
      "metadata": {
        "id": "sbkvtDEpPRxH"
      },
      "execution_count": null,
      "outputs": []
    },
    {
      "cell_type": "code",
      "source": [
        "bun = translate('I drink good red wine, and eat bread.',dicts,'English to French')\n",
        "print(bun)"
      ],
      "metadata": {
        "colab": {
          "base_uri": "https://localhost:8080/"
        },
        "id": "PfTNsNrbP6Nn",
        "outputId": "d68114f0-8837-4975-a50d-e9c2a45a15eb"
      },
      "execution_count": null,
      "outputs": [
        {
          "output_type": "stream",
          "name": "stdout",
          "text": [
            "Je bois \"good\" rouge vin, et mange pain. \n"
          ]
        }
      ]
    }
  ]
}