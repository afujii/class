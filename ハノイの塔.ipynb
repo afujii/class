{
  "nbformat": 4,
  "nbformat_minor": 0,
  "metadata": {
    "colab": {
      "name": "ハノイの塔.ipynb",
      "provenance": [],
      "authorship_tag": "ABX9TyPEyDLQkRNedBlvTmTEGXRH",
      "include_colab_link": true
    },
    "kernelspec": {
      "name": "python3",
      "display_name": "Python 3"
    },
    "language_info": {
      "name": "python"
    }
  },
  "cells": [
    {
      "cell_type": "markdown",
      "metadata": {
        "id": "view-in-github",
        "colab_type": "text"
      },
      "source": [
        "<a href=\"https://colab.research.google.com/github/afujii/class/blob/main/%E3%83%8F%E3%83%8E%E3%82%A4%E3%81%AE%E5%A1%94.ipynb\" target=\"_parent\"><img src=\"https://colab.research.google.com/assets/colab-badge.svg\" alt=\"Open In Colab\"/></a>"
      ]
    },
    {
      "cell_type": "markdown",
      "metadata": {
        "id": "A9Fwt9rhxr77"
      },
      "source": [
        "# ハノイの塔のPythonコード"
      ]
    },
    {
      "cell_type": "code",
      "metadata": {
        "id": "ldDmohDaxoY7"
      },
      "source": [
        "class Tower: \n",
        "    \"\"\"塔の表現を行う\"\"\"\n",
        "    def __init__(self, name, n_disks = 0): \n",
        "        self.name = name\n",
        "        self.disks = []\n",
        "        for i in range(n_disks, 0, -1): \n",
        "            self.push(str(i))\n",
        "    def push(self, disk): \n",
        "        self.disks.append(disk)\n",
        "    def pop(self): \n",
        "        return self.disks.pop()\n",
        "    def __str__(self): \n",
        "        disks = ''.join('{:<2}'.format(d) for d in self.disks)\n",
        "        return '{}: {}'.format(self.name, disks)"
      ],
      "execution_count": 1,
      "outputs": []
    },
    {
      "cell_type": "code",
      "metadata": {
        "id": "zgsnQixIx4_7"
      },
      "source": [
        "class TowerOfHanoi:  \n",
        "    \"\"\"ハノイの塔、問題の解法を示す\"\"\"\n",
        "\n",
        "    def __init__(self, n_disk): \n",
        "        self.n_disk = n_disk\n",
        "        self.n_move = 0\n",
        "        self.prepare_towers()\n",
        "\n",
        "    def prepare_towers(self): \n",
        "        s = Tower('s', self.n_disk)\n",
        "        d = Tower('d')\n",
        "        e = Tower('e')\n",
        "        self.towers = [s, d, e]\n",
        "\n",
        "    def run(self): \n",
        "        self.show_towers()\n",
        "        s, d, e = self.towers\n",
        "        self.move_disk(s, d, e, self.n_disk)\n",
        "\n",
        "    def move_disk(self, s, d, e, n): \n",
        "        if n <= 0: \n",
        "            return\n",
        "\n",
        "        self.move_disk(s, e, d, n - 1)\n",
        "        self.n_move += 1\n",
        "        print('move disk-{} from {} to {} ({}).'.format(str(n), s.name, d.name, self.n_move))\n",
        "        disk = s.pop()\n",
        "        d.push(disk)\n",
        "        self.show_towers()\n",
        "        self.move_disk(e, d, s, n - 1)#再帰定義\n",
        "\n",
        "    def show_towers(self): \n",
        "        for t in self.towers: \n",
        "            print(t)\n"
      ],
      "execution_count": 2,
      "outputs": []
    },
    {
      "cell_type": "markdown",
      "metadata": {
        "id": "15NtgwdxyYZF"
      },
      "source": [
        "ディスクの数を　5とする。（９以上の値では計算量が大きすぎる）"
      ]
    },
    {
      "cell_type": "code",
      "metadata": {
        "colab": {
          "base_uri": "https://localhost:8080/"
        },
        "id": "jxlmT5-Xyci7",
        "outputId": "580fba0d-4a1c-4656-c981-631a4247801e"
      },
      "source": [
        "TOTAL_DISK = 5\n",
        "toh = TowerOfHanoi(TOTAL_DISK)\n",
        "toh.run()"
      ],
      "execution_count": 6,
      "outputs": [
        {
          "output_type": "stream",
          "name": "stdout",
          "text": [
            "s: 5 4 3 2 1 \n",
            "d: \n",
            "e: \n",
            "move disk-1 from s to d (1).\n",
            "s: 5 4 3 2 \n",
            "d: 1 \n",
            "e: \n",
            "move disk-2 from s to e (2).\n",
            "s: 5 4 3 \n",
            "d: 1 \n",
            "e: 2 \n",
            "move disk-1 from d to e (3).\n",
            "s: 5 4 3 \n",
            "d: \n",
            "e: 2 1 \n",
            "move disk-3 from s to d (4).\n",
            "s: 5 4 \n",
            "d: 3 \n",
            "e: 2 1 \n",
            "move disk-1 from e to s (5).\n",
            "s: 5 4 1 \n",
            "d: 3 \n",
            "e: 2 \n",
            "move disk-2 from e to d (6).\n",
            "s: 5 4 1 \n",
            "d: 3 2 \n",
            "e: \n",
            "move disk-1 from s to d (7).\n",
            "s: 5 4 \n",
            "d: 3 2 1 \n",
            "e: \n",
            "move disk-4 from s to e (8).\n",
            "s: 5 \n",
            "d: 3 2 1 \n",
            "e: 4 \n",
            "move disk-1 from d to e (9).\n",
            "s: 5 \n",
            "d: 3 2 \n",
            "e: 4 1 \n",
            "move disk-2 from d to s (10).\n",
            "s: 5 2 \n",
            "d: 3 \n",
            "e: 4 1 \n",
            "move disk-1 from e to s (11).\n",
            "s: 5 2 1 \n",
            "d: 3 \n",
            "e: 4 \n",
            "move disk-3 from d to e (12).\n",
            "s: 5 2 1 \n",
            "d: \n",
            "e: 4 3 \n",
            "move disk-1 from s to d (13).\n",
            "s: 5 2 \n",
            "d: 1 \n",
            "e: 4 3 \n",
            "move disk-2 from s to e (14).\n",
            "s: 5 \n",
            "d: 1 \n",
            "e: 4 3 2 \n",
            "move disk-1 from d to e (15).\n",
            "s: 5 \n",
            "d: \n",
            "e: 4 3 2 1 \n",
            "move disk-5 from s to d (16).\n",
            "s: \n",
            "d: 5 \n",
            "e: 4 3 2 1 \n",
            "move disk-1 from e to s (17).\n",
            "s: 1 \n",
            "d: 5 \n",
            "e: 4 3 2 \n",
            "move disk-2 from e to d (18).\n",
            "s: 1 \n",
            "d: 5 2 \n",
            "e: 4 3 \n",
            "move disk-1 from s to d (19).\n",
            "s: \n",
            "d: 5 2 1 \n",
            "e: 4 3 \n",
            "move disk-3 from e to s (20).\n",
            "s: 3 \n",
            "d: 5 2 1 \n",
            "e: 4 \n",
            "move disk-1 from d to e (21).\n",
            "s: 3 \n",
            "d: 5 2 \n",
            "e: 4 1 \n",
            "move disk-2 from d to s (22).\n",
            "s: 3 2 \n",
            "d: 5 \n",
            "e: 4 1 \n",
            "move disk-1 from e to s (23).\n",
            "s: 3 2 1 \n",
            "d: 5 \n",
            "e: 4 \n",
            "move disk-4 from e to d (24).\n",
            "s: 3 2 1 \n",
            "d: 5 4 \n",
            "e: \n",
            "move disk-1 from s to d (25).\n",
            "s: 3 2 \n",
            "d: 5 4 1 \n",
            "e: \n",
            "move disk-2 from s to e (26).\n",
            "s: 3 \n",
            "d: 5 4 1 \n",
            "e: 2 \n",
            "move disk-1 from d to e (27).\n",
            "s: 3 \n",
            "d: 5 4 \n",
            "e: 2 1 \n",
            "move disk-3 from s to d (28).\n",
            "s: \n",
            "d: 5 4 3 \n",
            "e: 2 1 \n",
            "move disk-1 from e to s (29).\n",
            "s: 1 \n",
            "d: 5 4 3 \n",
            "e: 2 \n",
            "move disk-2 from e to d (30).\n",
            "s: 1 \n",
            "d: 5 4 3 2 \n",
            "e: \n",
            "move disk-1 from s to d (31).\n",
            "s: \n",
            "d: 5 4 3 2 1 \n",
            "e: \n"
          ]
        }
      ]
    }
  ]
}